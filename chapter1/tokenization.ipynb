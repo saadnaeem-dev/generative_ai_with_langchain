{
 "cells": [
  {
   "cell_type": "code",
   "execution_count": 1,
   "id": "8f137fc7-93e8-4600-973b-f01ab01b2806",
   "metadata": {},
   "outputs": [
    {
     "name": "stdout",
     "output_type": "stream",
     "text": [
      "[CLS] the quick brown fox jumps over the lazy dog! [SEP]\n",
      "[101, 1996, 4248, 2829, 4419, 14523, 2058, 1996, 13971, 3899, 999, 102]\n",
      "[CLS], the, quick, brown, fox, jumps, over, the, lazy, dog, !, [SEP]\n"
     ]
    }
   ],
   "source": [
    "from transformers import AutoTokenizer\n",
    "\n",
    "# Load a pre-trained tokenizer\n",
    "model_name = \"meta-llama/Meta-Llama-3-8B\"  # deepseek-ai/DeepSeek-V2\"\n",
    "tokenizer = AutoTokenizer.from_pretrained(\"bert-base-uncased\")\n",
    "\n",
    "# Tokenize a text\n",
    "text = \"The quick brown fox jumps over the lazy dog!\"\n",
    "\n",
    "encoded_text = tokenizer(text)\n",
    "\n",
    "# Access the tokenized IDs\n",
    "print(tokenizer.decode(encoded_text[\"input_ids\"]))\n",
    "\n",
    "print(encoded_text[\"input_ids\"])\n",
    "print(\", \".join([tokenizer.decode(t) for t in encoded_text[\"input_ids\"]]))"
   ]
  },
  {
   "cell_type": "code",
   "execution_count": null,
   "id": "2bb08b88-680e-45f1-b75a-c0f3d757d357",
   "metadata": {},
   "outputs": [],
   "source": []
  }
 ],
 "metadata": {
  "kernelspec": {
   "display_name": "Python 3 (ipykernel)",
   "language": "python",
   "name": "python3"
  },
  "language_info": {
   "codemirror_mode": {
    "name": "ipython",
    "version": 3
   },
   "file_extension": ".py",
   "mimetype": "text/x-python",
   "name": "python",
   "nbconvert_exporter": "python",
   "pygments_lexer": "ipython3",
   "version": "3.11.11"
  }
 },
 "nbformat": 4,
 "nbformat_minor": 5
}
