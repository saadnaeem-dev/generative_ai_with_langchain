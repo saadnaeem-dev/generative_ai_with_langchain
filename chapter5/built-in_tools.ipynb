{
  "cells": [
    {
      "cell_type": "code",
      "execution_count": null,
      "id": "sNjI6aGKBzAJ0aIcO0YDYpWs",
      "metadata": {
        "executionInfo": {
          "elapsed": 4176,
          "status": "ok",
          "timestamp": 1741671166847,
          "user": {
            "displayName": "",
            "userId": ""
          },
          "user_tz": -60
        },
        "id": "sNjI6aGKBzAJ0aIcO0YDYpWs",
        "tags": []
      },
      "outputs": [],
      "source": [
        "from langchain_google_vertexai import ChatVertexAI\n",
        "\n",
        "llm = ChatVertexAI(model=\"gemini-2.0-flash-001\")"
      ]
    },
    {
      "cell_type": "markdown",
      "id": "KdEC7GQhCFHF",
      "metadata": {
        "id": "KdEC7GQhCFHF"
      },
      "source": [
        "# Built-in tools"
      ]
    },
    {
      "cell_type": "markdown",
      "id": "1f2d3d10",
      "metadata": {
        "id": "1f2d3d10"
      },
      "source": [
        "An example of using a search engine as a tool. Let's create one based on DuckDuckGo search and explore its name, description and arguments' schema:"
      ]
    },
    {
      "cell_type": "code",
      "execution_count": 4,
      "id": "3yNkoTHzCGxB",
      "metadata": {
        "colab": {
          "base_uri": "https://localhost:8080/"
        },
        "executionInfo": {
          "elapsed": 2,
          "status": "ok",
          "timestamp": 1741671173941,
          "user": {
            "displayName": "",
            "userId": ""
          },
          "user_tz": -60
        },
        "id": "3yNkoTHzCGxB",
        "outputId": "40605938-02ea-48d1-a437-d8382263e858"
      },
      "outputs": [
        {
          "name": "stdout",
          "output_type": "stream",
          "text": [
            "Tool's name = duckduckgo_search\n",
            "Tool's name = A wrapper around DuckDuckGo Search. Useful for when you need to answer questions about current events. Input should be a search query.\n",
            "Tool's arg schema = <class 'langchain_community.tools.ddg_search.tool.DDGInput'>\n"
          ]
        }
      ],
      "source": [
        "from langchain_community.tools import DuckDuckGoSearchRun\n",
        "\n",
        "search = DuckDuckGoSearchRun()\n",
        "print(f\"Tool's name = {search.name}\")\n",
        "print(f\"Tool's name = {search.description}\")\n",
        "print(f\"Tool's arg schema = {search.args_schema}\")"
      ]
    },
    {
      "cell_type": "code",
      "execution_count": 5,
      "id": "z_x1y9BmDZin",
      "metadata": {
        "colab": {
          "base_uri": "https://localhost:8080/"
        },
        "executionInfo": {
          "elapsed": 3,
          "status": "ok",
          "timestamp": 1741671174895,
          "user": {
            "displayName": "",
            "userId": ""
          },
          "user_tz": -60
        },
        "id": "z_x1y9BmDZin",
        "outputId": "4dd22b69-e69f-41b8-b952-35282c982496"
      },
      "outputs": [
        {
          "name": "stdout",
          "output_type": "stream",
          "text": [
            "{'query': FieldInfo(annotation=str, required=True, description='search query to look up')}\n"
          ]
        }
      ],
      "source": [
        "from langchain_community.tools.ddg_search.tool import DDGInput\n",
        "\n",
        "print(DDGInput.__fields__)"
      ]
    },
    {
      "cell_type": "markdown",
      "id": "691b4e5f",
      "metadata": {
        "id": "691b4e5f"
      },
      "source": [
        "Let's run the tool:"
      ]
    },
    {
      "cell_type": "code",
      "execution_count": 6,
      "id": "D0nSfgwqCLNz",
      "metadata": {
        "colab": {
          "base_uri": "https://localhost:8080/"
        },
        "executionInfo": {
          "elapsed": 1120,
          "status": "ok",
          "timestamp": 1741671177933,
          "user": {
            "displayName": "",
            "userId": ""
          },
          "user_tz": -60
        },
        "id": "D0nSfgwqCLNz",
        "outputId": "79fb6d5f-6915-42d5-ef04-2811ac896975"
      },
      "outputs": [
        {
          "name": "stdout",
          "output_type": "stream",
          "text": [
            "Detailed weather forecast ⚡ in Munich, Bavaria today, tomorrow and 7 days. Wind, precipitation, 🌡️ air temperature, clouds and atmospheric pressure - World-Weather.info ... weather in Munich +57°F. Clear sky, Light Breeze, Northeast 4.5 mph. Atmosphere pressure 28.2 inHg. ... feels like +34°F. The warmest day will be on Thursday, 13 ... The temperature in Munich tomorrow in the early morning is 3 ° C.. If you take into account factors such as wind, humidity and other weather conditions, the temperatures can feel like 1 ° C.. The chance of rain in Munich in the morning is 0%, and the wind will blow at 5 km/h. Munich Weather Forecasts. Weather Underground provides local & long-range weather forecasts, weatherreports, maps & tropical weather conditions for the Munich area. ... Tomorrow will be 3 minutes ... Get the latest hourly weather updates for Bavaria tomorrow. Detailed forecast including temperature, wind, rain, snow, and UV index. ... Forecast March April Annual Today Tomorrow History Webcam. Bavaria (Munich) ... feels like: 6.1 ... On Sunday, in Munich, bright and sunny weather is anticipated. The temperature is expected to vary between an enjoyable 17°C (62.6°F) and a cold 5°C (41°F). The maximum temperature will be higher and more in line with April's average highest temperature of 12.5°C (54.5°F) than March's of 9°C (48.2°F). Sunrise will be at 06:36 and sunset at 18:11; the daylight will last for 11h and 35min.\n"
          ]
        }
      ],
      "source": [
        "query = \"What is the weather in Munich like tomorrow?\"\n",
        "search_input = DDGInput(query=query)\n",
        "result = search.invoke(search_input.dict())\n",
        "print(result)"
      ]
    },
    {
      "cell_type": "markdown",
      "id": "7c40978b",
      "metadata": {
        "id": "7c40978b"
      },
      "source": [
        "Now let's enhance an LLM with this tool:"
      ]
    },
    {
      "cell_type": "code",
      "execution_count": 15,
      "id": "r3d4kLcNbSna",
      "metadata": {
        "colab": {
          "base_uri": "https://localhost:8080/"
        },
        "executionInfo": {
          "elapsed": 642,
          "status": "ok",
          "timestamp": 1741671295697,
          "user": {
            "displayName": "",
            "userId": ""
          },
          "user_tz": -60
        },
        "id": "r3d4kLcNbSna",
        "outputId": "d60a0fe5-19ed-42dd-a2cf-9f661b7b8b78"
      },
      "outputs": [
        {
          "name": "stdout",
          "output_type": "stream",
          "text": [
            "{'name': 'duckduckgo_search', 'args': {'query': 'weather in Munich tomorrow'}, 'id': '1477289e-559b-493a-9228-416fd567087d', 'type': 'tool_call'}\n"
          ]
        }
      ],
      "source": [
        "result = llm.invoke([(\"system\", \"Always use a duckduckgo_search tool for queries that require a fresh information\"), (\"user\", query)], tools=[search])\n",
        "print(result.tool_calls[0])"
      ]
    },
    {
      "cell_type": "markdown",
      "id": "9pVVmvArs9aY",
      "metadata": {
        "id": "9pVVmvArs9aY"
      },
      "source": [
        "And we can double-check that the model invokes a search tool only when needed:"
      ]
    },
    {
      "cell_type": "code",
      "execution_count": 18,
      "id": "jNiCHnb8sykM",
      "metadata": {
        "executionInfo": {
          "elapsed": 693,
          "status": "ok",
          "timestamp": 1741671352990,
          "user": {
            "displayName": "",
            "userId": ""
          },
          "user_tz": -60
        },
        "id": "jNiCHnb8sykM"
      },
      "outputs": [],
      "source": [
        "result = llm.invoke([(\"system\", \"Always use a duckduckgo_search tool for queries that require a fresh information\"), (\"user\", \"How much is 2+2?\")], tools=[search])\n",
        "assert not result.tool_calls"
      ]
    },
    {
      "cell_type": "markdown",
      "id": "7e218660",
      "metadata": {
        "id": "7e218660"
      },
      "source": [
        "And we can create a ReACT agent that uses this tool, and explore its workflow graph:"
      ]
    },
    {
      "cell_type": "code",
      "execution_count": 21,
      "id": "2uYnZPmgCehC",
      "metadata": {
        "colab": {
          "base_uri": "https://localhost:8080/",
          "height": 266
        },
        "executionInfo": {
          "elapsed": 5,
          "status": "ok",
          "timestamp": 1741671420509,
          "user": {
            "displayName": "",
            "userId": ""
          },
          "user_tz": -60
        },
        "id": "2uYnZPmgCehC",
        "outputId": "68e50780-87a1-497a-be22-906fc64bfb81"
      },
      "outputs": [
        {
          "data": {
            "image/png": "[encoded data removed]",
            "text/plain": [
              "<IPython.core.display.Image object>"
            ]
          },
          "metadata": {},
          "output_type": "display_data"
        }
      ],
      "source": [
        "from langgraph.prebuilt import create_react_agent\n",
        "from IPython.display import Image, display\n",
        "\n",
        "agent = create_react_agent(\n",
        "  model=llm,\n",
        "  tools=[search],\n",
        "  state_modifier=\"Always use a duckduckgo_search tool for queries that require a fresh information\"\n",
        ")\n",
        "\n",
        "display(Image(agent.get_graph().draw_mermaid_png()))"
      ]
    },
    {
      "cell_type": "markdown",
      "id": "32bfc4ee",
      "metadata": {
        "id": "32bfc4ee"
      },
      "source": [
        "If we run it, we can see the tool calls appearing during execution:"
      ]
    },
    {
      "cell_type": "code",
      "execution_count": 22,
      "id": "gI7XZBU-0FZJ",
      "metadata": {
        "colab": {
          "base_uri": "https://localhost:8080/"
        },
        "executionInfo": {
          "elapsed": 2010,
          "status": "ok",
          "timestamp": 1741671425384,
          "user": {
            "displayName": "",
            "userId": ""
          },
          "user_tz": -60
        },
        "id": "gI7XZBU-0FZJ",
        "outputId": "2d6511fd-fb40-4868-945d-4b835c50d497"
      },
      "outputs": [
        {
          "name": "stdout",
          "output_type": "stream",
          "text": [
            "==================================\u001b[1m Ai Message \u001b[0m==================================\n",
            "Tool Calls:\n",
            "  duckduckgo_search (0e746ee3-a54d-418a-a9b5-c9cbe57e2094)\n",
            " Call ID: 0e746ee3-a54d-418a-a9b5-c9cbe57e2094\n",
            "  Args:\n",
            "    query: weather in Munich tomorrow\n",
            "=================================\u001b[1m Tool Message \u001b[0m=================================\n",
            "Name: duckduckgo_search\n",
            "\n",
            "Daily weather forecast. Today, 08 March, weather in Munich +57°F. Clear sky, Light Breeze, Northeast 4.5 mph. Atmosphere pressure 28.2 inHg. Relative humidity 33%. Tomorrow's night air temperature will drop to +41°F, wind will change to South 2.7 mph. Pressure will go down and amount to 28 inHg. The temperature in Munich tomorrow in the early morning is 3 ° C.. If you take into account factors such as wind, humidity and other weather conditions, the temperatures can feel like 1 ° C.. The chance of rain in Munich in the morning is 0%, and the wind will blow at 5 km/h. Munich Weather Forecasts. Weather Underground provides local & long-range weather forecasts, weatherreports, maps & tropical weather conditions for the Munich area. ... Tomorrow will be 3 minutes ... 12 day Munich Weather Forecast. Live Weather Warnings, hourly weather updates. Accurate Munich weather today, forecast for sun, rain, wind and temperature. Accurate hourly weather forecast for Munich, Upper Bavaria, DE including all the relevant parameters like temperature, feels like temperature, wind and gusts, chance of precipitation, and much more from Foreca. ... The hourly local weather forecast shows hour by hour weather conditions like temperature, feels like temperature, humidity, amount ...\n",
            "==================================\u001b[1m Ai Message \u001b[0m==================================\n",
            "\n",
            "The weather in Munich tomorrow will be around 3°C in the early morning, but it will feel like 1°C. The chance of rain is 0%, and the wind will blow at 5 km/h. The night air temperature will drop to +41°F, and the wind will change to South 2.7 mph.\n"
          ]
        }
      ],
      "source": [
        "for event in agent.stream({\"messages\": [(\"user\", query)]}):\n",
        "  messages = event.get(\"agent\", event.get(\"tools\", {})).get(\"messages\", [])\n",
        "  for m in messages:\n",
        "     m.pretty_print()\n"
      ]
    },
    {
      "cell_type": "markdown",
      "id": "a4a9827a",
      "metadata": {
        "id": "a4a9827a"
      },
      "source": [
        "We can also create a tool ourselves from other building blocks:"
      ]
    },
    {
      "cell_type": "code",
      "execution_count": 23,
      "id": "e0-AG1w0CUVR",
      "metadata": {
        "executionInfo": {
          "elapsed": 300,
          "status": "ok",
          "timestamp": 1741671429909,
          "user": {
            "displayName": "",
            "userId": ""
          },
          "user_tz": -60
        },
        "id": "e0-AG1w0CUVR"
      },
      "outputs": [],
      "source": [
        "from langchain_core.tools import Tool\n",
        "from langchain_experimental.utilities import PythonREPL\n",
        "\n",
        "python_repl = PythonREPL()\n",
        "python_repl.run(\"print(2**4)\")\n",
        "\n",
        "code_interpreter_tool = Tool(\n",
        "    name=\"python_repl\",\n",
        "    description=\"A Python shell. Use this to execute python commands. Input should be a valid python command. If you want to see the output of a value, you should print it out with `print(...)`.\",\n",
        "    func=python_repl.run,\n",
        ")"
      ]
    },
    {
      "cell_type": "markdown",
      "id": "e1dcd841",
      "metadata": {
        "id": "e1dcd841"
      },
      "source": [
        "This is a famous failure of an LLM:"
      ]
    },
    {
      "cell_type": "code",
      "execution_count": 44,
      "id": "UBcZAqiEtUKX",
      "metadata": {
        "executionInfo": {
          "elapsed": 308,
          "status": "ok",
          "timestamp": 1741671510650,
          "user": {
            "displayName": "",
            "userId": ""
          },
          "user_tz": -60
        },
        "id": "UBcZAqiEtUKX"
      },
      "outputs": [],
      "source": [
        "llm = ChatVertexAI(model=\"gemini-2.0-flash-001\", temperature=2.0)"
      ]
    },
    {
      "cell_type": "code",
      "execution_count": 47,
      "id": "fITV0-OOIWtm",
      "metadata": {
        "colab": {
          "base_uri": "https://localhost:8080/"
        },
        "executionInfo": {
          "elapsed": 358,
          "status": "ok",
          "timestamp": 1741671539609,
          "user": {
            "displayName": "",
            "userId": ""
          },
          "user_tz": -60
        },
        "id": "fITV0-OOIWtm",
        "outputId": "d1216a9d-4aba-4f5c-cc9d-b8c3c5abc6b1"
      },
      "outputs": [
        {
          "name": "stdout",
          "output_type": "stream",
          "text": [
            "There are three \"r\"s in the word \"strawberry\".\n",
            "\n"
          ]
        }
      ],
      "source": [
        "query_strawberry = \"How many r are in the word strawberry?\"\n",
        "print(llm.invoke(query_strawberry).content)"
      ]
    },
    {
      "cell_type": "markdown",
      "id": "4IyjlM1SttXk",
      "metadata": {
        "id": "4IyjlM1SttXk"
      },
      "source": [
        "But we can see that ReACT agent easily solved this problem by invoking an external tool:"
      ]
    },
    {
      "cell_type": "code",
      "execution_count": 48,
      "id": "M0DROwarIWwk",
      "metadata": {
        "colab": {
          "base_uri": "https://localhost:8080/"
        },
        "executionInfo": {
          "elapsed": 866,
          "status": "ok",
          "timestamp": 1741671544045,
          "user": {
            "displayName": "",
            "userId": ""
          },
          "user_tz": -60
        },
        "id": "M0DROwarIWwk",
        "outputId": "6b61a27a-09a0-4308-ae04-bca4caf305ef"
      },
      "outputs": [
        {
          "name": "stdout",
          "output_type": "stream",
          "text": [
            "==================================\u001b[1m Ai Message \u001b[0m==================================\n",
            "Tool Calls:\n",
            "  python_repl (2e49bca7-977e-418e-b8df-124f263ff4ec)\n",
            " Call ID: 2e49bca7-977e-418e-b8df-124f263ff4ec\n",
            "  Args:\n",
            "    __arg1: print('strawberry'.count('r'))\n",
            "=================================\u001b[1m Tool Message \u001b[0m=================================\n",
            "Name: python_repl\n",
            "\n",
            "3\n",
            "\n",
            "==================================\u001b[1m Ai Message \u001b[0m==================================\n",
            "\n",
            "There are 3 r's in the word strawberry.\n"
          ]
        }
      ],
      "source": [
        "agent = create_react_agent(\n",
        "  model=llm,\n",
        "  tools=[code_interpreter_tool])\n",
        "\n",
        "for event in agent.stream({\"messages\": [(\"user\", query_strawberry)]}):\n",
        "  messages = event.get(\"agent\", event.get(\"tools\", {})).get(\"messages\", [])\n",
        "  for m in messages:\n",
        "     m.pretty_print()"
      ]
    },
    {
      "cell_type": "markdown",
      "id": "af8f33c7",
      "metadata": {
        "id": "af8f33c7"
      },
      "source": [
        "We can also use any third-pary API by wrapping it a tool. But first, we need to define a schema (below is an example for an open-sourced [exchange rates API](https://api.frankfurter.dev/v1)):"
      ]
    },
    {
      "cell_type": "code",
      "execution_count": 49,
      "id": "5MorOS6SNSWa",
      "metadata": {
        "executionInfo": {
          "elapsed": 323,
          "status": "ok",
          "timestamp": 1741671574007,
          "user": {
            "displayName": "",
            "userId": ""
          },
          "user_tz": -60
        },
        "id": "5MorOS6SNSWa"
      },
      "outputs": [],
      "source": [
        "api_spec = \"\"\"\n",
        "openapi: 3.0.0\n",
        "info:\n",
        "  title: Frankfurter Currency Exchange API\n",
        "  version: v1\n",
        "  description: API for retrieving currency exchange rates. Pay attention to the base currency and change it if needed.\n",
        "\n",
        "servers:\n",
        "  - url: https://api.frankfurter.dev/v1\n",
        "\n",
        "paths:\n",
        "  /v1/{date}:\n",
        "    get:\n",
        "      summary: Get exchange rates for a specific date.\n",
        "      parameters:\n",
        "        - in: path\n",
        "          name: date\n",
        "          schema:\n",
        "            type: string\n",
        "            pattern: '^\\d{4}-\\d{2}-\\d{2}$' # YYYY-MM-DD format\n",
        "          required: true\n",
        "          description: The date for which to retrieve exchange rates.  Use YYYY-MM-DD format.  Example: 2009-01-04\n",
        "        - in: query\n",
        "          name: symbols\n",
        "          schema:\n",
        "            type: string\n",
        "          description: Comma-separated list of currency symbols to retrieve rates for. Example: GBP,USD,EUR\n",
        "\n",
        "  /v1/latest:\n",
        "    get:\n",
        "      summary: Get the latest exchange rates.\n",
        "      parameters:\n",
        "        - in: query\n",
        "          name: symbols\n",
        "          schema:\n",
        "            type: string\n",
        "          description: Comma-separated list of currency symbols to retrieve rates for. Example: CHF,GBP\n",
        "        - in: query\n",
        "          name: base\n",
        "          schema:\n",
        "            type: string\n",
        "          description: The base currency for the exchange rates. If not provided, EUR is used as a base currency. Example: USD\n",
        "\"\"\""
      ]
    },
    {
      "cell_type": "markdown",
      "id": "0766a1af",
      "metadata": {
        "id": "0766a1af"
      },
      "source": [
        "We can wrap it with an out-of-the-box `TextRequestsWrapper`:"
      ]
    },
    {
      "cell_type": "code",
      "execution_count": 50,
      "id": "-SRXlQqkORD9",
      "metadata": {
        "colab": {
          "base_uri": "https://localhost:8080/"
        },
        "executionInfo": {
          "elapsed": 621,
          "status": "ok",
          "timestamp": 1741671576573,
          "user": {
            "displayName": "",
            "userId": ""
          },
          "user_tz": -60
        },
        "id": "-SRXlQqkORD9",
        "outputId": "314621a3-7133-4a22-d7ee-90437637bad9"
      },
      "outputs": [
        {
          "name": "stdout",
          "output_type": "stream",
          "text": [
            "requests_get\n",
            "requests_post\n",
            "requests_patch\n",
            "requests_put\n",
            "requests_delete\n"
          ]
        }
      ],
      "source": [
        "from langchain_community.agent_toolkits.openapi.toolkit import RequestsToolkit\n",
        "from langchain_community.utilities.requests import TextRequestsWrapper\n",
        "\n",
        "toolkit = RequestsToolkit(\n",
        "    requests_wrapper=TextRequestsWrapper(headers={}),\n",
        "    allow_dangerous_requests=True,\n",
        ")\n",
        "\n",
        "for tool in toolkit.get_tools():\n",
        "  print(tool.name)"
      ]
    },
    {
      "cell_type": "markdown",
      "id": "62cdd65d",
      "metadata": {
        "id": "62cdd65d"
      },
      "source": [
        "Our ReACT agent now looks like this (note, that we have modified the system message):"
      ]
    },
    {
      "cell_type": "code",
      "execution_count": 51,
      "id": "bA7uaYWGNhz0",
      "metadata": {
        "colab": {
          "base_uri": "https://localhost:8080/"
        },
        "executionInfo": {
          "elapsed": 1567,
          "status": "ok",
          "timestamp": 1741671580658,
          "user": {
            "displayName": "",
            "userId": ""
          },
          "user_tz": -60
        },
        "id": "bA7uaYWGNhz0",
        "outputId": "b5f2d1f9-3585-4eec-c6c3-bfd976012992"
      },
      "outputs": [
        {
          "name": "stdout",
          "output_type": "stream",
          "text": [
            "================================\u001b[1m Human Message \u001b[0m=================================\n",
            "\n",
            "What is the swiss franc to US dollar exchange rate?\n",
            "==================================\u001b[1m Ai Message \u001b[0m==================================\n",
            "Tool Calls:\n",
            "  requests_get (0978a563-9a08-4b82-a2cf-82f272601267)\n",
            " Call ID: 0978a563-9a08-4b82-a2cf-82f272601267\n",
            "  Args:\n",
            "    url: https://api.frankfurter.dev/v1/latest?symbols=USD&base=CHF\n",
            "=================================\u001b[1m Tool Message \u001b[0m=================================\n",
            "Name: requests_get\n",
            "\n",
            "{\"amount\":1.0,\"base\":\"CHF\",\"date\":\"2025-03-10\",\"rates\":{\"USD\":1.1401}}\n",
            "==================================\u001b[1m Ai Message \u001b[0m==================================\n",
            "\n",
            "The Swiss Franc to US Dollar exchange rate is 1.1401.\n"
          ]
        }
      ],
      "source": [
        "system_message = (\n",
        "  \"You're given the API spec:\\n{api_spec}\\n\"\n",
        "  \"Use the API to answer users' queries if possible. \"\n",
        ")\n",
        "\n",
        "agent = create_react_agent(llm, toolkit.get_tools(), state_modifier=system_message.format(api_spec=api_spec))\n",
        "\n",
        "query = \"What is the swiss franc to US dollar exchange rate?\"\n",
        "\n",
        "events = agent.stream(\n",
        "    {\"messages\": [(\"user\", query)]},\n",
        "    stream_mode=\"values\",\n",
        ")\n",
        "for event in events:\n",
        "    event[\"messages\"][-1].pretty_print()"
      ]
    }
  ],
  "metadata": {
    "colab": {
      "name": "built-in_tools.ipynb",
      "provenance": []
    },
    "kernelspec": {
      "display_name": "Python 3",
      "language": "python",
      "name": "python3"
    },
    "language_info": {
      "codemirror_mode": {
        "name": "ipython",
        "version": 3
      },
      "file_extension": ".py",
      "mimetype": "text/x-python",
      "name": "python",
      "nbconvert_exporter": "python",
      "pygments_lexer": "ipython3",
      "version": "3.10.10"
    }
  },
  "nbformat": 4,
  "nbformat_minor": 5
}
