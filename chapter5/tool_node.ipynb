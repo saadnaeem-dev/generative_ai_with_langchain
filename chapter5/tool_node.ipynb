{
  "cells": [
    {
      "cell_type": "code",
      "execution_count": null,
      "id": "sNjI6aGKBzAJ0aIcO0YDYpWs",
      "metadata": {
        "id": "sNjI6aGKBzAJ0aIcO0YDYpWs",
        "tags": []
      },
      "outputs": [],
      "source": [
        "from langchain_google_vertexai import ChatVertexAI\n",
        "from langchain_core.prompts import PromptTemplate\n",
        "\n",
        "llm = ChatVertexAI(model=\"gemini-2.0-flash-001\")"
      ]
    },
    {
      "cell_type": "markdown",
      "id": "PvGgf59jxssG",
      "metadata": {
        "id": "PvGgf59jxssG"
      },
      "source": [
        "# ToolNode"
      ]
    },
    {
      "cell_type": "markdown",
      "id": "762549e5",
      "metadata": {},
      "source": [
        "We will re-use tools we created before:"
      ]
    },
    {
      "cell_type": "code",
      "execution_count": null,
      "id": "U_waM_l1xzUz",
      "metadata": {
        "id": "U_waM_l1xzUz"
      },
      "outputs": [],
      "source": [
        "import math\n",
        "import numexpr as ne\n",
        "from langchain_core.tools import tool\n",
        "from langchain_community.tools import DuckDuckGoSearchRun\n",
        "\n",
        "\n",
        "search = DuckDuckGoSearchRun()\n",
        "\n",
        "@tool\n",
        "def calculator(expression: str) -> str:\n",
        "    \"\"\"Calculates a single mathematical expression, incl. complex numbers.\n",
        "\n",
        "    Always add * to operations, examples:\n",
        "      73i -> 73*i\n",
        "      7pi**2 -> 7*pi**2\n",
        "    \"\"\"\n",
        "    math_constants = {\"pi\": math.pi, \"i\": 1j, \"e\": math.exp}\n",
        "    result = ne.evaluate(expression.strip(), local_dict=math_constants)\n",
        "    return str(result)\n",
        "\n",
        "\n",
        "llm_with_tools = ChatVertexAI(model=\"gemini-2.0-flash-001\").bind_tools([search, calculator])"
      ]
    },
    {
      "cell_type": "markdown",
      "id": "21e0c5a7",
      "metadata": {},
      "source": [
        "We will build our own ReACT agent, but this time we will use a `ToolNode` to execute tool calls automatically:"
      ]
    },
    {
      "cell_type": "code",
      "execution_count": null,
      "id": "gZANTqGwxtn2",
      "metadata": {
        "id": "gZANTqGwxtn2"
      },
      "outputs": [],
      "source": [
        "from langgraph.prebuilt import ToolNode, tools_condition\n",
        "from langgraph.graph import MessagesState, StateGraph, START, END\n",
        "\n",
        "def invoke_llm(state: MessagesState):\n",
        "    return {\"messages\": [llm_with_tools.invoke(state[\"messages\"])]}\n",
        "\n",
        "builder = StateGraph(MessagesState)\n",
        "builder.add_node(\"invoke_llm\", invoke_llm)\n",
        "builder.add_node(\"tools\", ToolNode([search, calculator]))\n",
        "\n",
        "builder.add_edge(START, \"invoke_llm\")\n",
        "builder.add_conditional_edges(\"invoke_llm\", tools_condition)\n",
        "builder.add_edge(\"tools\", \"invoke_llm\")\n",
        "builder.add_edge(\"tools\", END)\n",
        "builder.add_edge(\"invoke_llm\", END)\n",
        "graph = builder.compile()"
      ]
    },
    {
      "cell_type": "code",
      "execution_count": null,
      "id": "fvpDyauPyJkz",
      "metadata": {
        "colab": {
          "base_uri": "https://localhost:8080/"
        },
        "executionInfo": {
          "elapsed": 986,
          "status": "ok",
          "timestamp": 1738938075149,
          "user": {
            "displayName": "",
            "userId": ""
          },
          "user_tz": -60
        },
        "id": "fvpDyauPyJkz",
        "outputId": "72423461-e2cd-4c75-fcba-d1b49c2c339d"
      },
      "outputs": [
        {
          "name": "stdout",
          "output_type": "stream",
          "text": [
            "{'invoke_llm': {'messages': [AIMessage(content='', additional_kwargs={'function_call': {'name': 'calculator', 'arguments': '{\"expression\": \"2+2\"}'}}, response_metadata={'is_blocked': False, 'safety_ratings': [], 'usage_metadata': {'prompt_token_count': 95, 'candidates_token_count': 5, 'total_token_count': 100, 'cached_content_token_count': 0}, 'finish_reason': 'STOP', 'avg_logprobs': -4.0858518332242966e-05}, id='run-56f3fb75-3c82-4e03-84fe-b5d6cd1b5389-0', tool_calls=[{'name': 'calculator', 'args': {'expression': '2+2'}, 'id': '72c9ac3c-6057-4953-b958-95cc3df1d6e1', 'type': 'tool_call'}], usage_metadata={'input_tokens': 95, 'output_tokens': 5, 'total_tokens': 100})]}}\n",
            "{'tools': {'messages': [ToolMessage(content='4', name='calculator', id='74c47f98-cc52-424b-90b2-b5fa3f398632', tool_call_id='72c9ac3c-6057-4953-b958-95cc3df1d6e1')]}}\n",
            "{'invoke_llm': {'messages': [AIMessage(content='2+2 is 4.\\n', additional_kwargs={}, response_metadata={'is_blocked': False, 'safety_ratings': [], 'usage_metadata': {'prompt_token_count': 103, 'candidates_token_count': 8, 'total_token_count': 111, 'cached_content_token_count': 0}, 'finish_reason': 'STOP', 'avg_logprobs': -0.00451038870960474}, id='run-352570b4-ed7e-4f5a-bc14-76b9119473f2-0', usage_metadata={'input_tokens': 103, 'output_tokens': 8, 'total_tokens': 111})]}}\n"
          ]
        }
      ],
      "source": [
        "for e in graph.stream({\"messages\": (\"human\", \"How much is 2+2\")}):\n",
        "  print(e)"
      ]
    },
    {
      "cell_type": "markdown",
      "id": "YKx767hqzKEb",
      "metadata": {
        "id": "YKx767hqzKEb"
      },
      "source": [
        "Now we will look at examples how to use custom tools to easily extract dates from user input:"
      ]
    },
    {
      "cell_type": "code",
      "execution_count": null,
      "id": "ZEBfikxSzTCQ",
      "metadata": {
        "id": "ZEBfikxSzTCQ"
      },
      "outputs": [],
      "source": [
        "examples = [\n",
        "  \"I signed my contract 2 years ago\",\n",
        "  \"I started the deal with your company in February last year\",\n",
        "  \"Our contract started on March 24th two years ago\"\n",
        "]"
      ]
    },
    {
      "cell_type": "code",
      "execution_count": null,
      "id": "r7aciBREzglL",
      "metadata": {
        "id": "r7aciBREzglL"
      },
      "outputs": [],
      "source": [
        "from datetime import date, timedelta\n",
        "\n",
        "\n",
        "@tool\n",
        "def get_date(year: int, month: int = 1, day: int = 1) -> date:\n",
        "    \"\"\"Returns a date object given year, month and day.\n",
        "\n",
        "      Default month and day are 1 (January) and 1.\n",
        "      Examples in YYYY-MM-DD format:\n",
        "        2023-07-27 -> date(2023, 7, 27)\n",
        "        2022-12-15 -> date(2022, 12, 15)\n",
        "        March 2022 -> date(2022, 3)\n",
        "        2021 -> date(2021)\n",
        "    \"\"\"\n",
        "    return date(year, month, day).isoformat()\n",
        "\n",
        "\n",
        "@tool\n",
        "def time_difference(days: int = 0, weeks: int = 0, months: int = 0, years: int = 0) -> date:\n",
        "    \"\"\"Returns a date given a difference in days, weeks, months and years relative to the current date.\n",
        "\n",
        "    By default, dayss, weeks, months and years are 0.\n",
        "    Examples:\n",
        "      two weeks ago -> time_difference(weeks=2)\n",
        "      last year -> time_difference(years=1)\n",
        "    \"\"\"\n",
        "    dt = date.today() - timedelta(days=days, weeks=weeks)\n",
        "    new_year = dt.year+(dt.month-months) // 12 - years\n",
        "    new_month = (dt.month-months) % 12\n",
        "    return dt.replace(year=new_year, month=new_month)"
      ]
    },
    {
      "cell_type": "code",
      "execution_count": null,
      "id": "vpqCVYV13BbQ",
      "metadata": {
        "colab": {
          "base_uri": "https://localhost:8080/"
        },
        "executionInfo": {
          "elapsed": 80205,
          "status": "ok",
          "timestamp": 1738940139827,
          "user": {
            "displayName": "",
            "userId": ""
          },
          "user_tz": -60
        },
        "id": "vpqCVYV13BbQ",
        "outputId": "3cff8726-8768-403d-fc77-2462562f7626"
      },
      "outputs": [
        {
          "name": "stdout",
          "output_type": "stream",
          "text": [
            "I signed my contract 2 years ago The contract started on 2023-02-07.\n",
            "\n",
            "I started the deal with your company in February last year The contract started on 2024-02-01.\n",
            "\n",
            "Our contract started on March 24th two years ago The contract started on 2023-03-24.\n",
            "\n"
          ]
        }
      ],
      "source": [
        "from langgraph.prebuilt import create_react_agent\n",
        "\n",
        "\n",
        "llm = ChatVertexAI(model=\"gemini-1.5-pro-002\")\n",
        "\n",
        "agent = create_react_agent(\n",
        "    llm, [get_date, time_difference], prompt=\"Extract the starting date of a contract. Current year is 2025.\")\n",
        "\n",
        "\n",
        "for example in examples:\n",
        "  result = agent.invoke({\"messages\": [(\"user\", example)]})\n",
        "  print(example, result[\"messages\"][-1].content)"
      ]
    },
    {
      "cell_type": "code",
      "execution_count": null,
      "id": "RkM-P1h75fix",
      "metadata": {
        "colab": {
          "base_uri": "https://localhost:8080/"
        },
        "executionInfo": {
          "elapsed": 27151,
          "status": "ok",
          "timestamp": 1738940035436,
          "user": {
            "displayName": "",
            "userId": ""
          },
          "user_tz": -60
        },
        "id": "RkM-P1h75fix",
        "outputId": "a881d370-65ef-4d86-fac9-32a328e74e4e"
      },
      "outputs": [
        {
          "name": "stdout",
          "output_type": "stream",
          "text": [
            "{'agent': {'messages': [AIMessage(content='', additional_kwargs={'function_call': {'name': 'get_date', 'arguments': '{\"year\": 2022.0, \"month\": 2.0}'}}, response_metadata={'is_blocked': False, 'safety_ratings': [], 'usage_metadata': {'prompt_token_count': 228, 'candidates_token_count': 5, 'total_token_count': 233, 'cached_content_token_count': 0}, 'finish_reason': 'STOP', 'avg_logprobs': -0.09780421853065491}, id='run-ee39f3f6-d94c-4199-98ff-753e81db5742-0', tool_calls=[{'name': 'get_date', 'args': {'year': 2022.0, 'month': 2.0}, 'id': 'b78ff7eb-bd4f-4522-9664-0aa738944f1a', 'type': 'tool_call'}], usage_metadata={'input_tokens': 228, 'output_tokens': 5, 'total_tokens': 233})]}}\n",
            "{'tools': {'messages': [ToolMessage(content='2022-02-01', name='get_date', id='13f8cdad-bb85-4582-83c5-6ea2020d2689', tool_call_id='b78ff7eb-bd4f-4522-9664-0aa738944f1a')]}}\n",
            "{'agent': {'messages': [AIMessage(content='The contract started on 2022-02-01.\\n', additional_kwargs={}, response_metadata={'is_blocked': False, 'safety_ratings': [], 'usage_metadata': {'prompt_token_count': 247, 'candidates_token_count': 17, 'total_token_count': 264, 'cached_content_token_count': 0}, 'finish_reason': 'STOP', 'avg_logprobs': -0.015412832007688634}, id='run-10c5d324-92ee-446b-9063-ff6fc0babe3d-0', usage_metadata={'input_tokens': 247, 'output_tokens': 17, 'total_tokens': 264})]}}\n"
          ]
        }
      ],
      "source": [
        "for e in agent.stream({\"messages\": [(\"user\", examples[1])]}):\n",
        "  print(e)"
      ]
    },
    {
      "cell_type": "markdown",
      "id": "100fc392",
      "metadata": {},
      "source": [
        "We can also explore the answer the model produced to pass to a user:"
      ]
    },
    {
      "cell_type": "code",
      "execution_count": null,
      "id": "WM6ey1RO4vWD",
      "metadata": {
        "colab": {
          "base_uri": "https://localhost:8080/",
          "height": 35
        },
        "executionInfo": {
          "elapsed": 6,
          "status": "ok",
          "timestamp": 1738939771550,
          "user": {
            "displayName": "",
            "userId": ""
          },
          "user_tz": -60
        },
        "id": "WM6ey1RO4vWD",
        "outputId": "571bff12-b306-4734-b6c7-7a7263da503a"
      },
      "outputs": [
        {
          "data": {
            "application/vnd.google.colaboratory.intrinsic+json": {
              "type": "string"
            },
            "text/plain": [
              "'OK. The contract started on 2027-02-07.\\n'"
            ]
          },
          "execution_count": 262,
          "metadata": {},
          "output_type": "execute_result"
        }
      ],
      "source": [
        "result[\"messages\"][-1].content"
      ]
    }
  ],
  "metadata": {
    "colab": {
      "name": "Chapter2.5",
      "provenance": []
    },
    "kernelspec": {
      "display_name": "Python 3",
      "language": "python",
      "name": "python3"
    },
    "language_info": {
      "codemirror_mode": {
        "name": "ipython",
        "version": 3
      },
      "file_extension": ".py",
      "mimetype": "text/x-python",
      "name": "python",
      "nbconvert_exporter": "python",
      "pygments_lexer": "ipython3",
      "version": "3.10.10"
    }
  },
  "nbformat": 4,
  "nbformat_minor": 5
}
