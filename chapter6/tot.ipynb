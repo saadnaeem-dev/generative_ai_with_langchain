{
  "cells": [
    {
      "cell_type": "markdown",
      "source": [
        "# ToT"
      ],
      "metadata": {
        "id": "sRTfAghdqOZ3"
      },
      "id": "sRTfAghdqOZ3"
    },
    {
      "cell_type": "markdown",
      "source": [
        "Let's start from the planning agent:"
      ],
      "metadata": {
        "id": "95ZR92AvqOcB"
      },
      "id": "95ZR92AvqOcB"
    },
    {
      "cell_type": "code",
      "source": [
        "from pydantic import BaseModel, Field\n",
        "from langchain_core.prompts import ChatPromptTemplate\n",
        "from langchain_google_vertexai import ChatVertexAI\n",
        "\n",
        "class Plan(BaseModel):\n",
        "    \"\"\"Plan to follow in future\"\"\"\n",
        "\n",
        "    steps: list[str] = Field(\n",
        "        description=\"different steps to follow, should be in sorted order\"\n",
        "    )\n",
        "\n",
        "system_prompt_template = (\n",
        "    \"For the given task, come up with a step by step plan.\\n\"\n",
        "    \"This plan should involve individual tasks, that if executed correctly will \"\n",
        "    \"yield the correct answer. Do not add any superfluous steps.\\n\"\n",
        "    \"The result of the final step should be the final answer. Make sure that each \"\n",
        "    \"step has all the information needed - do not skip steps.\"\n",
        ")\n",
        "planner_prompt = ChatPromptTemplate.from_messages(\n",
        "    [(\"system\", system_prompt_template),\n",
        "     (\"user\", \"Prepare a plan how to solve the following task:\\n{task}\\n\")])\n",
        "\n",
        "planner = planner_prompt | ChatVertexAI(\n",
        "    model_name=\"gemini-2.0-flash-001\", temperature=1.0\n",
        ").with_structured_output(Plan)"
      ],
      "metadata": {
        "id": "sV1sRJ4aqRIx",
        "executionInfo": {
          "status": "ok",
          "timestamp": 1742288342695,
          "user_tz": -60,
          "elapsed": 5816,
          "user": {
            "displayName": "",
            "userId": ""
          }
        }
      },
      "id": "sV1sRJ4aqRIx",
      "execution_count": 1,
      "outputs": []
    },
    {
      "cell_type": "markdown",
      "source": [
        "Now we build an agent that executes a step in our plan:"
      ],
      "metadata": {
        "id": "QsWD-qZewobN"
      },
      "id": "QsWD-qZewobN"
    },
    {
      "cell_type": "code",
      "source": [
        "from langchain.agents import load_tools\n",
        "from langgraph.prebuilt import create_react_agent\n",
        "\n",
        "llm = ChatVertexAI(model=\"gemini-2.0-flash-001\")\n",
        "tools = load_tools(\n",
        "  tool_names=[\"ddg-search\", \"arxiv\", \"wikipedia\"],\n",
        "  llm=llm\n",
        ")\n",
        "\n",
        "system_prompt = (\n",
        "    \"You're a smart assistant that carefully helps to solve complex tasks.\\n\"\n",
        "    \" Given a general plan to solve a task and a specific step, work on this step. \"\n",
        "    \" Don't assume anything, keep in minds things might change and always try to \"\n",
        "    \"use tools to double-check yourself.\\nUse Search to gather \"\n",
        "    \"information about common facts, fresh events and news, use Arxiv to get \"\n",
        "    \"ideas on recent research and use Wikipedia for common knowledge.\"\n",
        ")\n",
        "\n",
        "step_template = (\n",
        "    \"Given the task and the plan, try to execute on a specific step of the plan.\\n\"\n",
        "    \"TASK:\\n{task}\\n\\nPLAN:\\n{previous_steps}\\n\\nSTEP TO EXECUTE:\\n{step}\\n\"\n",
        ")\n",
        "\n",
        "prompt_template = ChatPromptTemplate.from_messages([\n",
        "    (\"system\", system_prompt),\n",
        "    (\"user\", step_template),\n",
        "])\n",
        "\n",
        "execution_agent = prompt_template | create_react_agent(model=llm, tools=tools)"
      ],
      "metadata": {
        "id": "lsD56IMYqtZE",
        "executionInfo": {
          "status": "ok",
          "timestamp": 1742288352322,
          "user_tz": -60,
          "elapsed": 1871,
          "user": {
            "displayName": "",
            "userId": ""
          }
        }
      },
      "id": "lsD56IMYqtZE",
      "execution_count": 2,
      "outputs": []
    },
    {
      "cell_type": "markdown",
      "source": [
        "We need to define a separate structure to keep track of the tree of options we're going to explore:"
      ],
      "metadata": {
        "id": "EVoJKUX_ws9_"
      },
      "id": "EVoJKUX_ws9_"
    },
    {
      "cell_type": "code",
      "source": [
        "from typing import Optional\n",
        "\n",
        "class TreeNode:\n",
        "\n",
        "  def __init__(\n",
        "        self,\n",
        "        node_id: int,\n",
        "        step: str,\n",
        "        step_output: Optional[str] = None,\n",
        "        parent: Optional[\"TreeNode\"] = None,\n",
        "    ):\n",
        "        self.node_id = node_id\n",
        "        self.step = step\n",
        "        self.step_output = step_output\n",
        "        self.parent = parent\n",
        "        self.children = []\n",
        "        self.final_response = None\n",
        "\n",
        "  def __repr__(self):\n",
        "    parent_id = self.parent.node_id if self.parent else \"None\"\n",
        "    return f\"Node_id: {self.node_id}, parent: {parent_id}, {len(self.children)} children.\"\n",
        "\n",
        "  def get_full_plan(self) -> str:\n",
        "    \"\"\"Returns formatted plan with step numbers and past results.\"\"\"\n",
        "    steps = []\n",
        "    node = self\n",
        "    while node.parent:\n",
        "      steps.append((node.step, node.step_output))\n",
        "      node = node.parent\n",
        "\n",
        "    full_plan = []\n",
        "    for i, (step, result) in enumerate(steps[::-1]):\n",
        "      if result:\n",
        "        full_plan.append(f\"# {i+1}. Planned step: {step}\\nResult: {result}\\n\")\n",
        "    return \"\\n\".join(full_plan)\n"
      ],
      "metadata": {
        "id": "WL5LZiMK1IpQ",
        "executionInfo": {
          "status": "ok",
          "timestamp": 1742288356365,
          "user_tz": -60,
          "elapsed": 384,
          "user": {
            "displayName": "",
            "userId": ""
          }
        }
      },
      "id": "WL5LZiMK1IpQ",
      "execution_count": 4,
      "outputs": []
    },
    {
      "cell_type": "markdown",
      "source": [
        "Now let's define additional states:"
      ],
      "metadata": {
        "id": "O27OFPnlz3sY"
      },
      "id": "O27OFPnlz3sY"
    },
    {
      "cell_type": "code",
      "source": [
        "import operator\n",
        "from collections import deque\n",
        "from typing import Annotated, TypedDict\n",
        "\n",
        "\n",
        "class PlanEvaluation(BaseModel):\n",
        "  \"\"\"\"\"\"\n",
        "\n",
        "  is_final: bool = Field(\n",
        "      description=\"Whether the task is solved or not. Plan is not final if additional steps are required.\",\n",
        "      default=False)\n",
        "\n",
        "  score: float = Field(\n",
        "      description=\"A score from 0. to 1.0 that evaluates the quality of the plan and how probable it is to solve the task with this plan.\",\n",
        "      default=False\n",
        "  )\n",
        "\n",
        "\n",
        "class PlanState(TypedDict):\n",
        "    task: str\n",
        "    root: TreeNode\n",
        "    queue: deque[TreeNode]\n",
        "    current_node: TreeNode\n",
        "    next_node: TreeNode\n",
        "    is_current_node_final: bool\n",
        "    paths_explored: Annotated[int, operator.add]\n",
        "    visited_ids: set[int]\n",
        "    max_id: int\n",
        "    candidates: Annotated[list[str], operator.add]\n",
        "    best_candidate: str\n"
      ],
      "metadata": {
        "id": "tJEfTn540LEX",
        "executionInfo": {
          "status": "ok",
          "timestamp": 1742288370860,
          "user_tz": -60,
          "elapsed": 332,
          "user": {
            "displayName": "",
            "userId": ""
          }
        }
      },
      "id": "tJEfTn540LEX",
      "execution_count": 7,
      "outputs": []
    },
    {
      "cell_type": "markdown",
      "source": [
        "And create a replanning agent that takes into account the previous steps and adjusts the plan accordingly:"
      ],
      "metadata": {
        "id": "v8h6uP3Bz7ug"
      },
      "id": "v8h6uP3Bz7ug"
    },
    {
      "cell_type": "code",
      "source": [
        "from langchain_core.prompts import ChatPromptTemplate\n",
        "\n",
        "class ReplanStep(BaseModel):\n",
        "    \"\"\"Replanned next step in the plan.\"\"\"\n",
        "\n",
        "    steps: list[str] = Field(\n",
        "        description=\"different options of the proposed next step\"\n",
        "    )\n",
        "\n",
        "llm_replanner = llm.with_structured_output(ReplanStep)\n",
        "\n",
        "replanner_prompt_template = (\n",
        "    \"Suggest next action in the plan. Do not add any superfluous steps.\\n\"\n",
        "    \"If you think no actions are needed, just return an empty list of steps. \"\n",
        "    \"TASK: {task}\\n PREVIOUS STEPS WITH OUTPUTS: {current_plan}\"\n",
        "\n",
        ")\n",
        "replanner_prompt = ChatPromptTemplate.from_messages(\n",
        "    [(\"system\", \"You're a helpful assistant. You goal is to help with planning actions to solve the task. Do not solve the task itself.\"),\n",
        "     (\"user\", replanner_prompt_template)\n",
        "    ]\n",
        ")\n",
        "\n",
        "replanner = replanner_prompt | llm_replanner\n"
      ],
      "metadata": {
        "id": "4aWtg3-yrTfl",
        "executionInfo": {
          "status": "ok",
          "timestamp": 1742288373367,
          "user_tz": -60,
          "elapsed": 328,
          "user": {
            "displayName": "",
            "userId": ""
          }
        }
      },
      "id": "4aWtg3-yrTfl",
      "execution_count": 8,
      "outputs": []
    },
    {
      "cell_type": "markdown",
      "source": [
        "We also need a final step that includes a major voting for the best candidate:"
      ],
      "metadata": {
        "id": "R03rWnf10DYR"
      },
      "id": "R03rWnf10DYR"
    },
    {
      "cell_type": "code",
      "source": [
        "from langchain_core.prompts import PromptTemplate\n",
        "\n",
        "prompt_voting = PromptTemplate.from_template(\n",
        "    \"Pick the best solution for a given task. \"\n",
        "    \"\\nTASK:{task}\\n\\nSOLUTIONS:\\n{candidates}\\n\"\n",
        ")\n",
        "\n",
        "def _vote_for_the_best_option(state):\n",
        "  candidates = state.get(\"candidates\", [])\n",
        "  if not candidates:\n",
        "    return {\"best_response\": None}\n",
        "  all_candidates = []\n",
        "  for i, candidate in enumerate(candidates):\n",
        "    all_candidates.append(f\"OPTION {i+1}: {candidate}\")\n",
        "\n",
        "  response_schema = {\n",
        "      \"type\": \"STRING\",\n",
        "      \"enum\": [str(i+1) for i in range(len(all_candidates))]}\n",
        "  llm_enum = ChatVertexAI(\n",
        "      model_name=\"gemini-2.0-flash-001\", response_mime_type=\"text/x.enum\",\n",
        "      response_schema=response_schema)\n",
        "  result = (prompt_voting | llm_enum | StrOutputParser()).invoke(\n",
        "      {\"candidates\": \"\\n\".join(all_candidates), \"task\": state[\"task\"]}\n",
        "  )\n",
        "  return {\"best_candidate\": candidates[int(result)-1]}\n"
      ],
      "metadata": {
        "id": "M6Fz9CEk4Udg",
        "executionInfo": {
          "status": "ok",
          "timestamp": 1742307697253,
          "user_tz": -60,
          "elapsed": 306,
          "user": {
            "displayName": "",
            "userId": ""
          }
        }
      },
      "id": "M6Fz9CEk4Udg",
      "execution_count": 11,
      "outputs": []
    },
    {
      "cell_type": "code",
      "source": [
        "_vote_for_the_best_option({\"candidates\": [\"1\", \"5\", \"4\"], \"task\": \"How much is 2+2?\"})"
      ],
      "metadata": {
        "colab": {
          "base_uri": "https://localhost:8080/"
        },
        "id": "o4riUDQeBHdz",
        "executionInfo": {
          "status": "ok",
          "timestamp": 1739780965454,
          "user_tz": -60,
          "elapsed": 306,
          "user": {
            "displayName": "",
            "userId": ""
          }
        },
        "outputId": "fd111cbc-0f0b-4fb5-dd90-7b350f2b4e23"
      },
      "id": "o4riUDQeBHdz",
      "execution_count": null,
      "outputs": [
        {
          "output_type": "execute_result",
          "data": {
            "text/plain": [
              "{'best_candidate': '4'}"
            ]
          },
          "metadata": {},
          "execution_count": 533
        }
      ]
    },
    {
      "cell_type": "markdown",
      "source": [
        "Now we can put everything together and create our agent:"
      ],
      "metadata": {
        "id": "cuZao57H0G0I"
      },
      "id": "cuZao57H0G0I"
    },
    {
      "cell_type": "code",
      "source": [
        "from typing import Literal\n",
        "from langgraph.graph import StateGraph, START, END\n",
        "from langchain_core.runnables import RunnableConfig\n",
        "from langchain_core.output_parsers import StrOutputParser\n",
        "from langgraph.types import Command\n",
        "\n",
        "final_prompt = PromptTemplate.from_template(\n",
        "    \"You're a helpful assistant that has executed on a plan.\"\n",
        "    \"Given the results of the execution, prepare the final response.\\n\"\n",
        "    \"Don't assume anything\\nTASK:\\n{task}\\n\\nPLAN WITH RESUlTS:\\n{plan}\\n\"\n",
        "    \"FINAL RESPONSE:\\n\"\n",
        ")\n",
        "\n",
        "responder = final_prompt | llm | StrOutputParser()\n",
        "\n",
        "async def _build_initial_plan(state: PlanState) -> PlanState:\n",
        "  plan = await planner.ainvoke(state[\"task\"])\n",
        "  queue = deque()\n",
        "  root = TreeNode(step=plan.steps[0], node_id=1)\n",
        "  queue.append(root)\n",
        "  current_root = root\n",
        "  for i, step in enumerate(plan.steps[1:]):\n",
        "    child = TreeNode(node_id=i+2, step=step, parent=current_root)\n",
        "    current_root.children.append(child)\n",
        "    queue.append(child)\n",
        "    current_root = child\n",
        "  return {\"root\": root, \"queue\": queue, \"max_id\": i+2}\n",
        "\n",
        "async def _run_node(state: PlanState, config: RunnableConfig):\n",
        "  node = state.get(\"next_node\")\n",
        "  visited_ids = state.get(\"visited_ids\", set())\n",
        "  queue = state[\"queue\"]\n",
        "  if node is None:\n",
        "    while queue and not node:\n",
        "      node = state[\"queue\"].popleft()\n",
        "      if node.node_id in visited_ids:\n",
        "        node = None\n",
        "    if not node:\n",
        "      return Command(goto=\"vote\", update={})\n",
        "\n",
        "  step = await execution_agent.ainvoke({\n",
        "      \"previous_steps\": node.get_full_plan(),\n",
        "      \"step\": node.step,\n",
        "      \"task\": state[\"task\"]})\n",
        "  node.step_output = step[\"messages\"][-1].content\n",
        "  visited_ids.add(node.node_id)\n",
        "  return {\"current_node\": node, \"queue\": queue, \"visited_ids\": visited_ids, \"next_node\": None}\n",
        "\n",
        "async def _plan_next(state: PlanState, config: RunnableConfig) -> PlanState:\n",
        "  max_candidates = config[\"configurable\"].get(\"max_candidates\", 1)\n",
        "  node = state[\"current_node\"]\n",
        "  next_step = await replanner.ainvoke({\"task\": state[\"task\"], \"current_plan\": node.get_full_plan()})\n",
        "  if not next_step.steps:\n",
        "    return {\"is_current_node_final\": True}\n",
        "  max_id = state[\"max_id\"]\n",
        "  for step in next_step.steps[:max_candidates]:\n",
        "    child = TreeNode(node_id=max_id+1, step=step, parent=node)\n",
        "    max_id += 1\n",
        "    node.children.append(child)\n",
        "    state[\"queue\"].append(child)\n",
        "  return {\"is_current_node_final\": False, \"next_node\": child, \"max_id\": max_id}\n",
        "\n",
        "async def _get_final_response(state: PlanState) -> PlanState:\n",
        "  node = state[\"current_node\"]\n",
        "  final_response = await responder.ainvoke({\"task\": state[\"task\"], \"plan\": node.get_full_plan()})\n",
        "  node.final_response = final_response\n",
        "  return {\"paths_explored\": 1, \"candidates\": [final_response]}\n",
        "\n",
        "def _should_create_final_response(state: PlanState) -> Literal[\"run\", \"generate_response\"]:\n",
        "  return \"generate_response\" if state[\"is_current_node_final\"] else \"run\"\n",
        "\n",
        "def _should_continue(state: PlanState, config: RunnableConfig) -> Literal[\"run\", \"vote\"]:\n",
        "  max_paths = config[\"configurable\"].get(\"max_paths\", 30)\n",
        "  if state.get(\"paths_explored\", 1) >= max_paths:\n",
        "    return \"vote\"\n",
        "  if state[\"queue\"] or state.get(\"next_node\"):\n",
        "    return \"run\"\n",
        "  return \"vote\"\n",
        "\n",
        "\n",
        "\n",
        "builder = StateGraph(PlanState)\n",
        "builder.add_node(\"initial_plan\", _build_initial_plan)\n",
        "builder.add_node(\"run\", _run_node)\n",
        "builder.add_node(\"plan_next\", _plan_next)\n",
        "builder.add_node(\"generate_response\", _get_final_response)\n",
        "builder.add_node(\"vote\", _vote_for_the_best_option)\n",
        "\n",
        "builder.add_edge(START, \"initial_plan\")\n",
        "builder.add_edge(\"initial_plan\", \"run\")\n",
        "builder.add_edge(\"run\", \"plan_next\")\n",
        "builder.add_conditional_edges(\"plan_next\", _should_create_final_response)\n",
        "builder.add_conditional_edges(\"generate_response\", _should_continue)\n",
        "builder.add_edge(\"vote\", END)\n",
        "\n",
        "graph = builder.compile()\n",
        "\n",
        "from IPython.display import Image, display\n",
        "display(Image(graph.get_graph().draw_mermaid_png()))"
      ],
      "metadata": {
        "colab": {
          "base_uri": "https://localhost:8080/",
          "height": 647
        },
        "id": "VUU_gSSxri2R",
        "executionInfo": {
          "status": "ok",
          "timestamp": 1742307710069,
          "user_tz": -60,
          "elapsed": 1141,
          "user": {
            "displayName": "",
            "userId": ""
          }
        },
        "outputId": "fbb9ff82-d0f9-4fc4-cf09-b38b878420b8"
      },
      "id": "VUU_gSSxri2R",
      "execution_count": 12,
      "outputs": [
        {
          "output_type": "display_data",
          "data": {
            "image/png": "[encoded data removed]",
            "text/plain": [
              "<IPython.core.display.Image object>"
            ]
          },
          "metadata": {}
        }
      ]
    },
    {
      "cell_type": "markdown",
      "source": [
        "Now we can run our agent (keep attention to the amount of candidates we have generated):"
      ],
      "metadata": {
        "id": "_QIeEDQ30P4z"
      },
      "id": "_QIeEDQ30P4z"
    },
    {
      "cell_type": "code",
      "source": [
        "task = \"Write a strategic one-pager of building an AI startup\"\n",
        "result = await graph.ainvoke({\"task\": task}, config={\"recursion_limit\": 10000, \"configurable\": {\"max_paths\": 10}})"
      ],
      "metadata": {
        "colab": {
          "base_uri": "https://localhost:8080/"
        },
        "id": "nNx1zMDkokbd",
        "executionInfo": {
          "status": "ok",
          "timestamp": 1742308153462,
          "user_tz": -60,
          "elapsed": 412500,
          "user": {
            "displayName": "",
            "userId": ""
          }
        },
        "outputId": "76b2fac3-5078-49a7-c0e6-7e1e92c426fe"
      },
      "id": "nNx1zMDkokbd",
      "execution_count": 14,
      "outputs": [
        {
          "output_type": "stream",
          "name": "stderr",
          "text": [
            "WARNING:langchain_google_vertexai.chat_models:This model can reply with multiple function calls in one response. Please don't rely on `additional_kwargs.function_call` as only the last one will be saved.Use `tool_calls` instead.\n",
            "WARNING:langchain_google_vertexai.chat_models:This model can reply with multiple function calls in one response. Please don't rely on `additional_kwargs.function_call` as only the last one will be saved.Use `tool_calls` instead.\n",
            "WARNING:langchain_google_vertexai.chat_models:This model can reply with multiple function calls in one response. Please don't rely on `additional_kwargs.function_call` as only the last one will be saved.Use `tool_calls` instead.\n",
            "WARNING:langchain_google_vertexai.chat_models:This model can reply with multiple function calls in one response. Please don't rely on `additional_kwargs.function_call` as only the last one will be saved.Use `tool_calls` instead.\n",
            "WARNING:langchain_google_vertexai.chat_models:This model can reply with multiple function calls in one response. Please don't rely on `additional_kwargs.function_call` as only the last one will be saved.Use `tool_calls` instead.\n",
            "WARNING:langchain_google_vertexai.chat_models:This model can reply with multiple function calls in one response. Please don't rely on `additional_kwargs.function_call` as only the last one will be saved.Use `tool_calls` instead.\n",
            "WARNING:langchain_google_vertexai.chat_models:This model can reply with multiple function calls in one response. Please don't rely on `additional_kwargs.function_call` as only the last one will be saved.Use `tool_calls` instead.\n",
            "WARNING:langchain_google_vertexai.chat_models:This model can reply with multiple function calls in one response. Please don't rely on `additional_kwargs.function_call` as only the last one will be saved.Use `tool_calls` instead.\n",
            "WARNING:langchain_google_vertexai.chat_models:This model can reply with multiple function calls in one response. Please don't rely on `additional_kwargs.function_call` as only the last one will be saved.Use `tool_calls` instead.\n",
            "WARNING:langchain_google_vertexai.chat_models:This model can reply with multiple function calls in one response. Please don't rely on `additional_kwargs.function_call` as only the last one will be saved.Use `tool_calls` instead.\n",
            "WARNING:langchain_google_vertexai.chat_models:This model can reply with multiple function calls in one response. Please don't rely on `additional_kwargs.function_call` as only the last one will be saved.Use `tool_calls` instead.\n"
          ]
        }
      ]
    },
    {
      "cell_type": "code",
      "source": [
        "print(len(result[\"candidates\"]))"
      ],
      "metadata": {
        "colab": {
          "base_uri": "https://localhost:8080/"
        },
        "id": "DHmXBv5VolC1",
        "executionInfo": {
          "status": "ok",
          "timestamp": 1742309789423,
          "user_tz": -60,
          "elapsed": 350,
          "user": {
            "displayName": "",
            "userId": ""
          }
        },
        "outputId": "0f2c1e31-3bea-4808-eb85-a948568ae038"
      },
      "id": "DHmXBv5VolC1",
      "execution_count": 15,
      "outputs": [
        {
          "output_type": "stream",
          "name": "stdout",
          "text": [
            "10\n"
          ]
        }
      ]
    },
    {
      "cell_type": "code",
      "source": [
        "print(result[\"best_candidate\"])"
      ],
      "metadata": {
        "colab": {
          "base_uri": "https://localhost:8080/"
        },
        "id": "YyUBeZ2Cow6s",
        "executionInfo": {
          "status": "ok",
          "timestamp": 1742309812777,
          "user_tz": -60,
          "elapsed": 330,
          "user": {
            "displayName": "",
            "userId": ""
          }
        },
        "outputId": "fe50e04a-e93f-4792-e06b-98150b2f663c"
      },
      "id": "YyUBeZ2Cow6s",
      "execution_count": 17,
      "outputs": [
        {
          "output_type": "stream",
          "name": "stdout",
          "text": [
            "Okay, here's the final response, presenting the strategic one-pagers for building an AI startup, as requested. Since it's impossible to create visual documents directly, I've provided the content and layout suggestions for three distinct AI startup examples, covering personalized education, predictive maintenance, and customer service automation. This provides a comprehensive overview of the key elements needed for a successful AI venture.\n",
            "\n",
            "**Each example includes:**\n",
            "\n",
            "*   **Headline:** A catchy and concise title that captures the startup's essence.\n",
            "*   **Top Section:** Company Overview & Value Proposition (with image suggestions). This section defines the mission, value proposition, and target market.\n",
            "*   **Middle Section:** Technology & Differentiation (with image suggestions). This details the core AI technology and what makes the startup unique.\n",
            "*   **Bottom Left:** Business Model & Go-to-Market (with image suggestions). This outlines how the startup will generate revenue and acquire customers.\n",
            "*   **Bottom Right:** Key Metrics & Milestones (with image suggestions). This defines how progress will be tracked and the major milestones to be achieved.\n",
            "*   **Bottom Center:** Team & Funding (with placeholders for investor logos). This identifies the key personnel and funding requirements.\n",
            "*   **Visual Layout Suggestions:** Tips on how to make the one-pager visually appealing and easy to understand.\n",
            "\n",
            "Here are the three strategic one-pagers:\n",
            "\n",
            "**Example 1: AI-Powered Personalized Education Platform**\n",
            "\n",
            "**Headline:** Revolutionizing Education with AI-Powered Personalization\n",
            "\n",
            "**(Top Section: Company Overview & Value Proposition - Image: A diverse group of students engaged with the platform on tablets)**\n",
            "\n",
            "*   **Mission:** To empower every student with a personalized learning experience that unlocks their full potential.\n",
            "*   **Value Proposition:** AI-driven platform providing personalized learning paths, adaptive assessments, and targeted feedback for students (K-12+). Benefits include improved understanding, higher grades, and increased engagement. For teachers: automates grading, lesson planning, and provides data-driven insights. For schools: improved student outcomes and reduced teacher workload.\n",
            "*   **Target Market:** Students, parents, teachers, and educational institutions seeking personalized learning experiences.\n",
            "\n",
            "**(Middle Section: Technology & Differentiation - Image: A graphic illustrating the AI algorithms in action)**\n",
            "\n",
            "*   **AI Technology:** NLP, Machine Learning (Reinforcement Learning, Collaborative Filtering), Knowledge Representation & Reasoning.\n",
            "*   **Innovation:** Hyper-personalization (adapts to learning styles and emotional states), AI-driven content creation, and Explainable AI (XAI).\n",
            "*   **Differentiation:** Unlike existing platforms, we offer true hyper-personalization, AI-generated content, and transparent explanations.\n",
            "\n",
            "**(Bottom Left: Business Model & Go-to-Market - Image: A chart showing subscription growth)**\n",
            "\n",
            "*   **Business Model:** Subscription-based (freemium).\n",
            "*   **Revenue Streams:** Premium subscriptions (students/parents), enterprise subscriptions (schools/districts), content licensing, data analytics services.\n",
            "*   **Go-to-Market:** Direct sales to schools, online marketing to parents/students, partnerships with educational influencers, freemium model, content marketing.\n",
            "\n",
            "**(Bottom Right: Key Metrics & Milestones - Image: A visual timeline)**\n",
            "\n",
            "*   **Key Metrics:** Student engagement (time spent, exercises completed), learning outcomes (grade improvement, mastery of concepts), user acquisition (sign-ups, CAC), customer satisfaction (NPS, churn).\n",
            "*   **Milestones:**\n",
            "    *   **Month 6:** Secure Seed Funding\n",
            "    *   **Month 12:** 1,000 Paying Subscribers\n",
            "    *   **Month 24:** Achieve Profitability\n",
            "\n",
            "**(Bottom Center: Team & Funding - Logos of potential investors)**\n",
            "\n",
            "*   **Team:** Experienced CEO, CTO, Head of Curriculum Development, AI Engineers, and Software Engineers.\n",
            "*   **Funding Requirements:** Seed ($500K-$1M), Series A ($3M-$5M).\n",
            "*   **Use of Funds:** Product development, marketing & sales, team salaries.\n",
            "\n",
            "**Visual Layout Suggestions:**\n",
            "\n",
            "*   Use a clean and modern design with clear headings and bullet points.\n",
            "*   Incorporate visuals such as charts, graphs, and icons to illustrate key data and concepts.\n",
            "*   Use color strategically to highlight important information.\n",
            "*   Keep the text concise and easy to read.\n",
            "\n",
            "---\n",
            "\n",
            "**Example 2: AI-Driven Predictive Maintenance for Manufacturing**\n",
            "\n",
            "**Headline:** Predict Equipment Failures and Minimize Downtime with AI\n",
            "\n",
            "**(Top Section: Company Overview & Value Proposition - Image: A manufacturing plant with sensors on the machinery)**\n",
            "\n",
            "*   **Mission:** To empower manufacturers with AI-driven insights that optimize equipment performance and reduce downtime.\n",
            "*   **Value Proposition:** AI-driven platform predicting equipment failures before they occur. Reduces downtime, optimizes maintenance schedules, improves operational efficiency, and provides insights into equipment performance.\n",
            "*   **Target Market:** Manufacturing companies across various industries relying on heavy machinery and equipment.\n",
            "\n",
            "**(Middle Section: Technology & Differentiation - Image: Illustration of data flowing from sensors to the AI)**\n",
            "\n",
            "*   **AI Technology:** Sensor Data Analysis, Machine Learning (Anomaly Detection, Time Series Analysis, Regression Models).\n",
            "*   **Innovation:** Self-Learning Models, Integration with IoT Platforms, Edge Computing.\n",
            "*   **Differentiation:** Continuous self-learning models, seamless IIoT integration, and edge computing for real-time predictions.\n",
            "\n",
            "**(Bottom Left: Business Model & Go-to-Market - Image: Chart showing reduced downtime)**\n",
            "\n",
            "*   **Business Model:** Software-as-a-Service (SaaS).\n",
            "*   **Revenue Streams:** Subscription fees, implementation services, training & support, API access, performance-based pricing.\n",
            "*   **Go-to-Market:** Direct sales to manufacturing companies, partnerships with industrial equipment manufacturers and IIoT platform providers, industry events, content marketing, pilot programs.\n",
            "\n",
            "**(Bottom Right: Key Metrics & Milestones - Image: Visual timeline of milestones)**\n",
            "\n",
            "*   **Key Metrics:** Prediction Accuracy (precision, recall, RUL accuracy), downtime reduction (MTBF, MTTR), cost savings (maintenance costs, ROI), customer acquisition (CAC, sales cycle length), customer satisfaction (NPS, churn).\n",
            "*   **Milestones:**\n",
            "    *   **Month 6:** Secure Pilot Programs\n",
            "    *   **Month 12:** Secure Seed Funding\n",
            "    *   **Month 24:** 20 Paying Customers\n",
            "\n",
            "**(Bottom Center: Team & Funding - Logos of potential investors)**\n",
            "\n",
            "*   **Team:** Experienced CEO, CTO, Head of Sales, Data Scientists, and Domain Experts.\n",
            "*   **Funding Requirements:** Seed ($750K-$1.5M), Series A ($5M-$7M).\n",
            "*   **Use of Funds:** Product development, sales & marketing, team salaries.\n",
            "\n",
            "**Visual Layout Suggestions:**\n",
            "\n",
            "*   Emphasize the ROI for manufacturing companies with visuals showcasing cost savings and reduced downtime.\n",
            "*   Use a technical but clean design.\n",
            "\n",
            "---\n",
            "\n",
            "**Example 3: AI-Enhanced Customer Service Automation**\n",
            "\n",
            "**Headline:** Transforming Customer Service with AI-Powered Automation\n",
            "\n",
            "**(Top Section: Company Overview & Value Proposition - Image: A friendly chatbot interacting with a customer)**\n",
            "\n",
            "*   **Mission:** To empower businesses with AI-driven customer service automation that improves efficiency and enhances customer satisfaction.\n",
            "*   **Value Proposition:** Provides instant and personalized customer support through AI-powered chatbots and virtual assistants. Automates routine tasks, reduces customer service costs, and provides valuable customer insights.\n",
            "*   **Target Market:** Businesses of all sizes seeking to improve customer service efficiency and reduce support costs.\n",
            "\n",
            "**(Middle Section: Technology & Differentiation - Image: Illustration of NLP and Dialogue Management)**\n",
            "\n",
            "*   **AI Technology:** Natural Language Processing (NLP), Machine Learning, Dialogue Management.\n",
            "*   **Innovation:** Sentiment Analysis & Empathy, Personalized Recommendations, Seamless Handoff to Human Agents.\n",
            "*   **Differentiation:** Empathy detection for better interactions, personalized recommendations, and smooth transitions to human agents when needed.\n",
            "\n",
            "**(Bottom Left: Business Model & Go-to-Market - Image: Graph showing cost savings)**\n",
            "\n",
            "*   **Business Model:** SaaS, Usage-based.\n",
            "*   **Revenue Streams:** Subscription fees, usage-based fees, customization & integration services, premium features, data analytics reports.\n",
            "*   **Go-to-Market:** Online marketing to businesses, freemium/trial model, partnerships with CRM and help desk software vendors, content marketing, case studies.\n",
            "\n",
            "**(Bottom Right: Key Metrics & Milestones - Image: Timeline)**\n",
            "\n",
            "*   **Key Metrics:** Automation Rate (percentage of inquiries handled by AI), customer satisfaction (CSAT, NPS), cost savings (reduction in costs, cost per interaction), agent productivity, sales conversions.\n",
            "*   **Milestones:**\n",
            "    *   **Month 6:** Secure Beta Testing\n",
            "    *   **Month 12:** Secure Seed Funding\n",
            "    *   **Month 24:** 50 Paying Customers\n",
            "\n",
            "**(Bottom Center: Team & Funding - Logos of potential investors)**\n",
            "\n",
            "*   **Team:** Experienced CEO, CTO, Head of Sales, NLP Engineers, and Conversation Designers.\n",
            "*   **Funding Requirements:** Seed ($600K-$1.2M), Series A ($4M-$6M).\n",
            "*   **Use of Funds:** Product development, sales & marketing, team salaries.\n",
            "\n",
            "**Visual Layout Suggestions:**\n",
            "\n",
            "*   Use a modern and friendly design with a focus on customer experience.\n",
            "*   Showcase the AI's ability to understand and respond to customer needs.\n",
            "\n",
            "By following this structure and incorporating visually appealing elements, each AI startup can effectively communicate its strategy and value proposition in a compelling one-page document. Remember that these are just templates and should be adapted based on the specific details of each startup. Also, the financial projections are simplified and need to be refined with detailed financial models and market research. Finally, for a truly effective one-pager, consider working with a professional designer.\n",
            "\n"
          ]
        }
      ]
    }
  ],
  "metadata": {
    "kernelspec": {
      "display_name": "Python 3",
      "language": "python",
      "name": "python3"
    },
    "language_info": {
      "codemirror_mode": {
        "name": "ipython",
        "version": 3
      },
      "file_extension": ".py",
      "mimetype": "text/x-python",
      "name": "python",
      "nbconvert_exporter": "python",
      "pygments_lexer": "ipython3",
      "version": "3.10.10"
    },
    "colab": {
      "provenance": [],
      "name": "tot"
    }
  },
  "nbformat": 4,
  "nbformat_minor": 5
}