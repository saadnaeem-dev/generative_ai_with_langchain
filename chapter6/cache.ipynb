{
  "cells": [
    {
      "cell_type": "code",
      "source": [
        "from langchain_google_vertexai import ChatVertexAI\n",
        "llm = ChatVertexAI(model=\"gemini-2.0-flash-001\", temperature=1.0)"
      ],
      "metadata": {
        "id": "yxR8yk3M4AEE",
        "executionInfo": {
          "status": "ok",
          "timestamp": 1742307876063,
          "user_tz": -60,
          "elapsed": 5214,
          "user": {
            "displayName": "",
            "userId": ""
          }
        }
      },
      "id": "yxR8yk3M4AEE",
      "execution_count": 3,
      "outputs": []
    },
    {
      "cell_type": "markdown",
      "source": [
        "# Cache"
      ],
      "metadata": {
        "id": "d22fCP2OYVhA"
      },
      "id": "d22fCP2OYVhA"
    },
    {
      "cell_type": "markdown",
      "source": [
        "Let's set up an in-memory cache and invoke an LLM:"
      ],
      "metadata": {
        "id": "TyJiIjAJ6ipG"
      },
      "id": "TyJiIjAJ6ipG"
    },
    {
      "cell_type": "code",
      "source": [
        "from langchain_core.caches import InMemoryCache\n",
        "from langchain_core.globals import set_llm_cache\n",
        "\n",
        "cache = InMemoryCache()\n",
        "set_llm_cache(cache)\n",
        "\n",
        "llm.invoke(\"What is the capital of UK?\")"
      ],
      "metadata": {
        "colab": {
          "base_uri": "https://localhost:8080/"
        },
        "id": "50LDZnbuYWgM",
        "executionInfo": {
          "status": "ok",
          "timestamp": 1742307876400,
          "user_tz": -60,
          "elapsed": 340,
          "user": {
            "displayName": "",
            "userId": ""
          }
        },
        "outputId": "3f7a6813-dc4b-493d-d8c8-8c7de49af621"
      },
      "id": "50LDZnbuYWgM",
      "execution_count": 4,
      "outputs": [
        {
          "output_type": "execute_result",
          "data": {
            "text/plain": [
              "AIMessage(content='The capital of the UK is **London**.\\n', additional_kwargs={}, response_metadata={'is_blocked': False, 'safety_ratings': [], 'usage_metadata': {'prompt_token_count': 7, 'candidates_token_count': 10, 'total_token_count': 17, 'prompt_tokens_details': [{'modality': 1, 'token_count': 7}], 'candidates_tokens_details': [{'modality': 1, 'token_count': 10}], 'cached_content_token_count': 0, 'cache_tokens_details': []}, 'finish_reason': 'STOP', 'avg_logprobs': -0.004826634004712105, 'model_name': 'gemini-2.0-flash-001'}, id='run-103f112f-ca89-4820-a4a4-ea7f05c05c1d-0', usage_metadata={'input_tokens': 7, 'output_tokens': 10, 'total_tokens': 17})"
            ]
          },
          "metadata": {},
          "execution_count": 4
        }
      ]
    },
    {
      "cell_type": "markdown",
      "source": [
        "Now we can see the request-response pair has been cached:"
      ],
      "metadata": {
        "id": "gYi_seO06mYp"
      },
      "id": "gYi_seO06mYp"
    },
    {
      "cell_type": "code",
      "source": [
        "import langchain\n",
        "print(langchain.llm_cache._cache)"
      ],
      "metadata": {
        "colab": {
          "base_uri": "https://localhost:8080/"
        },
        "id": "Yv9LCpMla7vx",
        "executionInfo": {
          "status": "ok",
          "timestamp": 1742307985991,
          "user_tz": -60,
          "elapsed": 334,
          "user": {
            "displayName": "",
            "userId": ""
          }
        },
        "outputId": "9ce0db91-8dcb-42e3-8725-4197bfe82e98"
      },
      "id": "Yv9LCpMla7vx",
      "execution_count": 12,
      "outputs": [
        {
          "output_type": "stream",
          "name": "stdout",
          "text": [
            "{('[{\"lc\": 1, \"type\": \"constructor\", \"id\": [\"langchain\", \"schema\", \"messages\", \"HumanMessage\"], \"kwargs\": {\"content\": \"What is the capital of UK?\", \"type\": \"human\"}}]', '{\"id\": [\"langchain\", \"chat_models\", \"vertexai\", \"ChatVertexAI\"], \"kwargs\": {\"default_metadata\": [], \"endpoint_version\": \"v1beta1\", \"location\": \"us-central1\", \"max_retries\": 6, \"model_family\": \"2\", \"model_name\": \"gemini-2.0-flash-001\", \"n\": 1, \"perform_literal_eval_on_string_raw_content\": true, \"project\": \"kuligin-sandbox1\", \"request_parallelism\": 5, \"temperature\": 1.0}, \"lc\": 1, \"name\": \"ChatVertexAI\", \"type\": \"constructor\"}---[(\\'stop\\', None)]'): [ChatGeneration(text='The capital of the UK is **London**.\\n', generation_info={'is_blocked': False, 'safety_ratings': [], 'usage_metadata': {'prompt_token_count': 7, 'candidates_token_count': 10, 'total_token_count': 17, 'prompt_tokens_details': [{'modality': 1, 'token_count': 7}], 'candidates_tokens_details': [{'modality': 1, 'token_count': 10}], 'cached_content_token_count': 0, 'cache_tokens_details': []}, 'finish_reason': 'STOP', 'avg_logprobs': -0.004826634004712105}, message=AIMessage(content='The capital of the UK is **London**.\\n', additional_kwargs={}, response_metadata={'is_blocked': False, 'safety_ratings': [], 'usage_metadata': {'prompt_token_count': 7, 'candidates_token_count': 10, 'total_token_count': 17, 'prompt_tokens_details': [{'modality': 1, 'token_count': 7}], 'candidates_tokens_details': [{'modality': 1, 'token_count': 10}], 'cached_content_token_count': 0, 'cache_tokens_details': []}, 'finish_reason': 'STOP', 'avg_logprobs': -0.004826634004712105, 'model_name': 'gemini-2.0-flash-001'}, id='run-103f112f-ca89-4820-a4a4-ea7f05c05c1d-0', usage_metadata={'input_tokens': 7, 'output_tokens': 10, 'total_tokens': 17}))]}\n"
          ]
        }
      ]
    },
    {
      "cell_type": "markdown",
      "source": [
        "That's how an LLM instance is serialized for aching purposes:"
      ],
      "metadata": {
        "id": "T_ZEPFUd6rqX"
      },
      "id": "T_ZEPFUd6rqX"
    },
    {
      "cell_type": "code",
      "source": [
        "llm._get_llm_string()"
      ],
      "metadata": {
        "colab": {
          "base_uri": "https://localhost:8080/",
          "height": 53
        },
        "id": "gbzMp5UsaonV",
        "executionInfo": {
          "status": "ok",
          "timestamp": 1742307881757,
          "user_tz": -60,
          "elapsed": 367,
          "user": {
            "displayName": "",
            "userId": ""
          }
        },
        "outputId": "3a332787-a68e-4b68-9366-ef8741804dc5"
      },
      "id": "gbzMp5UsaonV",
      "execution_count": 6,
      "outputs": [
        {
          "output_type": "execute_result",
          "data": {
            "text/plain": [
              "'{\"id\": [\"langchain\", \"chat_models\", \"vertexai\", \"ChatVertexAI\"], \"kwargs\": {\"default_metadata\": [], \"endpoint_version\": \"v1beta1\", \"location\": \"us-central1\", \"max_retries\": 6, \"model_family\": \"2\", \"model_name\": \"gemini-2.0-flash-001\", \"n\": 1, \"perform_literal_eval_on_string_raw_content\": true, \"project\": \"kuligin-sandbox1\", \"request_parallelism\": 5, \"temperature\": 1.0}, \"lc\": 1, \"name\": \"ChatVertexAI\", \"type\": \"constructor\"}---[(\\'stop\\', None)]'"
            ],
            "application/vnd.google.colaboratory.intrinsic+json": {
              "type": "string"
            }
          },
          "metadata": {},
          "execution_count": 6
        }
      ]
    },
    {
      "cell_type": "markdown",
      "source": [
        "We can also create an in-memory store to store and search for key-value pairs:"
      ],
      "metadata": {
        "id": "ZBioJ-el61fQ"
      },
      "id": "ZBioJ-el61fQ"
    },
    {
      "cell_type": "code",
      "source": [
        "from langgraph.store.memory import InMemoryStore\n",
        "from langchain_google_vertexai import VertexAIEmbeddings\n",
        "\n",
        "in_memory_store = InMemoryStore(\n",
        ")\n",
        "\n",
        "in_memory_store.put(namespace=(\"users\", \"user1\"), key=\"fact1\", value={\"message1\": \"My name is John.\"})\n",
        "in_memory_store.put(namespace=(\"users\", \"user1\", \"conv1\"), key=\"address\", value={\"message\": \"I live in Berlin.\"})"
      ],
      "metadata": {
        "id": "p0sNz-IIFXQ5",
        "executionInfo": {
          "status": "ok",
          "timestamp": 1742307923630,
          "user_tz": -60,
          "elapsed": 326,
          "user": {
            "displayName": "",
            "userId": ""
          }
        }
      },
      "id": "p0sNz-IIFXQ5",
      "execution_count": 7,
      "outputs": []
    },
    {
      "cell_type": "code",
      "source": [
        "in_memory_store.get(namespace=(\"users\", \"user1\"), key=\"address\")"
      ],
      "metadata": {
        "id": "EzrJJy_aFrgb",
        "executionInfo": {
          "status": "ok",
          "timestamp": 1742307926117,
          "user_tz": -60,
          "elapsed": 334,
          "user": {
            "displayName": "",
            "userId": ""
          }
        }
      },
      "id": "EzrJJy_aFrgb",
      "execution_count": 8,
      "outputs": []
    },
    {
      "cell_type": "code",
      "source": [
        "in_memory_store.search((\"users\", \"user1\", \"conv1\"), query=\"name\")"
      ],
      "metadata": {
        "colab": {
          "base_uri": "https://localhost:8080/"
        },
        "id": "g2puyUFGF7pp",
        "executionInfo": {
          "status": "ok",
          "timestamp": 1742307927152,
          "user_tz": -60,
          "elapsed": 1,
          "user": {
            "displayName": "",
            "userId": ""
          }
        },
        "outputId": "806e75e3-b011-48a5-d29b-3069bba97cfd"
      },
      "id": "g2puyUFGF7pp",
      "execution_count": 9,
      "outputs": [
        {
          "output_type": "execute_result",
          "data": {
            "text/plain": [
              "[Item(namespace=['users', 'user1', 'conv1'], key='address', value={'message': 'I live in Berlin.'}, created_at='2025-03-18T14:25:23.305500+00:00', updated_at='2025-03-18T14:25:23.305501+00:00', score=None)]"
            ]
          },
          "metadata": {},
          "execution_count": 9
        }
      ]
    }
  ],
  "metadata": {
    "kernelspec": {
      "display_name": "Python 3",
      "language": "python",
      "name": "python3"
    },
    "language_info": {
      "codemirror_mode": {
        "name": "ipython",
        "version": 3
      },
      "file_extension": ".py",
      "mimetype": "text/x-python",
      "name": "python",
      "nbconvert_exporter": "python",
      "pygments_lexer": "ipython3",
      "version": "3.10.10"
    },
    "colab": {
      "provenance": [],
      "name": "cache"
    }
  },
  "nbformat": 4,
  "nbformat_minor": 5
}