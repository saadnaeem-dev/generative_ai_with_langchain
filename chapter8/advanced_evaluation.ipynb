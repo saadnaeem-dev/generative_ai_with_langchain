{
 "cells": [
  {
   "cell_type": "markdown",
   "id": "b61113c0-e45b-4723-8878-41fa74bd46f4",
   "metadata": {},
   "source": [
    "**Make sure you load the API keys for cloud providers!**\n",
    "\n",
    "You can set your environment keys yourself or use a script. Please note that since keys are private, they are not included in the repository."
   ]
  },
  {
   "cell_type": "code",
   "execution_count": 13,
   "id": "cd4535b4-20c7-44ca-bac3-c1653839f11d",
   "metadata": {},
   "outputs": [],
   "source": [
    "# setting the environment variables, the keys\n",
    "import sys\n",
    "import os\n",
    "\n",
    "sys.path.insert(0, os.path.abspath('..'))\n",
    "\n",
    "from config import set_environment\n",
    "# for the keys - as explained early in chapter 2\n",
    "set_environment()"
   ]
  },
  {
   "cell_type": "markdown",
   "id": "25c4d525-529a-4bcc-ad87-3c3e00df2ec0",
   "metadata": {},
   "source": [
    "# Chain-of-Thought Evaluation"
   ]
  },
  {
   "cell_type": "code",
   "execution_count": 2,
   "id": "e9bc7051-d358-4655-a6c2-af59115090e7",
   "metadata": {},
   "outputs": [
    {
     "name": "stdout",
     "output_type": "stream",
     "text": [
      "\n",
      "Chain-of-Thought Reasoning Evaluation:\n",
      "{'reasoning': \"The student correctly identifies the current Federal Reserve interest rate as 0.25%. They also correctly explain that this low rate is intended to stimulate economic growth by keeping borrowing costs low. They further explain that this encourages consumer spending and business investment, which aligns with the context provided. Therefore, the student's answer is factually accurate and complete.\\nGRADE: CORRECT\", 'value': 'CORRECT', 'score': 1}\n"
     ]
    }
   ],
   "source": [
    "from langchain.evaluation import load_evaluator\n",
    "\n",
    "# Simulated chain-of-thought reasoning provided by the agent:\n",
    "agent_reasoning = (\n",
    "    \"The current interest rate is 0.25%. I determined this by recalling that recent monetary policies have aimed \"\n",
    "    \"to stimulate economic growth by keeping borrowing costs low. A rate of 0.25% is consistent with the ongoing \"\n",
    "    \"trend of low rates, which encourages consumer spending and business investment.\"\n",
    ")\n",
    "\n",
    "# Expected reasoning reference:\n",
    "expected_reasoning = (\n",
    "    \"An ideal reasoning should mention that the Federal Reserve has maintained a low interest rate—around 0.25%—to \"\n",
    "    \"support economic growth, and it should briefly explain the implications for borrowing costs and consumer spending.\"\n",
    ")\n",
    "\n",
    "# Load the chain-of-thought evaluator.\n",
    "cot_evaluator = load_evaluator(\"cot_qa\")\n",
    "\n",
    "result_reasoning = cot_evaluator.evaluate_strings(\n",
    "    input=\"What is the current Federal Reserve interest rate and why does it matter?\",\n",
    "    prediction=agent_reasoning,\n",
    "    reference=expected_reasoning,\n",
    ")\n",
    "\n",
    "print(\"\\nChain-of-Thought Reasoning Evaluation:\")\n",
    "print(result_reasoning)"
   ]
  },
  {
   "cell_type": "markdown",
   "id": "fc4b794a-3b8a-40b4-adb1-8d73b05fb7c5",
   "metadata": {},
   "source": [
    "# Agent Trajectory Evaluation"
   ]
  },
  {
   "cell_type": "code",
   "execution_count": 16,
   "id": "b7085ab2-f70b-4ef9-af24-9844c5975bbe",
   "metadata": {},
   "outputs": [],
   "source": [
    "from langsmith import Client\n",
    "def trajectory_subsequence(outputs: dict, reference_outputs: dict) -> float:\n",
    "    \"\"\"Check how many of the desired steps the agent took.\"\"\"\n",
    "    if len(reference_outputs['trajectory']) > len(outputs['trajectory']):\n",
    "        return 0.0\n",
    "    \n",
    "    i = j = 0\n",
    "    while i < len(reference_outputs['trajectory']) and j < len(outputs['trajectory']):\n",
    "        if reference_outputs['trajectory'][i] == outputs['trajectory'][j]:\n",
    "            i += 1\n",
    "        j += 1\n",
    "    \n",
    "    return i / len(reference_outputs['trajectory'])\n",
    "\n",
    "# Create example dataset with expected trajectories\n",
    "client = Client()\n",
    "trajectory_dataset = client.create_dataset(\n",
    "    \"Healthcare Agent Trajectory Evaluation\",\n",
    "    description=\"Evaluates agent trajectory for medication queries\"\n",
    ")\n",
    "\n",
    "# Add example with expected trajectory\n",
    "client.create_example(\n",
    "    inputs={\n",
    "        \"question\": \"What is the recommended dosage of ibuprofen for an adult?\"\n",
    "    },\n",
    "    outputs={\n",
    "        \"trajectory\": [\n",
    "            \"intent_classifier\",\n",
    "            \"healthcare_agent\",\n",
    "            \"MedicalDatabaseSearch\",\n",
    "            \"format_response\"\n",
    "        ],\n",
    "        \"response\": \"Typically, 200-400mg every 4-6 hours, not exceeding 3200mg per day.\"\n",
    "    },\n",
    "    dataset_id=trajectory_dataset.id\n",
    ")"
   ]
  },
  {
   "cell_type": "markdown",
   "id": "8bf327d6-362a-4ffd-9c64-c0ec88acb7b7",
   "metadata": {},
   "source": [
    "## Run evaluation with our custom trajectory evaluator"
   ]
  },
  {
   "cell_type": "code",
   "execution_count": 17,
   "id": "fb371afe-e987-4958-9f6f-27104aa0e707",
   "metadata": {},
   "outputs": [
    {
     "name": "stdout",
     "output_type": "stream",
     "text": [
      "View the evaluation results for experiment: 'healthcare-agent-trajectory-b9022eb9' at:\n",
      "https://smith.langchain.com/o/750cc20f-7859-4635-9c3e-f4be486b0bea/datasets/fd143397-c3d1-4dbf-8dff-42b30e2560a2/compare?selectedSessions=5573ca38-e4e1-475f-a549-cd946e1aee31\n",
      "\n",
      "\n"
     ]
    },
    {
     "data": {
      "application/vnd.jupyter.widget-view+json": {
       "model_id": "846334d7cd244184b71d8f3eaa768156",
       "version_major": 2,
       "version_minor": 0
      },
      "text/plain": [
       "0it [00:00, ?it/s]"
      ]
     },
     "metadata": {},
     "output_type": "display_data"
    }
   ],
   "source": [
    "# Note: This is an async function, so in a notebook you'd need to use await\n",
    "experiment_results = await client.aevaluate(\n",
    "    run_graph_with_trajectory,\n",
    "    data=trajectory_dataset.id,\n",
    "    evaluators=[trajectory_subsequence],\n",
    "    experiment_prefix=\"healthcare-agent-trajectory\",\n",
    "    num_repetitions=1,\n",
    "    max_concurrency=4,\n",
    ")\n",
    "\n",
    "# For demonstration without async:\n",
    "# results_df = experiment_results.to_pandas()\n",
    "# print(f\"Average trajectory match score: {results_df['trajectory_subsequence'].mean()}\")"
   ]
  },
  {
   "cell_type": "code",
   "execution_count": 18,
   "id": "055a4933-d351-4ced-a3d3-00548ceb89c6",
   "metadata": {},
   "outputs": [
    {
     "name": "stdout",
     "output_type": "stream",
     "text": [
      "Average trajectory match score: 1.0\n"
     ]
    }
   ],
   "source": [
    "results_df = experiment_results.to_pandas()\n",
    "print(f\"Average trajectory match score: {results_df['feedback.trajectory_subsequence'].mean()}\")"
   ]
  },
  {
   "cell_type": "code",
   "execution_count": null,
   "id": "cd6557d4-a07e-4bfc-aee4-124d0b9122ec",
   "metadata": {},
   "outputs": [],
   "source": []
  }
 ],
 "metadata": {
  "kernelspec": {
   "display_name": "Python 3 (ipykernel)",
   "language": "python",
   "name": "python3"
  },
  "language_info": {
   "codemirror_mode": {
    "name": "ipython",
    "version": 3
   },
   "file_extension": ".py",
   "mimetype": "text/x-python",
   "name": "python",
   "nbconvert_exporter": "python",
   "pygments_lexer": "ipython3",
   "version": "3.11.11"
  }
 },
 "nbformat": 4,
 "nbformat_minor": 5
}
