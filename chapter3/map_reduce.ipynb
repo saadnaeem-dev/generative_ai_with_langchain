{
  "cells": [
    {
      "cell_type": "markdown",
      "id": "OBNgO5Cjr_Z7",
      "metadata": {
        "id": "OBNgO5Cjr_Z7"
      },
      "source": [
        "# Handling a long input"
      ]
    },
    {
      "cell_type": "markdown",
      "id": "bwl7HOCuKgBl",
      "metadata": {
        "id": "bwl7HOCuKgBl"
      },
      "source": [
        "Find a long video you'd like to process and put it on GCS:"
      ]
    },
    {
      "cell_type": "code",
      "execution_count": 2,
      "id": "oBZTn4m-vYTZ",
      "metadata": {
        "id": "oBZTn4m-vYTZ"
      },
      "outputs": [],
      "source": [
        "video_uri = \"PUT_YOUR_GCS_URI_HERE\""
      ]
    },
    {
      "cell_type": "code",
      "execution_count": 3,
      "id": "YN6a7YHILGZF",
      "metadata": {
        "id": "YN6a7YHILGZF"
      },
      "outputs": [],
      "source": [
        "from langchain_core.messages import HumanMessage\n",
        "from langchain_core.output_parsers import StrOutputParser\n",
        "from langchain_google_vertexai import ChatVertexAI\n",
        "\n",
        "human_part = {\"type\": \"text\", \"text\": \"Provide a summary of the video.\"}\n",
        "\n",
        "def _create_input_messages(*, video_uri: str, chunks: int = 5, interval_secs: int = 600):\n",
        "  video_parts = []\n",
        "  for start_offset in range(chunks):\n",
        "    part = {\n",
        "        \"type\": \"media\", \"file_uri\": video_uri, \"mime_type\": \"video/mp4\",\n",
        "        \"video_metadata\": {\n",
        "            \"start_offset\": {\"seconds\": start_offset*interval_secs},\n",
        "            \"end_offset\": {\"seconds\": (start_offset+1)*interval_secs}}\n",
        "    }\n",
        "    video_parts.append(part)\n",
        "  return [[HumanMessage(content=[human_part, vp])] for vp in video_parts]\n",
        "\n",
        "\n",
        "input_messages = _create_input_messages(video_uri=video_uri)\n",
        "llm = ChatVertexAI(model=\"gemini-2.0-flash-001\")\n",
        "map_chain = llm | StrOutputParser()\n",
        "\n",
        "summaries = map_chain.batch(input_messages, config={\"max_concurrency\": 3})"
      ]
    },
    {
      "cell_type": "code",
      "execution_count": 4,
      "id": "MFSDMh1YLYio",
      "metadata": {
        "id": "MFSDMh1YLYio"
      },
      "outputs": [],
      "source": [
        "from langchain_core.runnables import RunnableLambda\n",
        "\n",
        "create_inputs_chain = RunnableLambda(lambda x: _create_input_messages(**x))\n",
        "map_step_chain = create_inputs_chain | RunnableLambda(lambda x: map_chain.batch(x, config={\"max_concurrency\": 3}))\n",
        "summaries =  map_step_chain.invoke({\"video_uri\": video_uri})"
      ]
    },
    {
      "cell_type": "markdown",
      "id": "BlD0kaN0ZTAJ",
      "metadata": {
        "id": "BlD0kaN0ZTAJ"
      },
      "source": [
        "Let's define a function to merge summaries together:"
      ]
    },
    {
      "cell_type": "code",
      "execution_count": 6,
      "id": "lMUgDnrMM_iY",
      "metadata": {
        "id": "lMUgDnrMM_iY"
      },
      "outputs": [],
      "source": [
        "from langchain_core.prompts import PromptTemplate\n",
        "\n",
        "def _merge_summaries(summaries: list[str], interval_secs: int = 600, **kwargs) -> str:\n",
        "  sub_summaries = []\n",
        "  for i, summary in enumerate(summaries):\n",
        "    sub_summary = (\n",
        "        f\"Summary from sec {i*interval_secs} to sec {(i+1)*interval_secs}:\"\n",
        "        f\"\\n{summary}\\n\")\n",
        "    sub_summaries.append(sub_summary)\n",
        "  return \"\".join(sub_summaries)\n",
        "\n",
        "\n",
        "reduce_prompt = PromptTemplate.from_template(\n",
        "    \"You are given a list of summaries that \"\n",
        "    \"of a video splitted into sequential pieces.\\n\"\n",
        "    \"SUMMARIES:\\n{summaries}\"\n",
        "    \"Based on that, prepare a summary of a whole video.\"\n",
        "    )\n",
        "\n",
        "\n",
        "reduce_chain = RunnableLambda(lambda x: _merge_summaries(**x)) | reduce_prompt | llm | StrOutputParser()\n",
        "final_summary = reduce_chain.invoke({\"summaries\": summaries})\n"
      ]
    },
    {
      "cell_type": "code",
      "execution_count": 7,
      "id": "2Qrt3vdC_Ts0",
      "metadata": {
        "colab": {
          "base_uri": "https://localhost:8080/"
        },
        "executionInfo": {
          "elapsed": 975,
          "status": "ok",
          "timestamp": 1737888667850,
          "user": {
            "displayName": "",
            "userId": ""
          },
          "user_tz": -60
        },
        "id": "2Qrt3vdC_Ts0",
        "outputId": "3d55bc27-764c-4ef9-a950-2fd6da41526d"
      },
      "outputs": [
        {
          "name": "stdout",
          "output_type": "stream",
          "text": [
            "## Google Cast: Evolution and Future - A Comprehensive Summary\n",
            "\n",
            "This video, featuring Majd Bakar and John Affaki, explores the evolution of Google Cast and provides insights into its future direction.\n",
            "\n",
            "**Introduction (0-600 seconds):**\n",
            "\n",
            "The video begins by highlighting the success of Chromecast, a revolutionary $35 device that extends content from mobile devices to HDTVs. The Google Cast SDK and developer program, boasting over 6,000 developers, have been instrumental in expanding the casting ecosystem. The core vision for Google Cast revolves around: redefining interaction models with television (moving away from cumbersome experiences with technologies like gyroscopes and cameras), building a robust ecosystem, ensuring an open platform, and delivering a consistent user experience.  The ubiquity of mobile devices allows developers to focus on function without compromising form. The SDK is available for Android, iOS, and Web Apps in Chrome, and over 50% of Chromecast users utilize multiple platforms.  Key application areas include media streaming (video, music), and photo displays. This content can be served from the Cloud, a mobile device, or a local network. The architecture also supports multiple mobile devices connecting to a single session, enabling collaborative features like party modes, voting, and content sharing.\n",
            "\n",
            "**New Features and Functionality (600-1200 seconds):**\n",
            "\n",
            "The video showcases features like multi-player games (e.g., Big Web Quiz) and the Chromecast home screen displaying dynamic content.  The Chromecast home screen provides context-aware information to users interacting with their phones. John Affaki, leading the Google Cast SDK team, discusses upcoming features including:\n",
            "\n",
            "*   **Cast to nearby devices:** Allowing casting without requiring devices to be on the same Wi-Fi network.\n",
            "*   **Android TV integration:**  Bringing the same Google Cast functionality found in Chromecast to Android TV, enabling projection of Android apps onto the big screen without requiring extensive developer modifications.\n",
            "*   **Media library improvements:** Including accessibility enhancements for the hearing impaired.\n",
            "\n",
            "**Developer Focus and Future Directions (1200-1800 seconds):**\n",
            "\n",
            "The video focuses on improvements for developers, including:\n",
            "\n",
            "*   **Standardized Queuing API:**  Simplifying the creation, modification, and management of media item queues, replacing the need for individual apps to implement their own solutions.\n",
            "*   **Full Featured Media Controls:**  Providing a consistent experience for interacting with media playback from any device.\n",
            "*   **Secure Credential Transfer:**  Offering a secure method for transferring authentication credentials between sender and receiver for seamless service access within Google Cast. This is integrated with the queuing API, allowing for different credentials for different items in the queue.\n",
            "*   **Improved App Discovery:**  Enhancing app discovery through a redesigned chromecast.com/apps website and an updated developer console for data gathering.\n",
            "*   **Expanding Beyond Media:**  Exploring innovative applications beyond media and gaming and encouraging developers to provide feedback.\n",
            "\n",
            "**Q&A: Addressing Developer Concerns (1800-3000 seconds):**\n",
            "\n",
            "The video transitions to a Q&A session where developers raise various issues:\n",
            "\n",
            "*   **Local Content Streaming:** Addressing how to stream local content to Chromecast by utilizing cloud-accessible URLs. Developers are advised to opt-out of local discovery in the development console.\n",
            "*   **Audio/Video Latency:** Acknowledging the beta status of Android mirroring and efforts to minimize audio and video latency, especially for gaming.\n",
            "*   **HMICEC Control:**  Clarifying that application control is not a platform limitation.\n",
            "*   **Feature Timelines:**  While specific timelines are not provided, it is indicated that closed caption APIs are released, and screen casting/closed captioning within Google Play Services would be rolled out within a few weeks.\n",
            "*   **\"Screensaver\" Integration:** Discussing how the presentation API in Android provides similar functionalities for seamless resumption, though not a full replacement for backdrop functionality.\n",
            "*   **Cross-Domain Policies, Wi-Fi Security, and Android TV Hardware:** Addressing technical questions related to cross-domain policies, Wi-Fi security protocols, and hardware differences between Chromecast and Android TV. The lack of Google Play services on Amazon Kindle Fire is also mentioned.\n",
            "\n",
            "**Conclusion:**\n",
            "\n",
            "The video concludes with the presenters thanking the audience and announcing a Chromecast giveaway, highlighting Google's commitment to fostering a thriving Google Cast developer community. The overall message is that Google Cast is continuously evolving, with a focus on improving user experience, simplifying developer integration, and expanding beyond traditional media applications.\n",
            "\n"
          ]
        }
      ],
      "source": [
        "print(final_summary)"
      ]
    },
    {
      "cell_type": "markdown",
      "id": "0fec5027",
      "metadata": {},
      "source": [
        "Let's implement a reduce step that merges intermediatesummaries together:"
      ]
    },
    {
      "cell_type": "code",
      "execution_count": 8,
      "id": "8WJIKaWzPziV",
      "metadata": {
        "id": "8WJIKaWzPziV"
      },
      "outputs": [
        {
          "name": "stderr",
          "output_type": "stream",
          "text": [
            "/var/folders/5r/vzx_gv654ss9pc9897_bh5nm00gtqf/T/ipykernel_57112/1160931248.py:2: LangChainDeprecationWarning: The class `LLMChain` was deprecated in LangChain 0.1.17 and will be removed in 1.0. Use :meth:`~RunnableSequence, e.g., `prompt | llm`` instead.\n",
            "  reduce_chain = RunnableLambda(lambda x: _merge_summaries(**x)) | LLMChain(llm=llm, prompt=reduce_prompt, output_parser=StrOutputParser())\n"
          ]
        }
      ],
      "source": [
        "from langchain.chains import LLMChain\n",
        "reduce_chain = RunnableLambda(lambda x: _merge_summaries(**x)) | LLMChain(llm=llm, prompt=reduce_prompt, output_parser=StrOutputParser())\n"
      ]
    },
    {
      "cell_type": "code",
      "execution_count": 9,
      "id": "mEojnz2AQYK1",
      "metadata": {
        "id": "mEojnz2AQYK1"
      },
      "outputs": [],
      "source": [
        "from langchain_core.runnables import RunnablePassthrough\n",
        "\n",
        "final_chain = (\n",
        "    RunnablePassthrough.assign(summaries=map_step_chain).assign(final_summary=reduce_chain)\n",
        "    | RunnableLambda(lambda x: x[\"final_summary\"])\n",
        ")\n",
        "\n",
        "result = final_chain.invoke({\"video_uri\": video_uri, \"interval_secs\": 300, \"chunks\": 9})"
      ]
    },
    {
      "cell_type": "code",
      "execution_count": 10,
      "id": "ppqWxyThTV9s",
      "metadata": {
        "id": "ppqWxyThTV9s"
      },
      "outputs": [
        {
          "name": "stdout",
          "output_type": "stream",
          "text": [
            "{'summaries': 'Summary from sec 0 to sec 300:\\nSure, here is a summary of the video.\\n\\nThe video “Casting to the Future” by Google I/O details the goals that Google wants to achieve.\\n\\nThe main goals are:\\n- Redefine the interaction model;\\n- Build an ecosystem;\\n- Make it open;\\n- Consistent experience. \\n\\nWith Google Chromecast, the video notes that “Google Cast goes beyond Chromecast” in that Google seeks to extend reach to more devices, and wants consumers to have a choice of devices to use to consume their content. Google also wants developers to build their application using a consistent model for all devices.\\nSummary from sec 300 to sec 600:\\nHere is a summary of the video.\\n\\nThe speaker talks about how easy it is to cast enable apps. All developers need to do is integrate discovery and control with the cast SDK, and their app will be up and running. To make this easy, cast SDK has been enabled across three most popular platforms: Android, iOS and Chrome.\\nThe speaker also shows a chart that suggests homes are using devices on multiple platforms. For example, one person is using an iPhone along with Chrome on a Windows laptop and an Android tablet to watch their favorite content and play music throughout their house.\\nThe most important thing about this casting experience is that its consistent and simple for users on their phone, tablet, and laptop. Also, the experience should be easy to integrate with for developers using HTML 5 for development.\\nSummary from sec 600 to sec 900:\\nThe presenter is speaking on new things in Google Cast.\\n\\nOne example is the quiz app “Big Web Quiz” where players use their phones to select the answers presented to them on the screen.\\n\\nHe then talks of home screens on Chromecast called Backdrop where beautiful pictures are streamed across your TV. People in the room that pull out their phones to interact with the screen will get a card describing what’s on the screen. The presenter mentions people will get different cards and actions based on their behavior, permission, and interests. For example, someone who likes to cook may get actions for French recipes while someone who likes art will see recommendations for virtual tours of the Louvre or Paris art exhibitions.\\n\\nAnother person comes on to talk about an upcoming Google Cast feature, casting to nearby devices. For simplicity of the user, they are attempting to eliminate the need for everyone to be on the same network before connecting to the Chromecast. To enable the feature, you need to go to the Chromecast App device setting and allow casting from nearby devices. \\n\\nOnce people launch the cast-enabled app and are detected, they will play an ultrasonic pin code through the TV speakers which the Chromecast will automatically connect to. The phone and Chromecast exchange a token via this ultrasonic pairing that temporarily pairs the two devices. If the pairing fails (e.g., if the TV is muted or off), the pin code can be manually entered for the same result. If it\\'s backdropped off, the app will ask to look it up on the Chromecast app.\\nSummary from sec 900 to sec 1200:\\nHere is a summary of the video.\\n\\nThis video is from a Google I/O conference. The presenter is talking about the Google Cast SDK. He discusses features, namely: cloud data channeling, using Android TV for casting, Casting your Android screen to a device, enhanced media applications with easier integration, and closed captioning with custom preferences.\\nSummary from sec 1200 to sec 1500:\\nHere\\'s a summary of the video:\\n\\nIn the video, the speaker is addressing developers. The topic revolves around enhancing the Google Cast SDK to support a broader range of applications, focusing on media applications but also including gaming and educational uses. The speaker mentions the addition of a standardized queuing API to the SDK, intending to make it easier for app developers to manage media queues. Also, the Google Cast Developer Console is updated for developers to add information and assets that will be displayed on [chromecast.com/apps](http://chromecast.com/apps).\\nSummary from sec 1500 to sec 1800:\\nCertainly! Here\\'s a summary of the video from 25:00:\\n\\nThe speaker shifts focus to the multi-sender capability of the technology in educational games.  He provides an example that enables a parent to provide help to a child from a second device, which can help the child with the touchscreen experience.\\n\\nNext, he moves beyond the living room to the classroom.  The presenter points out that cast devices in classrooms can make for a more immersive experience, whether for classroom presentations, real-time quizzes, or for drilling down on whatever the teacher is currently presenting, thus keeping students engaged.\\n\\nAfterward, the speaker pivots to enterprise.  The video highlights how using cast devices and remote mode is a daily occurrence within the enterprise, including presentations, video conferences, and even to manage digital signage.\\n\\nHe concludes by stating that there is still plenty of room for innovative, fresh, and impactful apps, and welcomes feedback for improvements. The video lists website addresses that provide further information regarding Google Cast.  Then, the speaker answers questions from the audience.\\nSummary from sec 1800 to sec 2100:\\nHere is a summary of the video segment:\\nThe video is of two presenters, standing in front of a gray curtain, answering questions from the audience, The topics addressed in the questions are:\\n1. Dell released a USB/HDMI stick that runs a computer, so could Chromecast ever become an everywhere platform?\\n2. A question about streaming local content, without using Wi-Fi.\\n3. A question about casting from a desktop, but not using Chrome. It is said, \"We continue to investigate. It is an experimental feature.\"\\n4. Is Chromecast looking into supporting image and slideshow primitives?\\n5. Will there ever be multiple stream support, because photos are boring without music? It was said, \"There are no plans to run two applications in parallel. However, you can add images to a queue for Chromecast to cycle through.\"\\nSummary from sec 2100 to sec 2400:\\nHere is a summary of the video:\\n\\nTwo men are standing in front of a curtain backdrop and responding to questions about Chromecast development and user experience.\\xa0\\n\\nThe first question relates to Android TV and the capability of streaming music while streaming photos simultaneously, and the response relates to it being difficult to pause one without also pausing the other.\\n\\nThe second question relates to the audio/visual latency for the new mirroring feature from Android to Chromecast, and the respondents state that there is no timeline to publish.\\n\\nThe third question relates to any issues with applications losing data while switching screens, and the respondents reply that the problem is under review by the team.\\n\\nThe fourth question relates to individual applications’ capabilities to disable screen mirroring and the reply indicates that applications can control this from the Android presentation API.\\n\\nThe fifth question relates to adding media controls from Android TV remotes to Chromecast, and if the same could happen with HDMI-CEC on old Chromecasts.\\n\\nThe sixth question relates to any expected updates to video file types that Chromecast supports and the answer given is that it is a hardware limitation of what code can be supported, but they are adding support for more container and transport streams.\\xa0\\n\\nThe final question relates to the speaker wishing to be able to hear the music from the TV while it is also playing on his phone through the speaker. It is stated that this is challenging with WIFI, but it is being worked on by the development team and may require a silver bullet to solve the challenge.\\nSummary from sec 2400 to sec 2700:\\nHere is a summary of the information shared in the video. \\nThe video shows two men on stage answering questions about Android TV and ChromeCast and future software and hardware.\\nFirst question is about Chrome domain policies and plans to lower restrictions. The man with the glasses explains that the restrictions will remain, as they are committed to the Web Development model.\\nThe second question involves 5G and Enterprise Security. The man without glasses replies that he can\\'t speak about future hardware, but they are interested in the question.\\nThe third question is about hardware capabilities and codec support. The man without glasses explains that it will be identical, and hardware requirements in terms of codec, DRM and streaming is part of Android TV requirements.\\nThe next question involves the use of non-google play with Kindal Fire. The man without glasses explains that is it not possible. The SDK is part of the Google Play services, and is not available on Kindal.\\nBefore they leave, the man without glasses mentions that they are giving away free Chrome Cast at the corner.\\n', 'text': 'Okay, here\\'s a comprehensive summary of the entire video, piecing together the information from the individual summaries you provided:\\n\\n**Overall Summary: \"Casting to the Future\" - Expanding Google Cast and Chromecast**\\n\\nThis Google I/O video, titled \"Casting to the Future,\" focuses on Google\\'s vision for Google Cast and Chromecast, encompassing its current capabilities, future directions, and developer-focused enhancements.  The core message is expanding the reach of Google Cast beyond Chromecast, building a robust ecosystem, and providing a consistent and open platform for developers and users.\\n\\n**Key Topics Covered:**\\n\\n*   **Google\\'s Vision and Goals (0:00 - 300):** Google aims to redefine the interaction model for content consumption, build a thriving ecosystem around Google Cast, maintain an open platform, and ensure a consistent user experience across various devices. Google Cast is positioned as going beyond Chromecast, extending its reach to more devices and providing consumers with choice.\\n*   **Developer Focus and Ease of Integration (300 - 600):** The video highlights the simplicity of cast-enabling apps using the Google Cast SDK. The SDK is available on Android, iOS, and Chrome, allowing developers to integrate discovery and control features easily. The emphasis is on a consistent and simple experience for users across phones, tablets, and laptops, and easy integration for developers using HTML5.\\n*   **New Features and Capabilities (600 - 900):**\\n    *   **Interactive Experiences:** Examples like the \"Big Web Quiz\" are showcased, demonstrating how phones can be used as controllers for on-screen experiences.\\n    *   **Backdrop:** Chromecast\\'s home screen feature, \"Backdrop,\" displays beautiful pictures and provides contextual information and actions based on user interests and behavior.\\n    *   **Casting to Nearby Devices:** A new feature is introduced to simplify casting by eliminating the requirement for devices to be on the same network. This utilizes ultrasonic pairing or manual PIN entry for secure connection.\\n*   **Google Cast SDK Enhancements (900 - 1500):**\\n    *   The Google Cast SDK is being expanded to support a wider range of applications.\\n    *   Features discussed include cloud data channeling, using Android TV for casting, screen casting, improved media application integration, and customisable closed captioning.\\n    * Standardized queuing API to better manage media queues\\n    * Google Cast Developer Console updated for developers to add information and assets that will be displayed on [chromecast.com/apps](http://chromecast.com/apps).\\n*   **Expanding Use Cases (1500 - 1800):**\\n    *   **Education:** The video explores the use of Google Cast in educational settings, including multi-sender capabilities for parent-child interaction and immersive classroom presentations.\\n    *   **Enterprise:** Google Cast is highlighted as a tool for presentations, video conferences, and digital signage in enterprise environments.\\n*   **Q&A Sessions (1800 - 2700):** The majority of the latter part of the video consists of Q&A sessions with Google engineers, addressing questions about:\\n    *   **Future Hardware:** Questions address the potential for Chromecast to evolve into a more comprehensive platform. Also, possible enterprise security integrations.\\n    *   **Streaming and Connectivity:** Topics included streaming local content without Wi-Fi, casting from desktop without using Chrome, 5G questions.\\n    *   **Features and Functionality:** Discussions cover image and slideshow support, multiple stream support, and Android TV integration.\\n    *   **Technical Aspects:** Questions delve into audio/visual latency, data loss during screen switching, screen mirroring control, media controls on Android TV remotes, and supported video file types.\\n    * **Restrictions on Chrome domain Policies**\\n    * **Non-google play use with Kindal Fire is not possible**\\n\\n**Overall Conclusion:**\\n\\nThe video \"Casting to the Future\" paints a picture of Google\\'s commitment to Google Cast and Chromecast.  It showcases advancements in the platform, its expanding use cases across various environments, and the ongoing efforts to improve the developer experience.  The Q&A sessions offer valuable insights into the challenges and future directions of the technology, emphasizing Google\\'s continued investment in the ecosystem.\\n'}\n"
          ]
        }
      ],
      "source": [
        "result = final_chain.invoke({\"video_uri\": video_uri, \"interval_secs\": 300, \"chunks\": 9})\n",
        "print(result)"
      ]
    },
    {
      "cell_type": "markdown",
      "id": "pXJNqzpsYMxz",
      "metadata": {
        "id": "pXJNqzpsYMxz"
      },
      "source": [
        "## Using LangGraph"
      ]
    },
    {
      "cell_type": "markdown",
      "id": "doF3XfG-YOgj",
      "metadata": {
        "id": "doF3XfG-YOgj"
      },
      "source": [
        "Let's implement the same logic using LangGraph:"
      ]
    },
    {
      "cell_type": "code",
      "execution_count": 12,
      "id": "abq7Nb0hYPU0",
      "metadata": {
        "id": "abq7Nb0hYPU0"
      },
      "outputs": [],
      "source": [
        "import operator\n",
        "from typing_extensions import TypedDict\n",
        "from typing import Annotated\n",
        "from langgraph.constants import Send\n",
        "from langgraph.graph import StateGraph, START, END\n",
        "\n",
        "\n",
        "class AgentState(TypedDict):\n",
        "    video_uri: str\n",
        "    chunks: int\n",
        "    interval_secs: int\n",
        "    summaries: Annotated[list, operator.add]\n",
        "    final_summary: str\n",
        "\n",
        "class _ChunkState(TypedDict):\n",
        "    video_uri: str\n",
        "    start_offset: int\n",
        "    interval_secs: int\n",
        "\n",
        "\n",
        "human_part = {\"type\": \"text\", \"text\": \"Provide a summary of the video.\"}\n",
        "\n",
        "async def _summarize_video_chunk(state:  _ChunkState):\n",
        "    start_offset = state[\"start_offset\"]\n",
        "    interval_secs = state[\"interval_secs\"]\n",
        "    video_part = {\n",
        "        \"type\": \"media\", \"file_uri\": state[\"video_uri\"], \"mime_type\": \"video/mp4\",\n",
        "        \"video_metadata\": {\n",
        "            \"start_offset\": {\"seconds\": start_offset*interval_secs},\n",
        "            \"end_offset\": {\"seconds\": (start_offset+1)*interval_secs}}\n",
        "    }\n",
        "    response = await llm.ainvoke(\n",
        "        [HumanMessage(content=[human_part, video_part])])\n",
        "    return {\"summaries\": [response.content]}\n",
        "\n",
        "def _map_summaries(state: AgentState):\n",
        "    chunks = state[\"chunks\"]\n",
        "    payloads = [\n",
        "        {\n",
        "            \"video_uri\": state[\"video_uri\"],\n",
        "            \"interval_secs\": state[\"interval_secs\"],\n",
        "            \"start_offset\": i\n",
        "        } for i in range(state[\"chunks\"])\n",
        "    ]\n",
        "    return [Send(\"summarize_video_chunk\", payload) for payload in payloads]\n",
        "\n",
        "async def _generate_final_summary(state: AgentState):\n",
        "    summary = _merge_summaries(\n",
        "        summaries=state[\"summaries\"], interval_secs=state[\"interval_secs\"])\n",
        "    final_summary = await (reduce_prompt | llm | StrOutputParser()).ainvoke({\"summaries\": summary})\n",
        "    return {\"final_summary\": final_summary}\n",
        "\n",
        "graph = StateGraph(AgentState)\n",
        "graph.add_node(\"summarize_video_chunk\", _summarize_video_chunk)\n",
        "graph.add_node(\"generate_final_summary\", _generate_final_summary)\n",
        "\n",
        "graph.add_conditional_edges(START, _map_summaries, [\"summarize_video_chunk\"])\n",
        "graph.add_edge(\"summarize_video_chunk\", \"generate_final_summary\")\n",
        "graph.add_edge(\"generate_final_summary\", END)\n",
        "\n",
        "app = graph.compile()"
      ]
    },
    {
      "cell_type": "code",
      "execution_count": 13,
      "id": "ifyjcuIjYPW6",
      "metadata": {
        "colab": {
          "base_uri": "https://localhost:8080/",
          "height": 350
        },
        "executionInfo": {
          "elapsed": 1182,
          "status": "ok",
          "timestamp": 1737897668938,
          "user": {
            "displayName": "",
            "userId": ""
          },
          "user_tz": -60
        },
        "id": "ifyjcuIjYPW6",
        "outputId": "778d079e-95fe-4c69-9158-f484788ab904"
      },
      "outputs": [
        {
          "data": {
            "image/png": "[encoded data removed]",
            "text/plain": [
              "<IPython.core.display.Image object>"
            ]
          },
          "execution_count": 13,
          "metadata": {},
          "output_type": "execute_result"
        }
      ],
      "source": [
        "from IPython.display import Image\n",
        "\n",
        "Image(app.get_graph().draw_mermaid_png())"
      ]
    },
    {
      "cell_type": "code",
      "execution_count": 16,
      "id": "bQNNZ3jH5Ts9",
      "metadata": {
        "id": "bQNNZ3jH5Ts9"
      },
      "outputs": [
        {
          "name": "stdout",
          "output_type": "stream",
          "text": [
            "Okay, here's a comprehensive summary of the entire video, synthesized from the individual section summaries:\n",
            "\n",
            "**Overall Video Summary:**\n",
            "\n",
            "The video features Google Engineers Majid Abakar and John Afaki discussing the evolution of Google Cast and its future direction. They highlight Google Cast's goals: redefining TV interaction, offering compelling large-screen experiences, building an open and consistent ecosystem for both users and developers.\n",
            "\n",
            "The presentation covers several key areas:\n",
            "\n",
            "*   **Introduction to Google Cast:** It started with Chromecast for $35 and now encompasses a broader vision of bringing content to the largest screen possible using mobile devices as controllers.\n",
            "*   **Interaction Model:** Focuses on seamless content consumption on large screens, leveraging mobile device portability. The user can use the cloud, their mobile device or the local cloud on other devices. With the ability to connect multiple mobile devices to a single session, this media app can bring great use cases such as party mode, voting and sharing content.\n",
            "*   **Developer Focus:** Emphasizes ease of development using HTML5 and JavaScript, with UX guidelines for consistent user experiences.\n",
            "*   **New Features and Updates:**\n",
            "    *   Casting to nearby devices without Wi-Fi using location and ultrasound.\n",
            "    *   Android TV integration with Cast functionalities.\n",
            "    *   Updated Google Cast SDK supporting Smooth Stream, Dash, and HLS.\n",
            "    *   Enhanced Closed Captioning support.\n",
            "    *   Unified queue management API with functions for insert, remove, and reorder.\n",
            "    *   Media controls on mobile devices for interacting with playing media even without the app.\n",
            "    *   Improved app discovery through a redesigned Chromecast.com/apps website and a new developer console.\n",
            "*   **Beyond Media:** Explores uses beyond media, including games, education, and business applications like presentations and digital signage.\n",
            "*   **Q&A Session:**\n",
            "    *   Discusses streaming local vs. foreign content.\n",
            "    *   Addresses user opt-out of local discovery.\n",
            "    *   Mentions casting from a desktop (experimental feature).\n",
            "    *   Discusses primitives for images and slideshows.\n",
            "    *   Explores the possibility of playing music and streaming photos simultaneously on Android TV (currently not planned).\n",
            "    *   Addresses audio and video latency with Android mirroring (goal of low latency).\n",
            "    *   Covers the option for individual applications to disable video display on the big screen (system function controlled at the level of protection).\n",
            "    *   Confirms Cross Domain Auth is not going away.\n",
            "    *   Mentions considerations for 5 GHz support (cannot discuss future hardware).\n",
            "    *   States codec support will be identical on Chromecast and Android TV.\n",
            "    *   Addresses Kindle Fire compatibility (SDK not available due to Google Play Services dependency).\n",
            "\n",
            "The video concludes with the announcement of free Chromecasts being given away. In essence, the video provides an overview of Google Cast's current state, future enhancements, and its expanding role in various application areas.\n",
            "\n"
          ]
        }
      ],
      "source": [
        "result = await app.ainvoke(\n",
        "    {\"video_uri\": video_uri, \"chunks\": 5, \"interval_secs\": 600},\n",
        "    {\"max_concurrency\": 3}\n",
        ")\n",
        "print(result[\"final_summary\"])"
      ]
    },
    {
      "cell_type": "code",
      "execution_count": 17,
      "id": "1zGvMUraxexs",
      "metadata": {
        "colab": {
          "base_uri": "https://localhost:8080/"
        },
        "executionInfo": {
          "elapsed": 40359,
          "status": "ok",
          "timestamp": 1737899500310,
          "user": {
            "displayName": "",
            "userId": ""
          },
          "user_tz": -60
        },
        "id": "1zGvMUraxexs",
        "outputId": "7fb420f7-cb08-41b9-9e89-1a7a61ca3d82"
      },
      "outputs": [
        {
          "name": "stdout",
          "output_type": "stream",
          "text": [
            "['summarize_video_chunk']\n",
            "['summarize_video_chunk']\n",
            "['summarize_video_chunk']\n",
            "['summarize_video_chunk']\n",
            "['summarize_video_chunk']\n",
            "['generate_final_summary']\n"
          ]
        }
      ],
      "source": [
        "async for step in app.astream(\n",
        "    {\"video_uri\": video_uri, \"chunks\": 5, \"interval_secs\": 600},\n",
        "    {\"recursion_limit\": 10},\n",
        "):\n",
        "    print(list(step.keys()))"
      ]
    },
    {
      "cell_type": "markdown",
      "id": "pLER-9NAZeO-",
      "metadata": {
        "id": "pLER-9NAZeO-"
      },
      "source": [
        "Let's look at the final summary:"
      ]
    },
    {
      "cell_type": "code",
      "execution_count": 18,
      "id": "f6aNAwbDYPZI",
      "metadata": {
        "colab": {
          "base_uri": "https://localhost:8080/",
          "height": 157
        },
        "executionInfo": {
          "elapsed": 7,
          "status": "ok",
          "timestamp": 1737899710783,
          "user": {
            "displayName": "",
            "userId": ""
          },
          "user_tz": -60
        },
        "id": "f6aNAwbDYPZI",
        "outputId": "a6790dfb-5c40-448f-dc80-430c750ac043"
      },
      "outputs": [
        {
          "data": {
            "text/plain": [
              "\"Okay, here's a comprehensive summary of the entire video, synthesized from the individual section summaries:\\n\\n**Overall Video Summary:**\\n\\nThe video features Google Engineers Majid Abakar and John Afaki discussing the evolution of Google Cast and its future direction. They highlight Google Cast's goals: redefining TV interaction, offering compelling large-screen experiences, building an open and consistent ecosystem for both users and developers.\\n\\nThe presentation covers several key areas:\\n\\n*   **Introduction to Google Cast:** It started with Chromecast for $35 and now encompasses a broader vision of bringing content to the largest screen possible using mobile devices as controllers.\\n*   **Interaction Model:** Focuses on seamless content consumption on large screens, leveraging mobile device portability. The user can use the cloud, their mobile device or the local cloud on other devices. With the ability to connect multiple mobile devices to a single session, this media app can bring great use cases such as party mode, voting and sharing content.\\n*   **Developer Focus:** Emphasizes ease of development using HTML5 and JavaScript, with UX guidelines for consistent user experiences.\\n*   **New Features and Updates:**\\n    *   Casting to nearby devices without Wi-Fi using location and ultrasound.\\n    *   Android TV integration with Cast functionalities.\\n    *   Updated Google Cast SDK supporting Smooth Stream, Dash, and HLS.\\n    *   Enhanced Closed Captioning support.\\n    *   Unified queue management API with functions for insert, remove, and reorder.\\n    *   Media controls on mobile devices for interacting with playing media even without the app.\\n    *   Improved app discovery through a redesigned Chromecast.com/apps website and a new developer console.\\n*   **Beyond Media:** Explores uses beyond media, including games, education, and business applications like presentations and digital signage.\\n*   **Q&A Session:**\\n    *   Discusses streaming local vs. foreign content.\\n    *   Addresses user opt-out of local discovery.\\n    *   Mentions casting from a desktop (experimental feature).\\n    *   Discusses primitives for images and slideshows.\\n    *   Explores the possibility of playing music and streaming photos simultaneously on Android TV (currently not planned).\\n    *   Addresses audio and video latency with Android mirroring (goal of low latency).\\n    *   Covers the option for individual applications to disable video display on the big screen (system function controlled at the level of protection).\\n    *   Confirms Cross Domain Auth is not going away.\\n    *   Mentions considerations for 5 GHz support (cannot discuss future hardware).\\n    *   States codec support will be identical on Chromecast and Android TV.\\n    *   Addresses Kindle Fire compatibility (SDK not available due to Google Play Services dependency).\\n\\nThe video concludes with the announcement of free Chromecasts being given away. In essence, the video provides an overview of Google Cast's current state, future enhancements, and its expanding role in various application areas.\\n\""
            ]
          },
          "execution_count": 18,
          "metadata": {},
          "output_type": "execute_result"
        }
      ],
      "source": [
        "result[\"final_summary\"]"
      ]
    }
  ],
  "metadata": {
    "colab": {
      "name": "Chapter 2.3",
      "provenance": [],
      "toc_visible": true
    },
    "kernelspec": {
      "display_name": "Python 3 (ipykernel)",
      "language": "python",
      "name": "python3"
    }
  },
  "nbformat": 4,
  "nbformat_minor": 5
}
