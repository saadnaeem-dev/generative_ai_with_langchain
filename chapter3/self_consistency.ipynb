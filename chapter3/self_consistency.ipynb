{
  "cells": [
    {
      "cell_type": "markdown",
      "id": "TuVugkkUPmtu",
      "metadata": {
        "id": "TuVugkkUPmtu"
      },
      "source": [
        "# Self-consistency"
      ]
    },
    {
      "cell_type": "markdown",
      "id": "rOSuiDsNPsx9",
      "metadata": {
        "id": "rOSuiDsNPsx9"
      },
      "source": [
        "Let's use a smaller model to demonstrate the power of self-consistency:"
      ]
    },
    {
      "cell_type": "code",
      "execution_count": 27,
      "id": "fF7hFF_wtj9r",
      "metadata": {
        "id": "fF7hFF_wtj9r"
      },
      "outputs": [],
      "source": [
        "from langchain_google_vertexai import ChatVertexAI\n",
        "llm_small = ChatVertexAI(model_name=\"gemini-1.5-flash-001\")"
      ]
    },
    {
      "cell_type": "code",
      "execution_count": null,
      "id": "pr5kudhBgv09",
      "metadata": {
        "colab": {
          "base_uri": "https://localhost:8080/"
        },
        "executionInfo": {
          "elapsed": 571,
          "status": "ok",
          "timestamp": 1737795996223,
          "user": {
            "displayName": "",
            "userId": ""
          },
          "user_tz": -60
        },
        "id": "pr5kudhBgv09",
        "outputId": "ddce67ea-9d64-4491-a0c1-dd235dc985ba"
      },
      "outputs": [
        {
          "name": "stderr",
          "output_type": "stream",
          "text": [
            "/Users/kuligin/Documents/envs/pyv/lib/python3.11/site-packages/langsmith/client.py:253: LangSmithMissingAPIKeyWarning: API key must be provided when using hosted LangSmith API\n",
            "  warnings.warn(\n"
          ]
        },
        {
          "name": "stdout",
          "output_type": "stream",
          "text": [
            "Answer: Let's think step by step\n",
            "1. Subtract 5 from both sides of the equation: 2x+5-5=15-5\n",
            "2. Simplify: 2x=10\n",
            "3. Divide both sides by 2: 2x/2 = 10/2\n",
            "4. Simplify: x=5\n",
            "\n",
            "<answer>5</answer>\n"
          ]
        }
      ],
      "source": [
        "from langchain import hub\n",
        "from langchain_core.output_parsers import StrOutputParser\n",
        "\n",
        "math_cot_prompt = hub.pull(\"arietem/math_cot\")\n",
        "cot_chain = math_cot_prompt | llm_small | StrOutputParser()\n",
        "print(cot_chain.invoke(\"Solve equation 2*x+5=15\"))"
      ]
    },
    {
      "cell_type": "code",
      "execution_count": 29,
      "id": "j1YoUJ958Z7u",
      "metadata": {
        "colab": {
          "base_uri": "https://localhost:8080/"
        },
        "executionInfo": {
          "elapsed": 643,
          "status": "ok",
          "timestamp": 1737796007150,
          "user": {
            "displayName": "",
            "userId": ""
          },
          "user_tz": -60
        },
        "id": "j1YoUJ958Z7u",
        "outputId": "4d0f8b7d-c27f-458f-b901-2359ade9032c"
      },
      "outputs": [
        {
          "name": "stdout",
          "output_type": "stream",
          "text": [
            "24 \n",
            "\n"
          ]
        }
      ],
      "source": [
        "from operator import itemgetter\n",
        "from langchain_core.prompts import PromptTemplate\n",
        "\n",
        "\n",
        "parse_prompt_template = (\n",
        "    \"Given the initial question and a full answer, \"\n",
        "    \"extract the concise answer. Do not assume anything and \"\n",
        "    \"only use a provided full answer.\\n\\nQUESTION:\\n{question}\\n\"\n",
        "    \"FULL ANSWER:\\n{full_answer}\\n\\nCONCISE ANSWER:\\n\"\n",
        ")\n",
        "parse_prompt = PromptTemplate.from_template(\n",
        "    parse_prompt_template\n",
        ")\n",
        "final_chain = (\n",
        "  {\"full_answer\": itemgetter(\"question\") | cot_chain,\n",
        "    \"question\": itemgetter(\"question\"),\n",
        "  }\n",
        "  | parse_prompt\n",
        "  | llm_small\n",
        "  | StrOutputParser()\n",
        ")\n",
        "\n",
        "print(final_chain.invoke({\"question\": \"Solve equation 2*x**2-96*x+1152\"}))"
      ]
    },
    {
      "cell_type": "markdown",
      "id": "kM8VWHl_P57-",
      "metadata": {
        "id": "kM8VWHl_P57-"
      },
      "source": [
        "Let's run generation multiple times and sample the most frequest one from the distribution:"
      ]
    },
    {
      "cell_type": "code",
      "execution_count": 30,
      "id": "clexc1hHXSul",
      "metadata": {
        "colab": {
          "base_uri": "https://localhost:8080/"
        },
        "executionInfo": {
          "elapsed": 24467,
          "status": "ok",
          "timestamp": 1737796033290,
          "user": {
            "displayName": "",
            "userId": ""
          },
          "user_tz": -60
        },
        "id": "clexc1hHXSul",
        "outputId": "c3da9a12-4d86-4f03-fdc7-e3fe74dda8ef"
      },
      "outputs": [
        {
          "name": "stdout",
          "output_type": "stream",
          "text": [
            "x = 24\n"
          ]
        }
      ],
      "source": [
        "generations = []\n",
        "for _ in range(20):\n",
        "  generations.append(final_chain.invoke({\"question\": \"Solve equation 2*x**2-96*x+1152\"}, temperature=2.0).strip())\n",
        "\n",
        "from collections import Counter\n",
        "\n",
        "print(Counter(generations).most_common(1)[0][0])"
      ]
    }
  ],
  "metadata": {
    "colab": {
      "name": "Chapter 2.3",
      "provenance": [],
      "toc_visible": true
    },
    "kernelspec": {
      "display_name": "Python 3 (ipykernel)",
      "language": "python",
      "name": "python3"
    },
    "language_info": {
      "codemirror_mode": {
        "name": "ipython",
        "version": 3
      },
      "file_extension": ".py",
      "mimetype": "text/x-python",
      "name": "python",
      "nbconvert_exporter": "python",
      "pygments_lexer": "ipython3",
      "version": "3.11.4"
    }
  },
  "nbformat": 4,
  "nbformat_minor": 5
}
