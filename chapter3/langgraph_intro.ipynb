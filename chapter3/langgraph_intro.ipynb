{
  "cells": [
    {
      "cell_type": "markdown",
      "id": "BHH8a-KGOhc0",
      "metadata": {
        "id": "BHH8a-KGOhc0"
      },
      "source": [
        "# LangGraph fundamentals"
      ]
    },
    {
      "cell_type": "markdown",
      "id": "4zp5jtW0hXZU",
      "metadata": {
        "id": "4zp5jtW0hXZU"
      },
      "source": [
        "Let's start with creating an agent that analyzes a provided job description and if it fits my profile, it generated an application. We'll fake the application logic itself, and work only on the flow for now:"
      ]
    },
    {
      "cell_type": "code",
      "execution_count": null,
      "id": "rrNpRoKZcpqPDys4hPBQ7cjx",
      "metadata": {
        "id": "rrNpRoKZcpqPDys4hPBQ7cjx",
        "tags": []
      },
      "outputs": [],
      "source": [
        "from langchain_google_vertexai import ChatVertexAI\n",
        "llm = ChatVertexAI(model=\"gemini-1.5-flash-002\")"
      ]
    },
    {
      "cell_type": "code",
      "execution_count": 3,
      "id": "g0URiWyDBg6t",
      "metadata": {
        "colab": {
          "base_uri": "https://localhost:8080/",
          "height": 350
        },
        "executionInfo": {
          "elapsed": 343,
          "status": "ok",
          "timestamp": 1737185598470,
          "user": {
            "displayName": "",
            "userId": ""
          },
          "user_tz": -60
        },
        "id": "g0URiWyDBg6t",
        "outputId": "41bfe2f7-0d97-490b-bf9b-a574655e03a5"
      },
      "outputs": [
        {
          "data": {
            "image/png": "[encoded data removed]",
            "text/plain": [
              "<IPython.core.display.Image object>"
            ]
          },
          "metadata": {},
          "output_type": "display_data"
        }
      ],
      "source": [
        "from typing_extensions import TypedDict\n",
        "\n",
        "class JobApplicationState(TypedDict):\n",
        "    job_description: str\n",
        "    is_suitable: bool\n",
        "    application: str\n",
        "\n",
        "from langgraph.graph import StateGraph, START, END, Graph\n",
        "\n",
        "def analyze_job_description(state):\n",
        "    print(\"...Analyzing a provided job description ...\")\n",
        "    return {\"is_suitable\": len(state[\"job_description\"]) > 100}\n",
        "\n",
        "def generate_application(state):\n",
        "    print(\"...generating application...\")\n",
        "    return {\"application\": \"some_fake_application\"}\n",
        "\n",
        "builder = StateGraph(JobApplicationState)\n",
        "builder.add_node(\"analyze_job_description\", analyze_job_description)\n",
        "builder.add_node(\"generate_application\", generate_application)\n",
        "\n",
        "builder.add_edge(START, \"analyze_job_description\")\n",
        "builder.add_edge(\"analyze_job_description\", \"generate_application\")\n",
        "builder.add_edge(\"generate_application\", END)\n",
        "\n",
        "graph = builder.compile()\n",
        "\n",
        "from IPython.display import Image, display\n",
        "display(Image(graph.get_graph().draw_mermaid_png()))"
      ]
    },
    {
      "cell_type": "markdown",
      "id": "supMaGddhlTT",
      "metadata": {
        "id": "supMaGddhlTT"
      },
      "source": [
        "As we can see, our graph is a *Runnable*."
      ]
    },
    {
      "cell_type": "code",
      "execution_count": 4,
      "id": "cuGVZCbGJrfq",
      "metadata": {
        "colab": {
          "base_uri": "https://localhost:8080/"
        },
        "executionInfo": {
          "elapsed": 2,
          "status": "ok",
          "timestamp": 1737098756650,
          "user": {
            "displayName": "",
            "userId": ""
          },
          "user_tz": -60
        },
        "id": "cuGVZCbGJrfq",
        "outputId": "2ec15c44-19db-4ea7-da8a-e9acc61d606c"
      },
      "outputs": [
        {
          "data": {
            "text/plain": [
              "True"
            ]
          },
          "execution_count": 4,
          "metadata": {},
          "output_type": "execute_result"
        }
      ],
      "source": [
        "from langchain_core.runnables import Runnable\n",
        "isinstance(graph, Runnable)"
      ]
    },
    {
      "cell_type": "markdown",
      "id": "efq8wZ1MhoKg",
      "metadata": {
        "id": "efq8wZ1MhoKg"
      },
      "source": [
        "Hence, we can run it like any *Runnable*:"
      ]
    },
    {
      "cell_type": "code",
      "execution_count": 5,
      "id": "-fLLgmyGJ4jt",
      "metadata": {
        "colab": {
          "base_uri": "https://localhost:8080/"
        },
        "executionInfo": {
          "elapsed": 322,
          "status": "ok",
          "timestamp": 1737098880050,
          "user": {
            "displayName": "",
            "userId": ""
          },
          "user_tz": -60
        },
        "id": "-fLLgmyGJ4jt",
        "outputId": "699cf3e9-a551-4c79-a015-f41ecf26d882"
      },
      "outputs": [
        {
          "name": "stdout",
          "output_type": "stream",
          "text": [
            "...Analyzing a provided job description ...\n",
            "...generating application...\n",
            "{'job_description': 'fake_jd', 'is_suitable': False, 'application': 'some_fake_application'}\n"
          ]
        }
      ],
      "source": [
        "res = graph.invoke({\"job_description\":\"fake_jd\"})\n",
        "print(res)"
      ]
    },
    {
      "cell_type": "markdown",
      "id": "7Pvonstlhub0",
      "metadata": {
        "id": "7Pvonstlhub0"
      },
      "source": [
        "Now, let's make our logic a little bit more complex and make an edge conditional - in other words, our flow would depend on the previous outcomes (of an LLM):"
      ]
    },
    {
      "cell_type": "code",
      "execution_count": 6,
      "id": "zJ_77rjQQ84z",
      "metadata": {
        "colab": {
          "base_uri": "https://localhost:8080/",
          "height": 350
        },
        "executionInfo": {
          "elapsed": 979,
          "status": "ok",
          "timestamp": 1737184659962,
          "user": {
            "displayName": "",
            "userId": ""
          },
          "user_tz": -60
        },
        "id": "zJ_77rjQQ84z",
        "outputId": "6b4bb3a7-143c-4dd6-95ed-d05ae723de59"
      },
      "outputs": [
        {
          "data": {
            "image/png": "[encoded data removed]",
            "text/plain": [
              "<IPython.core.display.Image object>"
            ]
          },
          "metadata": {},
          "output_type": "display_data"
        }
      ],
      "source": [
        "from typing import Literal\n",
        "\n",
        "builder = StateGraph(JobApplicationState)\n",
        "builder.add_node(\"analyze_job_description\", analyze_job_description)\n",
        "builder.add_node(\"generate_application\", generate_application)\n",
        "\n",
        "def is_suitable_condition(state: StateGraph) -> Literal[\"generate_application\", END]:\n",
        "    if state.get(\"is_suitable\"):\n",
        "        return \"generate_application\"\n",
        "    return END\n",
        "\n",
        "builder.add_edge(START, \"analyze_job_description\")\n",
        "builder.add_conditional_edges(\"analyze_job_description\", is_suitable_condition)\n",
        "builder.add_edge(\"generate_application\", END)\n",
        "\n",
        "graph = builder.compile()\n",
        "\n",
        "from IPython.display import Image, display\n",
        "display(Image(graph.get_graph().draw_mermaid_png()))"
      ]
    },
    {
      "cell_type": "markdown",
      "id": "_ze71sqAXuIt",
      "metadata": {
        "id": "_ze71sqAXuIt"
      },
      "source": [
        "Let's see how we can defined state fields that accumulate values. The first option is to use a default reducer that replaces the values in the state:"
      ]
    },
    {
      "cell_type": "code",
      "execution_count": 7,
      "id": "nfz1tfzUPWyz",
      "metadata": {
        "colab": {
          "base_uri": "https://localhost:8080/",
          "height": 495
        },
        "executionInfo": {
          "elapsed": 10509,
          "status": "error",
          "timestamp": 1740992172944,
          "user": {
            "displayName": "",
            "userId": ""
          },
          "user_tz": -60
        },
        "id": "nfz1tfzUPWyz",
        "outputId": "697ee439-41ba-4c54-8873-c471b6e2801f"
      },
      "outputs": [
        {
          "data": {
            "image/png": "[encoded data removed]",
            "text/plain": [
              "<IPython.core.display.Image object>"
            ]
          },
          "metadata": {},
          "output_type": "display_data"
        }
      ],
      "source": [
        "class JobApplicationState(TypedDict):\n",
        "    job_description: str\n",
        "    is_suitable: bool\n",
        "    application: str\n",
        "    actions: list[str]\n",
        "\n",
        "def analyze_job_description(state):\n",
        "    print(\"...Analyzing a provided job description ...\")\n",
        "    result = {\n",
        "        \"is_suitable\": len(state[\"job_description\"]) < 100,\n",
        "        \"actions\": [\"action1\"]}\n",
        "    return result\n",
        "\n",
        "def generate_application(state):\n",
        "    print(\"...generating application...\")\n",
        "    return {\"application\": \"some_fake_application\", \"actions\": [\"action2\"]}\n",
        "\n",
        "\n",
        "\n",
        "builder = StateGraph(JobApplicationState)\n",
        "builder.add_node(\"analyze_job_description\", analyze_job_description)\n",
        "builder.add_node(\"generate_application\", generate_application)\n",
        "builder.add_edge(START, \"analyze_job_description\")\n",
        "builder.add_conditional_edges(\"analyze_job_description\", is_suitable_condition)\n",
        "builder.add_edge(\"generate_application\", END)\n",
        "\n",
        "graph = builder.compile()\n",
        "\n",
        "from IPython.display import Image, display\n",
        "display(Image(graph.get_graph().draw_mermaid_png()))"
      ]
    },
    {
      "cell_type": "code",
      "execution_count": 8,
      "id": "b_HvFEYbVCIk",
      "metadata": {
        "colab": {
          "base_uri": "https://localhost:8080/"
        },
        "executionInfo": {
          "elapsed": 300,
          "status": "ok",
          "timestamp": 1737186313576,
          "user": {
            "displayName": "",
            "userId": ""
          },
          "user_tz": -60
        },
        "id": "b_HvFEYbVCIk",
        "outputId": "9b96d33c-969b-425b-cde4-41e826e95872"
      },
      "outputs": [
        {
          "name": "stdout",
          "output_type": "stream",
          "text": [
            "{'job_description': 'fake_jd'}\n",
            "\n",
            "\n",
            "\n",
            "...Analyzing a provided job description ...\n",
            "{'job_description': 'fake_jd', 'is_suitable': True, 'actions': ['action1']}\n",
            "\n",
            "\n",
            "\n",
            "...generating application...\n",
            "{'job_description': 'fake_jd', 'is_suitable': True, 'application': 'some_fake_application', 'actions': ['action2']}\n",
            "\n",
            "\n",
            "\n"
          ]
        }
      ],
      "source": [
        "async for chunk in graph.astream(\n",
        "    input={\"job_description\":\"fake_jd\"},\n",
        "    stream_mode=\"values\"\n",
        "):\n",
        "    print(chunk)\n",
        "    print(\"\\n\\n\")"
      ]
    },
    {
      "cell_type": "markdown",
      "id": "BSmrvfF1X5G9",
      "metadata": {
        "id": "BSmrvfF1X5G9"
      },
      "source": [
        "Option 2 - use `add` method as a reducer:"
      ]
    },
    {
      "cell_type": "code",
      "execution_count": 9,
      "id": "EFjsVMbcXzHM",
      "metadata": {
        "colab": {
          "base_uri": "https://localhost:8080/",
          "height": 350
        },
        "executionInfo": {
          "elapsed": 336,
          "status": "ok",
          "timestamp": 1737186365866,
          "user": {
            "displayName": "",
            "userId": ""
          },
          "user_tz": -60
        },
        "id": "EFjsVMbcXzHM",
        "outputId": "5fdfbeea-aca6-48bb-f105-5af6ef0ce459"
      },
      "outputs": [
        {
          "data": {
            "image/png": "[encoded data removed]",
            "text/plain": [
              "<IPython.core.display.Image object>"
            ]
          },
          "metadata": {},
          "output_type": "display_data"
        }
      ],
      "source": [
        "from typing import Annotated, Optional\n",
        "from operator import add\n",
        "\n",
        "class JobApplicationState(TypedDict):\n",
        "    job_description: str\n",
        "    is_suitable: bool\n",
        "    application: str\n",
        "    actions: Annotated[list[str], add]\n",
        "\n",
        "def analyze_job_description(state):\n",
        "    print(\"...Analyzing a provided job description ...\")\n",
        "    result = {\n",
        "        \"is_suitable\": len(state[\"job_description\"]) < 100,\n",
        "        \"actions\": [\"action1\"]}\n",
        "    return result\n",
        "\n",
        "def generate_application(state):\n",
        "    print(\"...generating application...\")\n",
        "    return {\"application\": \"some_fake_application\", \"actions\": [\"action2\"]}\n",
        "\n",
        "\n",
        "\n",
        "builder = StateGraph(JobApplicationState)\n",
        "builder.add_node(\"analyze_job_description\", analyze_job_description)\n",
        "builder.add_node(\"generate_application\", generate_application)\n",
        "builder.add_edge(START, \"analyze_job_description\")\n",
        "builder.add_conditional_edges(\"analyze_job_description\", is_suitable_condition)\n",
        "builder.add_edge(\"generate_application\", END)\n",
        "\n",
        "graph = builder.compile()\n",
        "\n",
        "from IPython.display import Image, display\n",
        "display(Image(graph.get_graph().draw_mermaid_png()))"
      ]
    },
    {
      "cell_type": "code",
      "execution_count": 10,
      "id": "S06hfSLPYBUJ",
      "metadata": {
        "colab": {
          "base_uri": "https://localhost:8080/"
        },
        "executionInfo": {
          "elapsed": 2,
          "status": "ok",
          "timestamp": 1737186368763,
          "user": {
            "displayName": "",
            "userId": ""
          },
          "user_tz": -60
        },
        "id": "S06hfSLPYBUJ",
        "outputId": "68233f9f-17e1-4c8a-fa80-fffca038b4a2"
      },
      "outputs": [
        {
          "name": "stdout",
          "output_type": "stream",
          "text": [
            "{'job_description': 'fake_jd', 'actions': []}\n",
            "\n",
            "\n",
            "\n",
            "...Analyzing a provided job description ...\n",
            "{'job_description': 'fake_jd', 'is_suitable': True, 'actions': ['action1']}\n",
            "\n",
            "\n",
            "\n",
            "...generating application...\n",
            "{'job_description': 'fake_jd', 'is_suitable': True, 'application': 'some_fake_application', 'actions': ['action1', 'action2']}\n",
            "\n",
            "\n",
            "\n"
          ]
        }
      ],
      "source": [
        "async for chunk in graph.astream(\n",
        "    input={\"job_description\":\"fake_jd\"},\n",
        "    stream_mode=\"values\"\n",
        "):\n",
        "    print(chunk)\n",
        "    print(\"\\n\\n\")"
      ]
    },
    {
      "cell_type": "markdown",
      "id": "Xikllty-ZwGu",
      "metadata": {
        "id": "Xikllty-ZwGu"
      },
      "source": [
        "And the last option is to build your own custom reducer:"
      ]
    },
    {
      "cell_type": "code",
      "execution_count": 11,
      "id": "2HaWygNAX-CA",
      "metadata": {
        "colab": {
          "base_uri": "https://localhost:8080/",
          "height": 350
        },
        "executionInfo": {
          "elapsed": 6,
          "status": "ok",
          "timestamp": 1737186881897,
          "user": {
            "displayName": "",
            "userId": ""
          },
          "user_tz": -60
        },
        "id": "2HaWygNAX-CA",
        "outputId": "a25144cf-05e3-4750-ebdb-e6a5a4483a22"
      },
      "outputs": [
        {
          "data": {
            "image/png": "[encoded data removed]",
            "text/plain": [
              "<IPython.core.display.Image object>"
            ]
          },
          "metadata": {},
          "output_type": "display_data"
        }
      ],
      "source": [
        "from typing import Annotated, Optional, Union\n",
        "from operator import add\n",
        "\n",
        "def my_reducer(left: list[str], right: Optional[Union[str, list[str]]]) -> list[str]:\n",
        "  if right:\n",
        "    return left + [right] if isinstance(right, str) else left + right\n",
        "  return left\n",
        "\n",
        "\n",
        "class JobApplicationState(TypedDict):\n",
        "    job_description: str\n",
        "    is_suitable: bool\n",
        "    application: str\n",
        "    actions: Annotated[list[str], my_reducer]\n",
        "\n",
        "def analyze_job_description(state):\n",
        "    print(\"...Analyzing a provided job description ...\")\n",
        "    result = {\n",
        "        \"is_suitable\": len(state[\"job_description\"]) < 100,\n",
        "        \"actions\": \"action1\"}\n",
        "    return result\n",
        "\n",
        "def generate_application(state):\n",
        "    print(\"...generating application...\")\n",
        "    return {\"application\": \"some_fake_application\", \"actions\": [\"action2\", \"action3\"]}\n",
        "\n",
        "\n",
        "\n",
        "builder = StateGraph(JobApplicationState)\n",
        "builder.add_node(\"analyze_job_description\", analyze_job_description)\n",
        "builder.add_node(\"generate_application\", generate_application)\n",
        "builder.add_edge(START, \"analyze_job_description\")\n",
        "builder.add_conditional_edges(\"analyze_job_description\", is_suitable_condition)\n",
        "builder.add_edge(\"generate_application\", END)\n",
        "\n",
        "graph = builder.compile()\n",
        "\n",
        "from IPython.display import Image, display\n",
        "display(Image(graph.get_graph().draw_mermaid_png()))"
      ]
    },
    {
      "cell_type": "code",
      "execution_count": 12,
      "id": "gbzgdyaEZ_Jo",
      "metadata": {
        "colab": {
          "base_uri": "https://localhost:8080/"
        },
        "executionInfo": {
          "elapsed": 3,
          "status": "ok",
          "timestamp": 1737186882861,
          "user": {
            "displayName": "",
            "userId": ""
          },
          "user_tz": -60
        },
        "id": "gbzgdyaEZ_Jo",
        "outputId": "fe664ffe-62d1-4082-cee1-98a0db8cb397"
      },
      "outputs": [
        {
          "name": "stdout",
          "output_type": "stream",
          "text": [
            "{'job_description': 'fake_jd', 'actions': []}\n",
            "\n",
            "\n",
            "\n",
            "...Analyzing a provided job description ...\n",
            "{'job_description': 'fake_jd', 'is_suitable': True, 'actions': ['action1']}\n",
            "\n",
            "\n",
            "\n",
            "...generating application...\n",
            "{'job_description': 'fake_jd', 'is_suitable': True, 'application': 'some_fake_application', 'actions': ['action1', 'action2', 'action3']}\n",
            "\n",
            "\n",
            "\n"
          ]
        }
      ],
      "source": [
        "async for chunk in graph.astream(\n",
        "    input={\"job_description\":\"fake_jd\"},\n",
        "    stream_mode=\"values\"\n",
        "):\n",
        "    print(chunk)\n",
        "    print(\"\\n\\n\")"
      ]
    },
    {
      "cell_type": "markdown",
      "id": "hT_B_omLK0uY",
      "metadata": {
        "id": "hT_B_omLK0uY"
      },
      "source": [
        "How we can add configuration to our graph:"
      ]
    },
    {
      "cell_type": "code",
      "execution_count": 13,
      "id": "kzdnWR4cK2Ti",
      "metadata": {
        "colab": {
          "base_uri": "https://localhost:8080/",
          "height": 350
        },
        "executionInfo": {
          "elapsed": 382,
          "status": "ok",
          "timestamp": 1737200106266,
          "user": {
            "displayName": "",
            "userId": ""
          },
          "user_tz": -60
        },
        "id": "kzdnWR4cK2Ti",
        "outputId": "b9654bdc-39ff-4d61-8f3f-694998407e62"
      },
      "outputs": [
        {
          "data": {
            "image/png": "[encoded data removed]",
            "text/plain": [
              "<IPython.core.display.Image object>"
            ]
          },
          "metadata": {},
          "output_type": "display_data"
        }
      ],
      "source": [
        "from langchain_core.runnables.config import RunnableConfig\n",
        "\n",
        "def generate_application(state: JobApplicationState, config: RunnableConfig):\n",
        "    model_provider = config[\"configurable\"].get(\"model_provider\", \"Google\")\n",
        "    model_name = config[\"configurable\"].get(\"model_name\", \"gemini-1.5-flash-002\")\n",
        "    print(f\"...generating application with {model_provider} and {model_name} ...\")\n",
        "    return {\"application\": \"some_fake_application\", \"actions\": [\"action2\", \"action3\"]}\n",
        "\n",
        "\n",
        "\n",
        "builder = StateGraph(JobApplicationState)\n",
        "builder.add_node(\"analyze_job_description\", analyze_job_description)\n",
        "builder.add_node(\"generate_application\", generate_application)\n",
        "builder.add_edge(START, \"analyze_job_description\")\n",
        "builder.add_conditional_edges(\"analyze_job_description\", is_suitable_condition)\n",
        "builder.add_edge(\"generate_application\", END)\n",
        "\n",
        "graph = builder.compile()\n",
        "\n",
        "from IPython.display import Image, display\n",
        "display(Image(graph.get_graph().draw_mermaid_png()))"
      ]
    },
    {
      "cell_type": "code",
      "execution_count": 14,
      "id": "d2xNPs0bLNgB",
      "metadata": {
        "colab": {
          "base_uri": "https://localhost:8080/"
        },
        "executionInfo": {
          "elapsed": 326,
          "status": "ok",
          "timestamp": 1737199814313,
          "user": {
            "displayName": "",
            "userId": ""
          },
          "user_tz": -60
        },
        "id": "d2xNPs0bLNgB",
        "outputId": "17074925-6801-4502-c34c-e9af8f63e4e0"
      },
      "outputs": [
        {
          "name": "stdout",
          "output_type": "stream",
          "text": [
            "...Analyzing a provided job description ...\n",
            "...generating application with Google and gemini-1.5-flash-002 ...\n",
            "{'job_description': 'fake_jd', 'is_suitable': True, 'application': 'some_fake_application', 'actions': ['action1', 'action2', 'action3']}\n"
          ]
        }
      ],
      "source": [
        "res = graph.invoke({\"job_description\":\"fake_jd\"})\n",
        "print(res)"
      ]
    },
    {
      "cell_type": "code",
      "execution_count": 15,
      "id": "WfMiHSziLZgJ",
      "metadata": {
        "colab": {
          "base_uri": "https://localhost:8080/"
        },
        "executionInfo": {
          "elapsed": 327,
          "status": "ok",
          "timestamp": 1737199860873,
          "user": {
            "displayName": "",
            "userId": ""
          },
          "user_tz": -60
        },
        "id": "WfMiHSziLZgJ",
        "outputId": "a15124c7-a0bc-41c0-8f9c-87930dd9486f"
      },
      "outputs": [
        {
          "name": "stdout",
          "output_type": "stream",
          "text": [
            "...Analyzing a provided job description ...\n",
            "...generating application with OpenAI and gpt-4o ...\n",
            "{'job_description': 'fake_jd', 'is_suitable': True, 'application': 'some_fake_application', 'actions': ['action1', 'action2', 'action3']}\n"
          ]
        }
      ],
      "source": [
        "res = graph.invoke({\"job_description\":\"fake_jd\"}, config={\"configurable\": {\"model_provider\": \"OpenAI\", \"model_name\": \"gpt-4o\"}})\n",
        "print(res)"
      ]
    }
  ],
  "metadata": {
    "colab": {
      "name": "Chapter 2.3",
      "provenance": [],
      "toc_visible": true
    },
    "kernelspec": {
      "display_name": "Python 3 (ipykernel)",
      "language": "python",
      "name": "python3"
    }
  },
  "nbformat": 4,
  "nbformat_minor": 5
}
