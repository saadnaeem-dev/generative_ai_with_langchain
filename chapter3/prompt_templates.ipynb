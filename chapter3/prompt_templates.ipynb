{
  "cells": [
    {
      "cell_type": "markdown",
      "id": "qELYoP_SdCwA",
      "metadata": {
        "id": "qELYoP_SdCwA"
      },
      "source": [
        "# Prompt templates"
      ]
    },
    {
      "cell_type": "markdown",
      "id": "QDRcSgdcOUaD",
      "metadata": {
        "id": "QDRcSgdcOUaD"
      },
      "source": [
        "We can use Python built-in templates with substitutions, but it makes it difficult to substitute in real-time:"
      ]
    },
    {
      "cell_type": "code",
      "execution_count": 14,
      "id": "QlVszeXzPzWl",
      "metadata": {
        "colab": {
          "base_uri": "https://localhost:8080/"
        },
        "executionInfo": {
          "elapsed": 2416,
          "status": "ok",
          "timestamp": 1737358286307,
          "user": {
            "displayName": "",
            "userId": ""
          },
          "user_tz": -60
        },
        "id": "QlVszeXzPzWl",
        "outputId": "de5bec78-2a2e-46d3-999d-35dda05886ad"
      },
      "outputs": [
        {
          "name": "stdout",
          "output_type": "stream",
          "text": [
            "content='Okay, based on the job description \"test job description\", it\\'s impossible to definitively say whether it suits a junior Java developer.\\n\\n**Why?**\\n\\n*   **Lack of Information:** A \"test job description\" provides absolutely no details about the required skills, experience, responsibilities, or technologies involved.\\n\\n**To determine suitability, we would need a real job description that includes details such as:**\\n\\n*   **Required skills:** Java, Spring, SQL, REST APIs, etc.\\n*   **Experience level:** Entry-level, 0-2 years, etc.\\n*   **Responsibilities:** Writing code, testing, debugging, participating in code reviews, etc.\\n*   **Technologies used:** Specific frameworks, libraries, databases, etc.\\n*   **Team environment:** Agile, Scrum, etc.\\n\\nIf the description mentions basic Java concepts, some familiarity with common frameworks, and a willingness to learn, it\\'s *more likely* suitable for a junior developer. If it\\'s full of advanced concepts and expects independent work on complex systems, it\\'s *less likely* suitable.\\n\\n**In conclusion, based only on \"test job description\" it is impossible to decide.**\\n' additional_kwargs={} response_metadata={'is_blocked': False, 'safety_ratings': [], 'usage_metadata': {'prompt_token_count': 23, 'candidates_token_count': 248, 'total_token_count': 271, 'prompt_tokens_details': [{'modality': 1, 'token_count': 23}], 'candidates_tokens_details': [{'modality': 1, 'token_count': 248}], 'cached_content_token_count': 0, 'cache_tokens_details': []}, 'finish_reason': 'STOP', 'avg_logprobs': -0.3330915820214056} id='run-dc91ce96-8860-44c8-bf13-9afc402be0cf-0' usage_metadata={'input_tokens': 23, 'output_tokens': 248, 'total_tokens': 271}\n"
          ]
        }
      ],
      "source": [
        "prompt_template = (\n",
        "    \"Given a job description, decide whether it suites a junior Java developer.\"\n",
        "    \"\\nJOB DESCRIPTION:\\n{job_description}\\n\"\n",
        ")\n",
        "result = llm.invoke(prompt_template.format(job_description=job_description))\n",
        "print(result)"
      ]
    },
    {
      "cell_type": "markdown",
      "id": "zs2BsQg0Ocy9",
      "metadata": {
        "id": "zs2BsQg0Ocy9"
      },
      "source": [
        "Instead, we can use built-in templates provided by LangChain:"
      ]
    },
    {
      "cell_type": "code",
      "execution_count": 15,
      "id": "-XGjPYPCn5dK",
      "metadata": {
        "colab": {
          "base_uri": "https://localhost:8080/"
        },
        "executionInfo": {
          "elapsed": 3,
          "status": "ok",
          "timestamp": 1737358350908,
          "user": {
            "displayName": "",
            "userId": ""
          },
          "user_tz": -60
        },
        "id": "-XGjPYPCn5dK",
        "outputId": "560e553d-b438-4633-cfbf-7731b2c19f74"
      },
      "outputs": [
        {
          "data": {
            "text/plain": [
              "StringPromptValue(text='Given a job description, decide whether it suites a junior Java developer.\\nJOB DESCRIPTION:\\nfake_jd\\n')"
            ]
          },
          "execution_count": 15,
          "metadata": {},
          "output_type": "execute_result"
        }
      ],
      "source": [
        "from langchain_core.prompts import PromptTemplate\n",
        "\n",
        "lc_prompt_template = PromptTemplate.from_template(prompt_template)\n",
        "lc_prompt_template.invoke({\"job_description\": \"fake_jd\"})"
      ]
    },
    {
      "cell_type": "code",
      "execution_count": 16,
      "id": "V3nlya0JoFIE",
      "metadata": {
        "colab": {
          "base_uri": "https://localhost:8080/",
          "height": 122
        },
        "executionInfo": {
          "elapsed": 1707,
          "status": "ok",
          "timestamp": 1737358470751,
          "user": {
            "displayName": "",
            "userId": ""
          },
          "user_tz": -60
        },
        "id": "V3nlya0JoFIE",
        "outputId": "68e75d71-fd3c-432c-f825-55b5f5240f98"
      },
      "outputs": [
        {
          "data": {
            "text/plain": [
              "'Okay, I\\'ve reviewed the job description: \"test job description\".\\n\\nBased on that incredibly limited information, **yes, it *could* suit a junior Java developer, but it\\'s impossible to say for sure.**\\n\\nHere\\'s why:\\n\\n*   **Lack of Detail:**  A junior Java developer usually needs a job description that specifies the technologies, frameworks, and types of projects they will be working on.  \"test job description\" doesn\\'t provide any of that.\\n*   **Possibility of Entry-Level Testing:** It could be a job for testing Java applications, which a junior developer could potentially do (especially with guidance).\\n*   **Could Be Anything:** It\\'s so vague it could literally be anything. Maybe it\\'s a placeholder, or maybe it\\'s deliberately sparse.\\n\\n**To make a real decision, you\\'d need a *real* job description. Look for keywords like:**\\n\\n*   **Required Skills:** Java, Spring, Spring Boot, REST APIs, SQL, Git, Maven/Gradle, Unit Testing (JUnit/Mockito), etc.\\n*   **Responsibilities:** Writing code, debugging, testing, participating in code reviews, working in a team, following coding standards, documenting code.\\n*   **Experience Level:** \"Entry-level,\" \"Junior,\" \"1-3 years experience.\"\\n*   **Team Environment:** Does it mention mentorship or opportunities for learning?\\n\\n**In conclusion:**  \"test job description\" is not enough to determine suitability. You NEED a detailed description of the job requirements and responsibilities.\\n'"
            ]
          },
          "execution_count": 16,
          "metadata": {},
          "output_type": "execute_result"
        }
      ],
      "source": [
        "from langchain_core.output_parsers import StrOutputParser\n",
        "\n",
        "lc_prompt_template = PromptTemplate.from_template(prompt_template)\n",
        "chain = lc_prompt_template | llm | StrOutputParser()\n",
        "chain.invoke({\"job_description\": job_description})"
      ]
    },
    {
      "cell_type": "code",
      "execution_count": 17,
      "id": "vI1mNkX7gsQ3",
      "metadata": {
        "colab": {
          "base_uri": "https://localhost:8080/",
          "height": 122
        },
        "executionInfo": {
          "elapsed": 1895,
          "status": "ok",
          "timestamp": 1737373179714,
          "user": {
            "displayName": "",
            "userId": ""
          },
          "user_tz": -60
        },
        "id": "vI1mNkX7gsQ3",
        "outputId": "a949a99a-ea72-4eec-bd9d-202617b73c6d"
      },
      "outputs": [
        {
          "data": {
            "text/plain": [
              "'Okay, I\\'ve reviewed the job description: \"test job description\".\\n\\nBased on this *extremely* limited information, it\\'s impossible to definitively say whether it suits a junior Java developer.  However, the fact that it\\'s labeled \"test\" suggests it likely lacks the specific requirements and responsibilities needed for a real job.\\n\\nHere\\'s a breakdown of why and what information is needed to make a proper determination:\\n\\n**Why it\\'s impossible to say with current information:**\\n\\n*   **No Technologies Mentioned:**  It doesn\\'t specify Java or any related technologies (Spring, Hibernate, etc.).\\n*   **No Experience Level Indicated:** It doesn\\'t mention experience requirements.\\n*   **No Responsibilities Listed:**  We have no idea what the job entails.\\n*   **No Skills Required:**  We don\\'t know what skills are needed to perform the job.\\n\\n**What Information is needed to assess suitability for a Junior Java Developer:**\\n\\nTo determine if the job suits a Junior Java Developer, the description needs to include:\\n\\n*   **Required Technologies:** Must explicitly mention Java and ideally any relevant frameworks (Spring, Spring Boot, Hibernate, etc.), build tools (Maven, Gradle), testing frameworks (JUnit, Mockito), and databases (SQL, NoSQL).\\n*   **Responsibilities:**  Example responsibilities for a junior developer might include:\\n    *   Writing clean, well-documented Java code.\\n    *   Participating in code reviews.\\n    *   Assisting senior developers with more complex tasks.\\n    *   Writing unit tests.\\n    *   Debugging and troubleshooting issues.\\n    *   Working with version control systems (Git).\\n    *   Contributing to team discussions and problem-solving.\\n*   **Required Skills:**  Examples include:\\n    *   Strong understanding of Java fundamentals (OOP, data structures, algorithms).\\n    *   Basic knowledge of database concepts.\\n    *   Familiarity with software development methodologies (Agile, Scrum).\\n    *   Ability to work independently and as part of a team.\\n    *   Good communication skills.\\n*   **Experience Level:**  Explicitly state \"Junior,\" \"Entry-Level,\" or indicate 0-2 years of experience.\\n*   **Educational Requirements:**  Specify a relevant degree (Computer Science, Software Engineering, etc.) or equivalent experience.\\n\\n**In conclusion:**\\n\\nBased *solely* on \"test job description\", I can\\'t make a determination.  It\\'s almost certainly *not* a real job posting.  A real job posting would have substantially more information.\\n'"
            ]
          },
          "execution_count": 17,
          "metadata": {},
          "output_type": "execute_result"
        }
      ],
      "source": [
        "chain.invoke(job_description)"
      ]
    },
    {
      "cell_type": "markdown",
      "id": "VaSHFLnNOkBI",
      "metadata": {
        "id": "VaSHFLnNOkBI"
      },
      "source": [
        "We can also use a special placeholder for messages:"
      ]
    },
    {
      "cell_type": "code",
      "execution_count": 18,
      "id": "s-Pmzk_odIBF",
      "metadata": {
        "colab": {
          "base_uri": "https://localhost:8080/",
          "height": 87
        },
        "executionInfo": {
          "elapsed": 1862,
          "status": "ok",
          "timestamp": 1737439649973,
          "user": {
            "displayName": "",
            "userId": ""
          },
          "user_tz": -60
        },
        "id": "s-Pmzk_odIBF",
        "outputId": "1c21cb53-c8fa-40fa-c28d-fbe7f966a8ec"
      },
      "outputs": [
        {
          "data": {
            "text/plain": [
              "'Okay, I\\'ve reviewed the job description \"test job description\".\\n\\n**Verdict:**\\n\\nThis job description is too vague to determine if it suits a junior Java developer.\\n\\n**Reasoning:**\\n\\nA junior developer role typically requires some indication of the following:\\n\\n*   **Required Skills:** Does it mention Java? Does it mention specific Java frameworks (like Spring, Spring Boot, Hibernate)? Does it mention related technologies like databases (SQL, NoSQL), or build tools (Maven, Gradle)?\\n*   **Experience Level:** Does it explicitly state \"Junior,\" \"Entry-Level,\" or indicate a number of years of experience (e.g., 0-2 years)?\\n*   **Responsibilities:** Does it describe tasks that a junior developer would typically handle, such as:\\n    *   Writing code under the supervision of senior developers.\\n    *   Debugging and testing existing code.\\n    *   Implementing well-defined features.\\n    *   Participating in code reviews.\\n    *   Learning new technologies.\\n*   **Teamwork and Communication:** Does it emphasize the ability to work in a team and communicate effectively?\\n\\n**To make a proper assessment, I need a *real* job description with more details.**  Without specifics, I can\\'t say whether it\\'s appropriate for a junior Java developer.\\n'"
            ]
          },
          "execution_count": 18,
          "metadata": {},
          "output_type": "execute_result"
        }
      ],
      "source": [
        "from langchain_core.prompts import ChatPromptTemplate, HumanMessagePromptTemplate\n",
        "from langchain_core.messages import SystemMessage, HumanMessage\n",
        "from langchain_core.prompts import SystemMessagePromptTemplate\n",
        "\n",
        "\n",
        "msg_template = HumanMessagePromptTemplate.from_template(prompt_template)\n",
        "msg_example = msg_template.format(job_description=\"fake_jd\")\n",
        "\n",
        "chat_prompt_template = ChatPromptTemplate.from_messages([SystemMessage(content=\"You are a helpful assistant.\"), msg_template])\n",
        "chain = chat_prompt_template | llm | StrOutputParser()\n",
        "chain.invoke({\"job_description\": job_description})"
      ]
    },
    {
      "cell_type": "code",
      "execution_count": 19,
      "id": "zgAplWwXeTu5",
      "metadata": {
        "colab": {
          "base_uri": "https://localhost:8080/",
          "height": 87
        },
        "executionInfo": {
          "elapsed": 1851,
          "status": "ok",
          "timestamp": 1737439697377,
          "user": {
            "displayName": "",
            "userId": ""
          },
          "user_tz": -60
        },
        "id": "zgAplWwXeTu5",
        "outputId": "9e4b7e75-1369-4929-f018-a99f5fe46306"
      },
      "outputs": [
        {
          "data": {
            "text/plain": [
              "'Okay, I\\'ve reviewed the job description \"test job description\".\\n\\nWithout any details about the required skills, experience, or responsibilities, it\\'s impossible to definitively say whether it suits a junior Java developer. \\n\\n**To determine suitability, I would need more information. Ideally, a good job description for a Junior Java Developer role would include the following:**\\n\\n*   **Required Skills:**\\n    *   **Java:** Core Java knowledge (data structures, algorithms, OOP principles).\\n    *   **IDE:** Experience with IDEs like IntelliJ IDEA or Eclipse.\\n    *   **Build Tools:** Familiarity with Maven or Gradle.\\n    *   **Testing:** Basic understanding of unit testing with frameworks like JUnit or TestNG.\\n    *   **Version Control:** Experience with Git.\\n    *   **Databases:** Basic knowledge of SQL and relational databases (e.g., MySQL, PostgreSQL).\\n    *   **Web Technologies (Optional):** Exposure to Servlets, JSP, or basic web frameworks is a plus.\\n*   **Responsibilities:**\\n    *   Writing clean, well-documented, and testable code.\\n    *   Participating in code reviews.\\n    *   Working with senior developers to learn and implement new features.\\n    *   Troubleshooting and debugging issues.\\n    *   Contributing to the design and architecture of software systems.\\n    *   Potentially writing unit tests.\\n*   **Experience Level:** Explicitly stating that it\\'s an entry-level or junior position.\\n*   **Education:** A degree in Computer Science or a related field might be preferred, or equivalent experience.\\n\\n**In conclusion:**\\n\\nBecause the job description you provided is just \"test job description\", I cannot assess if it suits a junior Java developer. Provide more details and I will be happy to help.\\n'"
            ]
          },
          "execution_count": 19,
          "metadata": {},
          "output_type": "execute_result"
        }
      ],
      "source": [
        "chat_prompt_template = ChatPromptTemplate.from_messages(\n",
        "    [(\"system\", \"You are a helpful assistant.\"),\n",
        "     (\"human\", prompt_template)])\n",
        "chain = chat_prompt_template | llm | StrOutputParser()\n",
        "chain.invoke({\"job_description\": job_description})"
      ]
    },
    {
      "cell_type": "code",
      "execution_count": 20,
      "id": "CrnUj6ibmOFU",
      "metadata": {
        "id": "CrnUj6ibmOFU"
      },
      "outputs": [],
      "source": [
        "from langchain_core.prompts import ChatPromptTemplate, MessagesPlaceholder\n",
        "\n",
        "chat_prompt_template = ChatPromptTemplate.from_messages(\n",
        "    [(\"system\", \"You are a helpful assistant.\"),\n",
        "     (\"placeholder\", \"{history}\"),\n",
        "     # same as MessagesPlaceholder(\"history\"),\n",
        "     (\"human\", prompt_template)])"
      ]
    },
    {
      "cell_type": "code",
      "execution_count": 21,
      "id": "shEcEyFCmWGL",
      "metadata": {
        "colab": {
          "base_uri": "https://localhost:8080/"
        },
        "executionInfo": {
          "elapsed": 5,
          "status": "ok",
          "timestamp": 1737441774074,
          "user": {
            "displayName": "",
            "userId": ""
          },
          "user_tz": -60
        },
        "id": "shEcEyFCmWGL",
        "outputId": "60378a08-857c-4273-bc5b-4fcab9d7feb5"
      },
      "outputs": [
        {
          "data": {
            "text/plain": [
              "ChatPromptValue(messages=[SystemMessage(content='You are a helpful assistant.', additional_kwargs={}, response_metadata={}), HumanMessage(content='Given a job description, decide whether it suites a junior Java developer.\\nJOB DESCRIPTION:\\nfake\\n', additional_kwargs={}, response_metadata={})])"
            ]
          },
          "execution_count": 21,
          "metadata": {},
          "output_type": "execute_result"
        }
      ],
      "source": [
        "chat_prompt_template.invoke(\"fake\")"
      ]
    },
    {
      "cell_type": "code",
      "execution_count": 22,
      "id": "wBJiC6Pemaio",
      "metadata": {
        "colab": {
          "base_uri": "https://localhost:8080/"
        },
        "executionInfo": {
          "elapsed": 302,
          "status": "ok",
          "timestamp": 1737442047468,
          "user": {
            "displayName": "",
            "userId": ""
          },
          "user_tz": -60
        },
        "id": "wBJiC6Pemaio",
        "outputId": "820f2359-268b-48dc-b385-0e189c836a51"
      },
      "outputs": [
        {
          "data": {
            "text/plain": [
              "4"
            ]
          },
          "execution_count": 22,
          "metadata": {},
          "output_type": "execute_result"
        }
      ],
      "source": [
        "len(chat_prompt_template.invoke({\"job_description\": \"fake\", \"history\": [(\"human\", \"hi!\"), (\"ai\", \"hi!\")]}).messages)"
      ]
    },
    {
      "cell_type": "code",
      "execution_count": 23,
      "id": "OJsYY21VexD_",
      "metadata": {
        "id": "OJsYY21VexD_"
      },
      "outputs": [],
      "source": [
        "examples = [\n",
        "    {\"question\": \"q1\", \"answer\": \"a1\"},\n",
        "    {\"question\": \"q2\", \"answer\": \"a2\"}\n",
        "]\n",
        "test_template = PromptTemplate.from_template(\"substituted a: {a}\")"
      ]
    },
    {
      "cell_type": "markdown",
      "id": "T5sCsLEWOpgE",
      "metadata": {
        "id": "T5sCsLEWOpgE"
      },
      "source": [
        "And we can use partial substitutions with templates:"
      ]
    },
    {
      "cell_type": "code",
      "execution_count": 24,
      "id": "iJzmiC3VsGBZ",
      "metadata": {
        "colab": {
          "base_uri": "https://localhost:8080/"
        },
        "executionInfo": {
          "elapsed": 2,
          "status": "ok",
          "timestamp": 1737712956201,
          "user": {
            "displayName": "",
            "userId": ""
          },
          "user_tz": -60
        },
        "id": "iJzmiC3VsGBZ",
        "outputId": "de45649f-dd85-42ef-a42a-21aef99648e8"
      },
      "outputs": [
        {
          "name": "stdout",
          "output_type": "stream",
          "text": [
            "a: a b: b\n"
          ]
        },
        {
          "data": {
            "text/plain": [
              "True"
            ]
          },
          "execution_count": 24,
          "metadata": {},
          "output_type": "execute_result"
        }
      ],
      "source": [
        "system_template = PromptTemplate.from_template(\"a: {a} b: {b}\")\n",
        "system_template_part = system_template.partial(\n",
        "    a=\"a\" # you also can provide a function here\n",
        ")\n",
        "print(system_template_part.invoke({\"b\": \"b\"}).text)\n",
        "\n",
        "system_template_part.invoke({\"b\": \"b\"}).text == system_template_part.format(b=\"b\")"
      ]
    },
    {
      "cell_type": "code",
      "execution_count": 25,
      "id": "SQ125jSEwpXe",
      "metadata": {
        "colab": {
          "base_uri": "https://localhost:8080/"
        },
        "executionInfo": {
          "elapsed": 2,
          "status": "ok",
          "timestamp": 1737713057440,
          "user": {
            "displayName": "",
            "userId": ""
          },
          "user_tz": -60
        },
        "id": "SQ125jSEwpXe",
        "outputId": "767e3ad3-994d-4c32-d915-2786d40f32c9"
      },
      "outputs": [
        {
          "name": "stdout",
          "output_type": "stream",
          "text": [
            "a: a b: b\n"
          ]
        }
      ],
      "source": [
        "system_template_part1 = PromptTemplate.from_template(\"a: {a}\")\n",
        "system_template_part2 = PromptTemplate.from_template(\"b: {b}\")\n",
        "system_template = system_template_part1 + system_template_part2\n",
        "print(system_template_part.invoke({\"a\": \"a\", \"b\": \"b\"}).text)"
      ]
    },
    {
      "cell_type": "code",
      "execution_count": 26,
      "id": "IKbQlaLdfSPH",
      "metadata": {
        "colab": {
          "base_uri": "https://localhost:8080/"
        },
        "executionInfo": {
          "elapsed": 3,
          "status": "ok",
          "timestamp": 1737713203523,
          "user": {
            "displayName": "",
            "userId": ""
          },
          "user_tz": -60
        },
        "id": "IKbQlaLdfSPH",
        "outputId": "5fd37b70-2bc1-4a64-bd07-1e3424d9d6a4"
      },
      "outputs": [
        {
          "name": "stdout",
          "output_type": "stream",
          "text": [
            "3\n",
            "a: a b: b\n"
          ]
        }
      ],
      "source": [
        "system_prompt_template = PromptTemplate.from_template(\"a: {a} b: {b}\")\n",
        "chat_prompt_template = ChatPromptTemplate.from_messages(\n",
        "    [(\"system\", system_prompt_template.template),\n",
        "     (\"human\", \"hi\"),\n",
        "     (\"ai\", \"{c}\")])\n",
        "\n",
        "messages = chat_prompt_template.invoke({\"a\": \"a\", \"b\": \"b\", \"c\": \"c\"}).messages\n",
        "print(len(messages))\n",
        "print(messages[0].content)"
      ]
    }
  ],
  "metadata": {
    "colab": {
      "name": "Chapter 2.3",
      "provenance": [],
      "toc_visible": true
    },
    "kernelspec": {
      "display_name": "Python 3 (ipykernel)",
      "language": "python",
      "name": "python3"
    },
    "language_info": {
      "codemirror_mode": {
        "name": "ipython",
        "version": 3
      },
      "file_extension": ".py",
      "mimetype": "text/x-python",
      "name": "python",
      "nbconvert_exporter": "python",
      "pygments_lexer": "ipython3",
      "version": "3.11.4"
    }
  },
  "nbformat": 4,
  "nbformat_minor": 5
}
