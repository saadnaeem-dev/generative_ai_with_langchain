{
  "cells": [
    {
      "cell_type": "markdown",
      "id": "at3Rj5Tzmyzi",
      "metadata": {
        "id": "at3Rj5Tzmyzi"
      },
      "source": [
        "### Error handling"
      ]
    },
    {
      "cell_type": "markdown",
      "id": "c4m3qFhym0TQ",
      "metadata": {
        "id": "c4m3qFhym0TQ"
      },
      "source": [
        "First, we can add `try... except ...` block to handle errors within your Python functions that are called by your chain or represent graph nodes:"
      ]
    },
    {
      "cell_type": "code",
      "execution_count": 1,
      "id": "7eb0e1b9",
      "metadata": {},
      "outputs": [],
      "source": [
        "from enum import Enum\n",
        "from langchain.output_parsers import EnumOutputParser\n",
        "from langchain_google_vertexai import ChatVertexAI\n",
        "\n",
        "class IsSuitableJobEnum(Enum):\n",
        "    YES = \"YES\"\n",
        "    NO = \"NO\"\n",
        "\n",
        "parser = EnumOutputParser(enum=IsSuitableJobEnum)\n",
        "\n",
        "prompt_template_enum = (\n",
        "    \"Given a job description, decide whether it suites a junior Java developer.\"\n",
        "    \"\\nJOB DESCRIPTION:\\n{job_description}\\n\\nAnswer only YES or NO.\"\n",
        ")\n",
        "\n",
        "job_description = \"test job description\"\n",
        "\n",
        "llm = ChatVertexAI(model=\"gemini-2.0-flash-001\")\n",
        "analyze_chain = llm | parser"
      ]
    },
    {
      "cell_type": "code",
      "execution_count": 2,
      "id": "wDR2JSCCnCl8",
      "metadata": {
        "id": "wDR2JSCCnCl8"
      },
      "outputs": [],
      "source": [
        "import logging\n",
        "logger = logging.getLogger(__name__)\n",
        "\n",
        "def analyze_job_description(state):\n",
        "    try:\n",
        "      prompt = prompt_template_enum.format(job_description=job_description)\n",
        "      result = analyze_chain.invoke(prompt)\n",
        "      return {\"is_suitable\": result}\n",
        "    except Exception as e:\n",
        "      logger.error(f\"Exception {e} occured while executing analyze_job_description\")\n",
        "      return {\"is_suitable\": False}"
      ]
    },
    {
      "cell_type": "markdown",
      "id": "8a9166dc",
      "metadata": {},
      "source": [
        "Let's create a fake LLM to test our chain:"
      ]
    },
    {
      "cell_type": "code",
      "execution_count": 3,
      "id": "SWCUFhGJrNHP",
      "metadata": {
        "id": "SWCUFhGJrNHP"
      },
      "outputs": [],
      "source": [
        "from langchain_core.language_models import GenericFakeChatModel\n",
        "from langchain_core.messages import AIMessage\n",
        "\n",
        "class MessagesIterator:\n",
        "\n",
        "    def __init__(self):\n",
        "        self._count = 0\n",
        "\n",
        "    def __iter__(self):\n",
        "        return self\n",
        "\n",
        "    def __next__(self):\n",
        "        self._count += 1\n",
        "        if self._count % 2 == 1:\n",
        "            raise ValueError(\"Something went wrong\")\n",
        "        return AIMessage(content=\"YES\")\n",
        "\n",
        "fake_llm = GenericFakeChatModel(messages=MessagesIterator())"
      ]
    },
    {
      "cell_type": "markdown",
      "id": "af047850",
      "metadata": {},
      "source": [
        "Let's reuse the graph from our previous notebook:"
      ]
    },
    {
      "cell_type": "code",
      "execution_count": 13,
      "id": "a8103e5c",
      "metadata": {},
      "outputs": [],
      "source": [
        "from typing_extensions import TypedDict\n",
        "from typing import Annotated, Literal\n",
        "from operator import add\n",
        "from langgraph.graph import StateGraph, START, END\n",
        "\n",
        "class JobApplicationState(TypedDict):\n",
        "    job_description: str\n",
        "    is_suitable: bool\n",
        "    application: str\n",
        "    actions: Annotated[list[str], add]\n",
        "\n",
        "def generate_application(state):\n",
        "    print(\"...generating application...\")\n",
        "    return {\"application\": \"some_fake_application\", \"actions\": [\"action2\"]}\n",
        "\n",
        "def is_suitable_condition(state: StateGraph) -> Literal[\"generate_application\", END]:\n",
        "    if state.get(\"is_suitable\"):\n",
        "        return \"generate_application\"\n",
        "    return END"
      ]
    },
    {
      "cell_type": "code",
      "execution_count": 16,
      "id": "PCjglbQcrHTK",
      "metadata": {
        "colab": {
          "base_uri": "https://localhost:8080/",
          "height": 374
        },
        "executionInfo": {
          "elapsed": 320,
          "status": "ok",
          "timestamp": 1737277742837,
          "user": {
            "displayName": "",
            "userId": ""
          },
          "user_tz": -60
        },
        "id": "PCjglbQcrHTK",
        "outputId": "4174c444-ee2f-4f2b-f1bb-a84bc616139e"
      },
      "outputs": [
        {
          "data": {
            "image/png": "[encoded data removed]",
            "text/plain": [
              "<IPython.core.display.Image object>"
            ]
          },
          "metadata": {},
          "output_type": "display_data"
        }
      ],
      "source": [
        "from langchain_core.runnables.config import RunnableConfig\n",
        "\n",
        "llms = {\n",
        "    \"fake\": fake_llm,\n",
        "    \"Google\": llm\n",
        "}\n",
        "\n",
        "def analyze_job_description(state, config: RunnableConfig):\n",
        "    try:\n",
        "      print(\"here\")\n",
        "      llm = config[\"configurable\"].get(\"model_provider\", \"Google\")\n",
        "      analyze_chain = llm | parser\n",
        "      prompt = prompt_template_enum.format(job_description=job_description)\n",
        "      result = analyze_chain.invoke(prompt)\n",
        "      return {\"is_suitable\": result}\n",
        "    except Exception as e:\n",
        "      logger.error(f\"Exception {e} occured while executing analyze_job_description\")\n",
        "      return {\"is_suitable\": False}\n",
        "\n",
        "builder = StateGraph(JobApplicationState)\n",
        "builder.add_node(\"analyze_job_description\", analyze_job_description)\n",
        "builder.add_node(\"generate_application\", generate_application)\n",
        "builder.add_edge(START, \"analyze_job_description\")\n",
        "builder.add_conditional_edges(\n",
        "    \"analyze_job_description\", is_suitable_condition)\n",
        "builder.add_edge(\"generate_application\", END)\n",
        "\n",
        "graph = builder.compile()\n",
        "\n",
        "from IPython.display import Image, display\n",
        "display(Image(graph.get_graph().draw_mermaid_png()))"
      ]
    },
    {
      "cell_type": "code",
      "execution_count": 17,
      "id": "MwBzMiSev9Tv",
      "metadata": {
        "colab": {
          "base_uri": "https://localhost:8080/"
        },
        "executionInfo": {
          "elapsed": 348,
          "status": "ok",
          "timestamp": 1737276519189,
          "user": {
            "displayName": "",
            "userId": ""
          },
          "user_tz": -60
        },
        "id": "MwBzMiSev9Tv",
        "outputId": "a56dbdde-e816-4933-c146-f4bdf8726535"
      },
      "outputs": [
        {
          "name": "stderr",
          "output_type": "stream",
          "text": [
            "Exception Expected a Runnable, callable or dict.Instead got an unsupported type: <class 'str'> occured while executing analyze_job_description\n"
          ]
        },
        {
          "name": "stdout",
          "output_type": "stream",
          "text": [
            "here\n",
            "{'job_description': 'fake_jd', 'is_suitable': False, 'actions': []}\n"
          ]
        }
      ],
      "source": [
        "res = graph.invoke({\"job_description\":\"fake_jd\"}, config={\"configurable\": {\"model_provider\": \"fake\"}})\n",
        "print(res)"
      ]
    },
    {
      "cell_type": "code",
      "execution_count": 18,
      "id": "56w2x-xIrwUe",
      "metadata": {
        "id": "56w2x-xIrwUe"
      },
      "outputs": [],
      "source": [
        "analyze_chain_fake = fake_llm | parser\n",
        "\n",
        "fake_llm_retry = fake_llm.with_retry(\n",
        "    retry_if_exception_type=(ValueError,),\n",
        "    wait_exponential_jitter=True,\n",
        "    stop_after_attempt=2,\n",
        ")\n",
        "analyze_chain_fake_retries = fake_llm_retry | parser"
      ]
    },
    {
      "cell_type": "code",
      "execution_count": 19,
      "id": "T-BWh3sHzSEy",
      "metadata": {
        "id": "T-BWh3sHzSEy"
      },
      "outputs": [],
      "source": [
        "analyze_chain_fake_retries = (fake_llm | parser).with_retry(\n",
        "    retry_if_exception_type=(ValueError,),\n",
        "    wait_exponential_jitter=True,\n",
        "    stop_after_attempt=2,\n",
        ")"
      ]
    },
    {
      "cell_type": "code",
      "execution_count": 20,
      "id": "-_a464oNrHVs",
      "metadata": {
        "colab": {
          "base_uri": "https://localhost:8080/"
        },
        "executionInfo": {
          "elapsed": 1885,
          "status": "ok",
          "timestamp": 1737277407131,
          "user": {
            "displayName": "",
            "userId": ""
          },
          "user_tz": -60
        },
        "id": "-_a464oNrHVs",
        "outputId": "d35ee0ab-1798-47b6-f74b-8b8a061dc587"
      },
      "outputs": [
        {
          "data": {
            "text/plain": [
              "<IsSuitableJobEnum.YES: 'YES'>"
            ]
          },
          "execution_count": 20,
          "metadata": {},
          "output_type": "execute_result"
        }
      ],
      "source": [
        "analyze_chain_fake_retries.invoke(\"test\")"
      ]
    },
    {
      "cell_type": "code",
      "execution_count": 24,
      "id": "r7xRKEFqyRd3",
      "metadata": {
        "colab": {
          "base_uri": "https://localhost:8080/",
          "height": 374
        },
        "executionInfo": {
          "elapsed": 6,
          "status": "ok",
          "timestamp": 1737277889793,
          "user": {
            "displayName": "",
            "userId": ""
          },
          "user_tz": -60
        },
        "id": "r7xRKEFqyRd3",
        "outputId": "03581b3f-2565-4780-a70e-00384c4fea79"
      },
      "outputs": [
        {
          "data": {
            "image/png": "[encoded data removed]",
            "text/plain": [
              "<IPython.core.display.Image object>"
            ]
          },
          "metadata": {},
          "output_type": "display_data"
        }
      ],
      "source": [
        "from langgraph.pregel import RetryPolicy\n",
        "\n",
        "def analyze_job_description(state, config: RunnableConfig):\n",
        "    model_provider = config[\"configurable\"].get(\"model_provider\", \"Google\")\n",
        "    llm = llms[model_provider]\n",
        "    analyze_chain = llm | parser\n",
        "    prompt = prompt_template_enum.format(job_description=job_description)\n",
        "    result = analyze_chain.invoke(prompt)\n",
        "    return {\"is_suitable\": result}\n",
        "\n",
        "builder = StateGraph(JobApplicationState)\n",
        "builder.add_node(\"analyze_job_description\", analyze_job_description, retry=RetryPolicy(retry_on=ValueError, max_attempts=2))\n",
        "builder.add_node(\"generate_application\", generate_application)\n",
        "builder.add_edge(START, \"analyze_job_description\")\n",
        "builder.add_conditional_edges(\n",
        "    \"analyze_job_description\", is_suitable_condition)\n",
        "builder.add_edge(\"generate_application\", END)\n",
        "\n",
        "graph = builder.compile()\n",
        "\n",
        "from IPython.display import Image, display\n",
        "display(Image(graph.get_graph().draw_mermaid_png()))"
      ]
    },
    {
      "cell_type": "code",
      "execution_count": 25,
      "id": "T7FvKTmZRD0Y",
      "metadata": {
        "colab": {
          "base_uri": "https://localhost:8080/"
        },
        "executionInfo": {
          "elapsed": 1485,
          "status": "ok",
          "timestamp": 1737277898959,
          "user": {
            "displayName": "",
            "userId": ""
          },
          "user_tz": -60
        },
        "id": "T7FvKTmZRD0Y",
        "outputId": "d3445747-0004-4424-8b9d-0c1f4d41988d"
      },
      "outputs": [
        {
          "name": "stdout",
          "output_type": "stream",
          "text": [
            "...generating application...\n",
            "{'job_description': 'test job description', 'is_suitable': <IsSuitableJobEnum.YES: 'YES'>, 'application': 'some_fake_application', 'actions': ['action2']}\n"
          ]
        }
      ],
      "source": [
        "res = graph.invoke({\"job_description\": job_description}, config={\"configurable\": {\"model_provider\": \"fake\"}})\n",
        "print(res)"
      ]
    },
    {
      "cell_type": "code",
      "execution_count": 26,
      "id": "ztp3Ywdn0HOY",
      "metadata": {
        "colab": {
          "base_uri": "https://localhost:8080/"
        },
        "executionInfo": {
          "elapsed": 336,
          "status": "ok",
          "timestamp": 1737277608041,
          "user": {
            "displayName": "",
            "userId": ""
          },
          "user_tz": -60
        },
        "id": "ztp3Ywdn0HOY",
        "outputId": "710e87ca-8631-4e33-e013-a9f6823278b3"
      },
      "outputs": [
        {
          "name": "stdout",
          "output_type": "stream",
          "text": [
            "...generating application...\n",
            "{'job_description': 'fake_jd', 'is_suitable': <IsSuitableJobEnum.YES: 'YES'>, 'application': 'some_fake_application', 'actions': ['action2']}\n"
          ]
        }
      ],
      "source": [
        "res = graph.invoke({\"job_description\":\"fake_jd\"}, config={\"configurable\": {\"model_provider\": \"fake\"}})\n",
        "print(res)"
      ]
    },
    {
      "cell_type": "code",
      "execution_count": 31,
      "id": "tbNgMnVLPzSk",
      "metadata": {
        "colab": {
          "base_uri": "https://localhost:8080/"
        },
        "executionInfo": {
          "elapsed": 3,
          "status": "ok",
          "timestamp": 1737355068494,
          "user": {
            "displayName": "",
            "userId": ""
          },
          "user_tz": -60
        },
        "id": "tbNgMnVLPzSk",
        "outputId": "e635e3ce-da5e-4838-ac85-674b8781d8b3"
      },
      "outputs": [
        {
          "data": {
            "text/plain": [
              "AIMessage(content='YES', additional_kwargs={}, response_metadata={}, id='run-bd9366c1-6ffe-400d-97e5-cfb9441176b2-0')"
            ]
          },
          "execution_count": 31,
          "metadata": {},
          "output_type": "execute_result"
        }
      ],
      "source": [
        "fake_llm.invoke(\"test\")"
      ]
    },
    {
      "cell_type": "code",
      "execution_count": 32,
      "id": "DRcYG4jJb0vv",
      "metadata": {
        "colab": {
          "base_uri": "https://localhost:8080/"
        },
        "executionInfo": {
          "elapsed": 1544,
          "status": "ok",
          "timestamp": 1737357368016,
          "user": {
            "displayName": "",
            "userId": ""
          },
          "user_tz": -60
        },
        "id": "DRcYG4jJb0vv",
        "outputId": "d475afcc-9133-4d6c-d45f-7e9d726dcc5c"
      },
      "outputs": [
        {
          "name": "stdout",
          "output_type": "stream",
          "text": [
            "running fallback\n",
            "running main chain\n"
          ]
        }
      ],
      "source": [
        "from langchain_core.runnables import RunnableLambda\n",
        "\n",
        "chain_fallback = RunnableLambda(lambda _: print(\"running fallback\"))\n",
        "chain = fake_llm | RunnableLambda(lambda _: print(\"running main chain\"))\n",
        "chain_with_fb = chain.with_fallbacks([chain_fallback])\n",
        "\n",
        "chain_with_fb.invoke(\"test\")\n",
        "chain_with_fb.invoke(\"test\")"
      ]
    }
  ],
  "metadata": {
    "colab": {
      "name": "Chapter 2.3",
      "provenance": [],
      "toc_visible": true
    },
    "kernelspec": {
      "display_name": "Python 3 (ipykernel)",
      "language": "python",
      "name": "python3"
    },
    "language_info": {
      "codemirror_mode": {
        "name": "ipython",
        "version": 3
      },
      "file_extension": ".py",
      "mimetype": "text/x-python",
      "name": "python",
      "nbconvert_exporter": "python",
      "pygments_lexer": "ipython3",
      "version": "3.11.4"
    }
  },
  "nbformat": 4,
  "nbformat_minor": 5
}
