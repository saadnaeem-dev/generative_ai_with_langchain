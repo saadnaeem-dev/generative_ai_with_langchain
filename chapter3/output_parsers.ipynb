{
  "cells": [
    {
      "cell_type": "markdown",
      "id": "08g9lgvgPsMX",
      "metadata": {
        "id": "08g9lgvgPsMX"
      },
      "source": [
        "# Output parsers"
      ]
    },
    {
      "cell_type": "markdown",
      "id": "p-pj5jeEiWNh",
      "metadata": {
        "id": "p-pj5jeEiWNh"
      },
      "source": [
        "Now, let's start working on the application logic itself. Let's use LLM to classify whether a job description suites an imaginary profile:"
      ]
    },
    {
      "cell_type": "code",
      "execution_count": 2,
      "id": "7nAor-xIutzb",
      "metadata": {
        "colab": {
          "base_uri": "https://localhost:8080/"
        },
        "executionInfo": {
          "elapsed": 912,
          "status": "ok",
          "timestamp": 1737358338923,
          "user": {
            "displayName": "",
            "userId": ""
          },
          "user_tz": -60
        },
        "id": "7nAor-xIutzb",
        "outputId": "11113cd3-72e9-4eeb-a785-a13872d0bf79"
      },
      "outputs": [
        {
          "name": "stdout",
          "output_type": "stream",
          "text": [
            "content='Please provide the job description. I need the text of the job description to determine if it is suitable for a junior Java developer.\\n' additional_kwargs={} response_metadata={'is_blocked': False, 'safety_ratings': [], 'usage_metadata': {'prompt_token_count': 19, 'candidates_token_count': 27, 'total_token_count': 46, 'prompt_tokens_details': [{'modality': 1, 'token_count': 19}], 'candidates_tokens_details': [{'modality': 1, 'token_count': 27}], 'cached_content_token_count': 0, 'cache_tokens_details': []}, 'finish_reason': 'STOP', 'avg_logprobs': -0.08271982051708081} id='run-76945220-87e4-4e4e-a528-be9e222f8904-0' usage_metadata={'input_tokens': 19, 'output_tokens': 27, 'total_tokens': 46}\n"
          ]
        }
      ],
      "source": [
        "from langchain_google_vertexai import ChatVertexAI\n",
        "llm = ChatVertexAI(model=\"gemini-1.5-flash-002\")\n",
        "\n",
        "job_description: str = \"\"\n",
        "prompt_template = (\n",
        "    \"Given a job description, decide whether it suites a junior Java developer.\"\n",
        "    \"\\nJOB DESCRIPTION:\\n{job_description}\\n\"\n",
        ")\n",
        "result = llm.invoke(prompt_template.format(job_description=job_description))\n",
        "print(result)"
      ]
    },
    {
      "cell_type": "markdown",
      "id": "JBLbfsEpihKJ",
      "metadata": {
        "id": "JBLbfsEpihKJ"
      },
      "source": [
        "Put any relevant job description here:"
      ]
    },
    {
      "cell_type": "code",
      "execution_count": 3,
      "id": "6p7GOP6mu1Qx",
      "metadata": {
        "id": "6p7GOP6mu1Qx"
      },
      "outputs": [],
      "source": [
        "job_description = \"\"\"\n",
        "SPS-Software Engineer (m/w/d) im Maschinenbau\n",
        "Glaston Germany GmbH\n",
        "Neuhausen-Hamberg\n",
        "Feste Anstellung\n",
        "Homeoffice möglich, Vollzeit\n",
        "Erschienen: vor 1 Tag\n",
        "Glaston Germany GmbH logo\n",
        "SPS-Software Engineer (m/w/d) im Maschinenbau\n",
        "Glaston Germany GmbH\n",
        "slide number 1slide number 2slide number 3\n",
        "Glaston ist eine internationale Marke mit weltweit führenden Unternehmen, die für zukunftsweisende Maschinen, Anlagen, Systeme und Dienstleistungen in der Bearbeitung von Architektur-, Fahrzeug- und Displayglas steht.\n",
        "\n",
        "Mit unserer über 50-jährigen Erfahrung am Standort Glaston Germany GmbH in Neuhausen bei Pforzheim verbessern und sichern wir nachhaltig die Produktivität unserer Kunden bei der Fertigung von Architekturglas. Diesen Erfolg verdanken wir unseren motivierten und engagierten Mitarbeitenden und wurden so zu einem der führenden Anbieter von automatisierten und kundenspezifischen Anlagen.\n",
        "\n",
        "Der Umgang mit Software liegt dir im Blut und du möchtest bei einem Hidden Champion durchstarten?\n",
        "Dein Faible für Softwarelösungen und dein Herz für unterschiedliche Technologien sind ideale Voraussetzungen, um Maschinen wieder zu alter Stärke zu verhelfen?\n",
        "Du hast einen ausgeprägten Servicegedanken und Spaß an der Arbeit mit Kunden?\n",
        "\n",
        "Dann komm zu Glaston! Wir suchen ab sofort für unseren Bereich Service Upgrades Verstärkung!\n",
        "\n",
        "SPS-SOFTWARE ENGINEER (M/W/D) IM MASCHINENBAU\n",
        "\n",
        "Als SPS-Software Engineer (m/w/d) im Maschinenbau sind deine Aufgabengebiete:\n",
        "Ausarbeitung und Weiterentwicklung von Kundenaufträgen und Upgrade-Konzepten\n",
        "Selbstständige und termingerechte Bearbeitung von Kundenprojekten und Bereitstellung der notwendigen Dokumente\n",
        "Unterstützung des Inbetriebnahme- und Servicepersonals im Haus und beim Kunden vor Ort\n",
        "Diese Anforderungen musst du mitbringen:\n",
        "Qualifizierte technische Ausbildung: Techniker, Studium oder vergleichbare Qualifikation\n",
        "Mehrjährige Berufserfahrung im Serviceumfeld, idealerweise im Maschinen- und Anlagenbau\n",
        "Umfangreiche Kenntnisse in verschiedenen SPS-Programmiersprachen (z.B. S7Classic, TIA, Simotion)\n",
        "Bei uns profitierst du von folgenden Benefits:\n",
        "Exzellente Rahmenbedingungen (z.B. attraktives Gehaltsmodell, flexible Arbeitszeiten mit Gleitzeit und Homeoffice-Möglichkeiten)\n",
        "Attraktives Arbeitsumfeld in idyllisch-ländlicher Lage\n",
        "Umfangreiche Mobilitätsförderung (z.B. Ladestation für Elektroautos)\n",
        "Wellbeing am Arbeitsplatz\n",
        "\"\"\""
      ]
    },
    {
      "cell_type": "markdown",
      "id": "5vPgILSuioc_",
      "metadata": {
        "id": "5vPgILSuioc_"
      },
      "source": [
        "And run it:"
      ]
    },
    {
      "cell_type": "code",
      "execution_count": 4,
      "id": "ecc_MzLfzywP",
      "metadata": {
        "colab": {
          "base_uri": "https://localhost:8080/"
        },
        "executionInfo": {
          "elapsed": 388,
          "status": "ok",
          "timestamp": 1737009111568,
          "user": {
            "displayName": "",
            "userId": ""
          },
          "user_tz": -60
        },
        "id": "ecc_MzLfzywP",
        "outputId": "60c52e9d-a347-4098-bb35-fb563d5797a3"
      },
      "outputs": [
        {
          "name": "stdout",
          "output_type": "stream",
          "text": [
            "NO\n",
            "\n"
          ]
        }
      ],
      "source": [
        "prompt_template_enum = (\n",
        "    \"Given a job description, decide whether it suites a junior Java developer.\"\n",
        "    \"\\nJOB DESCRIPTION:\\n{job_description}\\n\\nAnswer only YES or NO.\"\n",
        ")\n",
        "result = llm.invoke(prompt_template_enum.format(job_description=job_description))\n",
        "print(result.content)"
      ]
    },
    {
      "cell_type": "markdown",
      "id": "B6CPB8-Jir4Q",
      "metadata": {
        "id": "B6CPB8-Jir4Q"
      },
      "source": [
        "Let's use an out-of-the-box parser provided by LangChain:"
      ]
    },
    {
      "cell_type": "code",
      "execution_count": 5,
      "id": "826Fqkq0z9J0",
      "metadata": {
        "id": "826Fqkq0z9J0"
      },
      "outputs": [],
      "source": [
        "from enum import Enum\n",
        "from langchain.output_parsers import EnumOutputParser\n",
        "from langchain_core.messages import HumanMessage\n",
        "\n",
        "class IsSuitableJobEnum(Enum):\n",
        "    YES = \"YES\"\n",
        "    NO = \"NO\"\n",
        "\n",
        "parser = EnumOutputParser(enum=IsSuitableJobEnum)\n",
        "\n",
        "assert parser.invoke(\"NO\") == IsSuitableJobEnum.NO\n",
        "assert parser.invoke(\"YES\\n\") == IsSuitableJobEnum.YES\n",
        "assert parser.invoke(\" YES \\n\") == IsSuitableJobEnum.YES\n",
        "assert parser.invoke(HumanMessage(content=\" YES \\n\")) == IsSuitableJobEnum.YES"
      ]
    },
    {
      "cell_type": "code",
      "execution_count": 6,
      "id": "9wIWRVFZ7cf2",
      "metadata": {
        "colab": {
          "base_uri": "https://localhost:8080/"
        },
        "executionInfo": {
          "elapsed": 322,
          "status": "ok",
          "timestamp": 1737011121921,
          "user": {
            "displayName": "",
            "userId": ""
          },
          "user_tz": -60
        },
        "id": "9wIWRVFZ7cf2",
        "outputId": "10fa1601-20c7-44b0-f30a-8b9bf7028b7c"
      },
      "outputs": [
        {
          "name": "stdout",
          "output_type": "stream",
          "text": [
            "IsSuitableJobEnum.NO\n"
          ]
        }
      ],
      "source": [
        "chain = llm | parser\n",
        "result = chain.invoke(prompt_template_enum.format(job_description=job_description))\n",
        "print(result)"
      ]
    },
    {
      "cell_type": "markdown",
      "id": "JgA1BCtIizzc",
      "metadata": {
        "id": "JgA1BCtIizzc"
      },
      "source": [
        "Now we can re-run our graph:"
      ]
    },
    {
      "cell_type": "code",
      "execution_count": 8,
      "id": "oshouSSlPzPp",
      "metadata": {
        "colab": {
          "base_uri": "https://localhost:8080/",
          "height": 374
        },
        "executionInfo": {
          "elapsed": 355,
          "status": "ok",
          "timestamp": 1737201556405,
          "user": {
            "displayName": "",
            "userId": ""
          },
          "user_tz": -60
        },
        "id": "oshouSSlPzPp",
        "outputId": "0f80b60f-4901-41c7-b8f2-dc213783e1d2"
      },
      "outputs": [
        {
          "data": {
            "image/png": "[encoded data removed]",
            "text/plain": [
              "<IPython.core.display.Image object>"
            ]
          },
          "metadata": {},
          "output_type": "display_data"
        }
      ],
      "source": [
        "from typing_extensions import TypedDict\n",
        "from langchain_core.runnables.config import RunnableConfig\n",
        "from langgraph.graph import StateGraph, START, END\n",
        "\n",
        "class JobApplicationState(TypedDict):\n",
        "    job_description: str\n",
        "    is_suitable: IsSuitableJobEnum\n",
        "    application: str\n",
        "\n",
        "analyze_chain = llm | parser\n",
        "\n",
        "\n",
        "def analyze_job_description(state):\n",
        "    job_description = state[\"job_description\"]\n",
        "    prompt = prompt_template_enum.format(job_description=job_description)\n",
        "    result = analyze_chain.invoke(prompt)\n",
        "    return {\"is_suitable\": result}\n",
        "\n",
        "\n",
        "def is_suitable_condition(state: StateGraph):\n",
        "    return state[\"is_suitable\"] == IsSuitableJobEnum.YES\n",
        "\n",
        "\n",
        "def generate_application(state):\n",
        "    print(\"...generating application...\")\n",
        "    return {\"application\": \"some_fake_application\", \"actions\": [\"action2\"]}\n",
        "\n",
        "\n",
        "builder = StateGraph(JobApplicationState)\n",
        "builder.add_node(\"analyze_job_description\", analyze_job_description)\n",
        "builder.add_node(\"generate_application\", generate_application)\n",
        "builder.add_edge(START, \"analyze_job_description\")\n",
        "builder.add_conditional_edges(\n",
        "    \"analyze_job_description\", is_suitable_condition,\n",
        "     {True: \"generate_application\", False: END})\n",
        "builder.add_edge(\"generate_application\", END)\n",
        "\n",
        "graph = builder.compile()\n",
        "\n",
        "from IPython.display import Image, display\n",
        "display(Image(graph.get_graph().draw_mermaid_png()))"
      ]
    }
  ],
  "metadata": {
    "colab": {
      "name": "Chapter 2.3",
      "provenance": [],
      "toc_visible": true
    },
    "kernelspec": {
      "display_name": "Python 3 (ipykernel)",
      "language": "python",
      "name": "python3"
    }
  },
  "nbformat": 4,
  "nbformat_minor": 5
}
