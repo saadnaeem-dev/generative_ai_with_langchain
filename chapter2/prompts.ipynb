{
 "cells": [
  {
   "cell_type": "markdown",
   "id": "f206ee1d-1a04-4913-8839-f82b56339a65",
   "metadata": {},
   "source": [
    "# Working with prompts"
   ]
  },
  {
   "cell_type": "code",
   "execution_count": 1,
   "id": "b884be9e-3f48-41d6-a810-2a70f9343ad0",
   "metadata": {},
   "outputs": [],
   "source": [
    "# setting the environment variables, the keys\n",
    "import sys\n",
    "import os\n",
    "\n",
    "sys.path.insert(0, os.path.abspath('..'))\n",
    "\n",
    "from config import set_environment\n",
    "# for the keys - as explained early in chapter 2\n",
    "set_environment()"
   ]
  },
  {
   "cell_type": "markdown",
   "id": "7e6546c9-bc82-4e3d-9569-92a148305dc3",
   "metadata": {},
   "source": [
    "## LLMs and prompts"
   ]
  },
  {
   "cell_type": "code",
   "execution_count": 3,
   "id": "f55d51c7-57b7-46dd-80ee-48ad427d5d07",
   "metadata": {},
   "outputs": [
    {
     "name": "stdout",
     "output_type": "stream",
     "text": [
      "AI is revolutionizing various industries, leading to advancements in fields such as healthcare, finance, and transportation.\n"
     ]
    }
   ],
   "source": [
    "from langchain_core.prompts import PromptTemplate\n",
    "from langchain_google_genai import GoogleGenerativeAI\n",
    "\n",
    "# Create a template with variables\n",
    "template = \"\"\"\n",
    "Summarize this text in one sentence:\n",
    "\n",
    "{text}\n",
    "\"\"\"\n",
    "llm = GoogleGenerativeAI(model=\"gemini-pro\")\n",
    "\n",
    "prompt = PromptTemplate.from_template(template)\n",
    "\n",
    "# Format the prompt with actual values\n",
    "formatted_prompt = prompt.format(text=\"Some long story about AI...\")\n",
    "\n",
    "# Use with any LLM, such as the one created in the LLM section\n",
    "result = llm.invoke(formatted_prompt)\n",
    "print(result)"
   ]
  },
  {
   "cell_type": "markdown",
   "id": "3a485277-1698-4196-a2bb-3957acdc6584",
   "metadata": {},
   "source": [
    "## Chat models and prompts"
   ]
  },
  {
   "cell_type": "code",
   "execution_count": 8,
   "id": "593bd346-ccb3-4edd-8bee-d98224b6e127",
   "metadata": {},
   "outputs": [
    {
     "name": "stdout",
     "output_type": "stream",
     "text": [
      "Bonjour, comment ça va ?\n"
     ]
    }
   ],
   "source": [
    "from langchain_core.prompts import ChatPromptTemplate\n",
    "from langchain_openai import ChatOpenAI\n",
    "\n",
    "template = ChatPromptTemplate.from_messages([\n",
    "    (\"system\", \"You are an English to French translator.\"),\n",
    "    (\"user\", \"Translate this to French: {text}\")\n",
    "])\n",
    "\n",
    "chat = ChatOpenAI()\n",
    "formatted_messages = template.format_messages(text=\"Hello, how are you?\")\n",
    "result = chat.invoke(formatted_messages)\n",
    "print(result.content)"
   ]
  },
  {
   "cell_type": "code",
   "execution_count": null,
   "id": "e8659414-dcfd-43a3-b71e-30b58b02ef3b",
   "metadata": {},
   "outputs": [],
   "source": []
  }
 ],
 "metadata": {
  "kernelspec": {
   "display_name": "Python 3 (ipykernel)",
   "language": "python",
   "name": "python3"
  },
  "language_info": {
   "codemirror_mode": {
    "name": "ipython",
    "version": 3
   },
   "file_extension": ".py",
   "mimetype": "text/x-python",
   "name": "python",
   "nbconvert_exporter": "python",
   "pygments_lexer": "ipython3",
   "version": "3.11.11"
  }
 },
 "nbformat": 4,
 "nbformat_minor": 5
}
