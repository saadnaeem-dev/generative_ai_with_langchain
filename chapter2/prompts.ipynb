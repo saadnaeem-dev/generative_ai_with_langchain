{
 "cells": [
  {
   "cell_type": "markdown",
   "id": "f206ee1d-1a04-4913-8839-f82b56339a65",
   "metadata": {},
   "source": [
    "# Working with prompts"
   ]
  },
  {
   "cell_type": "code",
   "execution_count": 1,
   "id": "b884be9e-3f48-41d6-a810-2a70f9343ad0",
   "metadata": {},
   "outputs": [],
   "source": [
    "# setting the environment variables, the keys\n",
    "import sys\n",
    "import os\n",
    "\n",
    "sys.path.insert(0, os.path.abspath('..'))\n",
    "\n",
    "from config import set_environment\n",
    "# for the keys - as explained early in chapter 2\n",
    "set_environment()"
   ]
  },
  {
   "cell_type": "code",
   "execution_count": 13,
   "id": "0109ed33-1ceb-4d31-92f7-b532e44f48da",
   "metadata": {},
   "outputs": [
    {
     "name": "stdout",
     "output_type": "stream",
     "text": [
      "\n",
      "Analysis: The mood of the story is predominantly **calm, peaceful, and subtly romantic.** There's a sense of gentle melancholy brought on by the rain and the quiet emptiness of the bookshop, but this is balanced by a feeling of warmth and hope.\n",
      "\n",
      "Several elements contribute to this mood:\n",
      "\n",
      "* **The rain:** Described with soft, gentle imagery (\"sigh,\" \"kissed,\" \"watercolor painting\"), the rain sets a tranquil and reflective tone.  It's not a violent storm but a nurturing presence that cleanses and transforms.\n",
      "* **The quiet bookshop:** The emptiness of the shop contributes to the initial melancholy but also creates a sense of intimacy and refuge, both for Elsie and for Daniel.  It's a space removed from the bustle of the world.\n",
      "* **Elsie's contentment:** Her appreciation for the quiet afternoon and her love of books create a sense of peace and contentment.  She's not lonely but rather enjoys the solitude.\n",
      "* **The gentle encounter:** Daniel's arrival and the subsequent conversation are imbued with a quiet warmth. Their shared appreciation for poetry and the rain creates a subtle romantic tension.\n",
      "* **The symbolism of the rain:** The rain acts as a catalyst for connection, bringing Daniel into the bookshop and fostering a shared experience. The story suggests that beauty and growth can emerge from seemingly dreary circumstances, just as flowers bloom after the rain.\n",
      "* **The ending:**  Daniel's gratitude and Elsie's lingering sense of connection leave the reader with a feeling of hope and warmth, suggesting the possibility of future encounters.\n",
      "\n",
      "Overall, the story evokes a sense of quiet contemplation, gentle connection, and the appreciation of simple pleasures. The rain acts as both a literal and metaphorical backdrop, fostering a mood of peaceful introspection and subtle romance.\n",
      "\n"
     ]
    }
   ],
   "source": [
    "from langchain_core.prompts import PromptTemplate\n",
    "from langchain_google_genai import GoogleGenerativeAI\n",
    "from langchain_core.output_parsers import StrOutputParser\n",
    "\n",
    "llm = GoogleGenerativeAI(model=\"gemini-1.5-pro\")\n",
    "\n",
    "# First chain generates a story\n",
    "story_prompt = PromptTemplate.from_template(\"Write a short story about {topic}\")\n",
    "story_chain = story_prompt | llm | StrOutputParser()\n",
    "\n",
    "# Second chain analyzes the story\n",
    "analysis_prompt = PromptTemplate.from_template(\n",
    "    \"Analyze the following story's mood:\\n{story}\"\n",
    ")\n",
    "analysis_chain = analysis_prompt | llm | StrOutputParser()\n",
    "\n",
    "# Combine chains\n",
    "story_with_analysis = story_chain | analysis_chain\n",
    "\n",
    "# Run the combined chain\n",
    "story_analysis = story_with_analysis.invoke({\"topic\": \"a rainy day\"})\n",
    "print(\"\\nAnalysis:\", story_analysis)"
   ]
  },
  {
   "cell_type": "markdown",
   "id": "7e6546c9-bc82-4e3d-9569-92a148305dc3",
   "metadata": {},
   "source": [
    "## LLMs and prompts"
   ]
  },
  {
   "cell_type": "code",
   "execution_count": 11,
   "id": "f55d51c7-57b7-46dd-80ee-48ad427d5d07",
   "metadata": {},
   "outputs": [
    {
     "name": "stdout",
     "output_type": "stream",
     "text": [
      "This long story explores a topic related to artificial intelligence.\n",
      "\n"
     ]
    }
   ],
   "source": [
    "from langchain_core.prompts import PromptTemplate\n",
    "from langchain_google_genai import GoogleGenerativeAI\n",
    "\n",
    "# Create a template with variables\n",
    "template = \"\"\"\n",
    "Summarize this text in one sentence:\n",
    "\n",
    "{text}\n",
    "\"\"\"\n",
    "llm = GoogleGenerativeAI(model=\"gemini-1.5-pro\")\n",
    "\n",
    "prompt = PromptTemplate.from_template(template)\n",
    "\n",
    "# Format the prompt with actual values\n",
    "formatted_prompt = prompt.format(text=\"Some long story about AI...\")\n",
    "\n",
    "# Use with any LLM, such as the one created in the LLM section\n",
    "result = llm.invoke(formatted_prompt)\n",
    "print(result)"
   ]
  },
  {
   "cell_type": "markdown",
   "id": "3a485277-1698-4196-a2bb-3957acdc6584",
   "metadata": {},
   "source": [
    "## Chat models and prompts"
   ]
  },
  {
   "cell_type": "code",
   "execution_count": 8,
   "id": "593bd346-ccb3-4edd-8bee-d98224b6e127",
   "metadata": {},
   "outputs": [
    {
     "name": "stdout",
     "output_type": "stream",
     "text": [
      "Bonjour, comment ça va ?\n"
     ]
    }
   ],
   "source": [
    "from langchain_core.prompts import ChatPromptTemplate\n",
    "from langchain_openai import ChatOpenAI\n",
    "\n",
    "template = ChatPromptTemplate.from_messages([\n",
    "    (\"system\", \"You are an English to French translator.\"),\n",
    "    (\"user\", \"Translate this to French: {text}\")\n",
    "])\n",
    "\n",
    "chat = ChatOpenAI()\n",
    "formatted_messages = template.format_messages(text=\"Hello, how are you?\")\n",
    "result = chat.invoke(formatted_messages)\n",
    "print(result.content)"
   ]
  },
  {
   "cell_type": "code",
   "execution_count": null,
   "id": "e8659414-dcfd-43a3-b71e-30b58b02ef3b",
   "metadata": {},
   "outputs": [],
   "source": []
  }
 ],
 "metadata": {
  "kernelspec": {
   "display_name": "Python 3 (ipykernel)",
   "language": "python",
   "name": "python3"
  },
  "language_info": {
   "codemirror_mode": {
    "name": "ipython",
    "version": 3
   },
   "file_extension": ".py",
   "mimetype": "text/x-python",
   "name": "python",
   "nbconvert_exporter": "python",
   "pygments_lexer": "ipython3",
   "version": "3.11.11"
  }
 },
 "nbformat": 4,
 "nbformat_minor": 5
}
