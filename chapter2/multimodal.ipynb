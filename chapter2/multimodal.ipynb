{
 "cells": [
  {
   "cell_type": "code",
   "execution_count": 1,
   "id": "ef527e9e-146b-49f8-9947-190124700273",
   "metadata": {},
   "outputs": [],
   "source": [
    "# setting the environment variables, the keys\n",
    "import sys\n",
    "import os\n",
    "\n",
    "sys.path.insert(0, os.path.abspath('..'))\n",
    "\n",
    "from config import set_environment\n",
    "# for the keys - as explained early in chapter 2\n",
    "set_environment()"
   ]
  },
  {
   "cell_type": "markdown",
   "id": "9240f2cf-4a95-4519-ba0b-3db2440e0a7c",
   "metadata": {},
   "source": [
    "# Image generation and understanding"
   ]
  },
  {
   "cell_type": "markdown",
   "id": "68e3d7ec-572c-42b5-be11-a5bf4a679c84",
   "metadata": {},
   "source": [
    "## Image generation"
   ]
  },
  {
   "cell_type": "code",
   "execution_count": 2,
   "id": "bffaf937-bb00-4058-bbd5-34055afe9b62",
   "metadata": {},
   "outputs": [
    {
     "name": "stdout",
     "output_type": "stream",
     "text": [
      "https://oaidalleapiprodscus.blob.core.windows.net/private/org-v2zpDq7lmzeE7QnOAKN5KtVD/user-1kc8PP1odvcm9qydlgvraAFz/img-SWNktEa9YGySk1tMoUI0E7M0.png?st=2025-02-06T10%3A15%3A30Z&se=2025-02-06T12%3A15%3A30Z&sp=r&sv=2024-08-04&sr=b&rscd=inline&rsct=image/png&skoid=d505667d-d6c1-4a0a-bac7-5c84a87759f8&sktid=a48cca56-e6da-484e-a814-9c849652bcb3&skt=2025-02-06T00%3A46%3A12Z&ske=2025-02-07T00%3A46%3A12Z&sks=b&skv=2024-08-04&sig=T7ls10B/nvx2p%2B%2BUiCSfQTzuk0/6IBKqKtw2fcXEtJg%3D\n",
      "https://oaidalleapiprodscus.blob.core.windows.net/private/org-v2zpDq7lmzeE7QnOAKN5KtVD/user-1kc8PP1odvcm9qydlgvraAFz/img-SWNktEa9YGySk1tMoUI0E7M0.png?st=2025-02-06T10%3A15%3A30Z&se=2025-02-06T12%3A15%3A30Z&sp=r&sv=2024-08-04&sr=b&rscd=inline&rsct=image/png&skoid=d505667d-d6c1-4a0a-bac7-5c84a87759f8&sktid=a48cca56-e6da-484e-a814-9c849652bcb3&skt=2025-02-06T00%3A46%3A12Z&ske=2025-02-07T00%3A46%3A12Z&sks=b&skv=2024-08-04&sig=T7ls10B/nvx2p%2B%2BUiCSfQTzuk0/6IBKqKtw2fcXEtJg%3D\n"
     ]
    }
   ],
   "source": [
    "from langchain_community.utilities.dalle_image_generator import DallEAPIWrapper\n",
    "\n",
    "dalle = DallEAPIWrapper()\n",
    "\n",
    "# Generate an image\n",
    "image_url = dalle.run(\n",
    "    \"a cozy library with a fireplace at sunset\"\n",
    ")\n",
    "print(image_url)\n",
    "\n",
    "print(image_url)"
   ]
  },
  {
   "cell_type": "code",
   "execution_count": 3,
   "id": "8a368769-9cb1-4389-bb57-26d871d8c83b",
   "metadata": {},
   "outputs": [
    {
     "name": "stderr",
     "output_type": "stream",
     "text": [
      "/tmp/ipykernel_895809/2325833846.py:10: LangChainDeprecationWarning: The method `BaseLLM.__call__` was deprecated in langchain-core 0.1.7 and will be removed in 1.0. Use :meth:`~invoke` instead.\n",
      "  image_url = text2image(\n"
     ]
    },
    {
     "name": "stdout",
     "output_type": "stream",
     "text": [
      "https://replicate.delivery/yhqm/JGTpV46FdT7dE5RGgs0dy5qgLegwOqoIPPaAvrfOmOGMwkMUA/out-0.png\n"
     ]
    }
   ],
   "source": [
    "from langchain_community.llms import Replicate\n",
    "\n",
    "# Initialize the text-to-image model:\n",
    "text2image = Replicate(\n",
    "    model=\"stability-ai/stable-diffusion:27b93a2413e7f36cd83da926f3656280b2931564ff050bf9575f1fdf9bcd7478\",\n",
    "    model_kwargs={\"image_dimensions\": \"512x512\"}\n",
    ")\n",
    "\n",
    "# Generate an image\n",
    "image_url = text2image(\n",
    "    \"A futuristic city skyline at night with flying cars\"\n",
    ")\n",
    "\n",
    "print(image_url)"
   ]
  },
  {
   "cell_type": "markdown",
   "id": "9612494e-9abb-4a5f-8329-ce2e65c1882d",
   "metadata": {},
   "source": [
    "## Image understanding"
   ]
  },
  {
   "cell_type": "code",
   "execution_count": 7,
   "id": "bfda3cc0-0338-414d-8525-c93f73d7b98d",
   "metadata": {},
   "outputs": [
    {
     "name": "stdout",
     "output_type": "stream",
     "text": [
      "\n",
      "Q: What objects do you see in this image?\n",
      "A: The image features futuristic vehicles flying above a modern cityscape. There are tall skyscrapers, some with intricate designs and bright lighting, creating a vibrant urban environment. The ground appears to have markings that suggest a road or pathway, enhancing the sense of a bustling, advanced society.\n",
      "\n",
      "Q: What is the overall mood or atmosphere?\n",
      "A: The overall mood of the image conveys a futuristic and high-tech atmosphere. The sleek design of the vehicles and the towering skyscrapers suggest a vibrant, dynamic cityscape. The use of neon colors and lighting enhances a sense of innovation and excitement, creating an inviting yet electric ambiance. The scene evokes feelings of progress and possibility, characteristic of a sci-fi environment.\n",
      "\n",
      "Q: Are there any people in the image?\n",
      "A: No, there are no people in the image. It depicts futuristic vehicles and a cityscape.\n"
     ]
    }
   ],
   "source": [
    "from langchain_core.messages import HumanMessage\n",
    "from langchain_openai import ChatOpenAI\n",
    "\n",
    "def analyze_image(image_url: str, question: str) -> str:\n",
    "    chat = ChatOpenAI(model=\"gpt-4o-mini\", max_tokens=256)\n",
    "\n",
    "    message = HumanMessage(\n",
    "        content=[\n",
    "            {\n",
    "                \"type\": \"text\",\n",
    "                \"text\": question\n",
    "            },\n",
    "            {\n",
    "                \"type\": \"image_url\",\n",
    "                \"image_url\": {\n",
    "                    \"url\": image_url,\n",
    "                    \"detail\": \"auto\"\n",
    "                }\n",
    "            }\n",
    "        ]\n",
    "    )\n",
    "\n",
    "    response = chat.invoke([message])\n",
    "    return response.content\n",
    "\n",
    "# Example usage\n",
    "image_url = \"https://replicate.delivery/yhqm/JGTpV46FdT7dE5RGgs0dy5qgLegwOqoIPPaAvrfOmOGMwkMUA/out-0.png\"\n",
    "questions = [\n",
    "    \"What objects do you see in this image?\",\n",
    "    \"What is the overall mood or atmosphere?\",\n",
    "    \"Are there any people in the image?\"\n",
    "]\n",
    "\n",
    "for question in questions:\n",
    "    print(f\"\\nQ: {question}\")\n",
    "    print(f\"A: {analyze_image(image_url, question)}\")"
   ]
  },
  {
   "cell_type": "code",
   "execution_count": null,
   "id": "41dfc0f7-8f7e-4360-9e14-4ed343c871b1",
   "metadata": {},
   "outputs": [],
   "source": []
  }
 ],
 "metadata": {
  "kernelspec": {
   "display_name": "Python 3 (ipykernel)",
   "language": "python",
   "name": "python3"
  },
  "language_info": {
   "codemirror_mode": {
    "name": "ipython",
    "version": 3
   },
   "file_extension": ".py",
   "mimetype": "text/x-python",
   "name": "python",
   "nbconvert_exporter": "python",
   "pygments_lexer": "ipython3",
   "version": "3.11.11"
  }
 },
 "nbformat": 4,
 "nbformat_minor": 5
}
