{
 "cells": [
  {
   "cell_type": "markdown",
   "id": "5a0b91b3-2bb2-49ee-b43e-eb53eabc2b50",
   "metadata": {},
   "source": [
    "# Basic examples\n",
    "\n",
    "**Make sure you load the API keys for cloud providers!**"
   ]
  },
  {
   "cell_type": "markdown",
   "id": "5dd807e9-036c-44de-8752-1ef5fb23531f",
   "metadata": {},
   "source": [
    "**You can set your environment keys yourself or use a script. Please note that since keys are private, they are not included in the repository.**"
   ]
  },
  {
   "cell_type": "code",
   "execution_count": 7,
   "id": "294273f9-3852-49a4-86b1-9522e940725e",
   "metadata": {},
   "outputs": [],
   "source": [
    "# setting the environment variables, the keys\n",
    "import sys\n",
    "import os\n",
    "\n",
    "sys.path.insert(0, os.path.abspath('..'))\n",
    "\n",
    "from config import set_environment\n",
    "# for the keys - as explained early in chapter 2\n",
    "set_environment()"
   ]
  },
  {
   "cell_type": "markdown",
   "id": "de1d0a8a-c0a0-4e4a-9dc3-36cc1de83a43",
   "metadata": {},
   "source": [
    "You can use the same interface to work with different LLMs."
   ]
  },
  {
   "cell_type": "code",
   "execution_count": 10,
   "id": "8c523bfd-c9b7-426a-b02c-58b51039ca98",
   "metadata": {},
   "outputs": [
    {
     "name": "stdout",
     "output_type": "stream",
     "text": [
      "Why did the light bulb refuse to go to the party?\n",
      "\n",
      "Because it was feeling a little dim.\n"
     ]
    }
   ],
   "source": [
    "from langchain_openai import OpenAI\n",
    "from langchain_google_genai import GoogleGenerativeAI\n",
    "\n",
    "# initialize Gemini\n",
    "gemini_pro = GoogleGenerativeAI(model=\"gemini-pro\")\n",
    "\n",
    "# or: initialize OpenAI model\n",
    "openai_llm = OpenAI()\n",
    "\n",
    "# Both can be used with the same interface\n",
    "# response = openai_llm.invoke(\"Tell me a joke about light bulbs!\")\n",
    "response = gemini_pro.invoke(\"Tell me a joke about light bulbs!\")\n",
    "print(response)"
   ]
  },
  {
   "cell_type": "markdown",
   "id": "755ee5aa-fbf5-4a3e-ba62-2ef216174527",
   "metadata": {},
   "source": [
    "For testing, there's the FakeListLLM"
   ]
  },
  {
   "cell_type": "code",
   "execution_count": null,
   "id": "e8af08df-bc6f-4769-9591-6b51ea586cec",
   "metadata": {},
   "outputs": [
    {
     "ename": "PydanticUndefinedAnnotation",
     "evalue": "name 'BaseCache' is not defined\n\nFor further information visit https://errors.pydantic.dev/2.11/u/undefined-annotation",
     "output_type": "error",
     "traceback": [
      "\u001b[31m---------------------------------------------------------------------------\u001b[39m",
      "\u001b[31mNameError\u001b[39m                                 Traceback (most recent call last)",
      "\u001b[36mFile \u001b[39m\u001b[32mc:\\Users\\saadn\\anaconda3\\envs\\gen-ai-lang-chain-2nd-ed\\Lib\\site-packages\\pydantic\\main.py:645\u001b[39m, in \u001b[36mBaseModel.model_rebuild\u001b[39m\u001b[34m(cls, force, raise_errors, _parent_namespace_depth, _types_namespace)\u001b[39m\n\u001b[32m    644\u001b[39m \u001b[38;5;28;01mtry\u001b[39;00m:\n\u001b[32m--> \u001b[39m\u001b[32m645\u001b[39m     \u001b[38;5;28mcls\u001b[39m.__pydantic_fields__ = \u001b[43m_fields\u001b[49m\u001b[43m.\u001b[49m\u001b[43mrebuild_model_fields\u001b[49m\u001b[43m(\u001b[49m\n\u001b[32m    646\u001b[39m \u001b[43m        \u001b[49m\u001b[38;5;28;43mcls\u001b[39;49m\u001b[43m,\u001b[49m\n\u001b[32m    647\u001b[39m \u001b[43m        \u001b[49m\u001b[43mns_resolver\u001b[49m\u001b[43m=\u001b[49m\u001b[43mns_resolver\u001b[49m\u001b[43m,\u001b[49m\n\u001b[32m    648\u001b[39m \u001b[43m        \u001b[49m\u001b[43mtypevars_map\u001b[49m\u001b[43m=\u001b[49m\u001b[43mtypevars_map\u001b[49m\u001b[43m,\u001b[49m\n\u001b[32m    649\u001b[39m \u001b[43m    \u001b[49m\u001b[43m)\u001b[49m\n\u001b[32m    650\u001b[39m \u001b[38;5;28;01mexcept\u001b[39;00m \u001b[38;5;167;01mNameError\u001b[39;00m \u001b[38;5;28;01mas\u001b[39;00m e:\n",
      "\u001b[36mFile \u001b[39m\u001b[32mc:\\Users\\saadn\\anaconda3\\envs\\gen-ai-lang-chain-2nd-ed\\Lib\\site-packages\\pydantic\\_internal\\_fields.py:326\u001b[39m, in \u001b[36mrebuild_model_fields\u001b[39m\u001b[34m(cls, ns_resolver, typevars_map)\u001b[39m\n\u001b[32m    325\u001b[39m existing_desc = field_info.description\n\u001b[32m--> \u001b[39m\u001b[32m326\u001b[39m ann = \u001b[43m_typing_extra\u001b[49m\u001b[43m.\u001b[49m\u001b[43meval_type\u001b[49m\u001b[43m(\u001b[49m\n\u001b[32m    327\u001b[39m \u001b[43m    \u001b[49m\u001b[43mfield_info\u001b[49m\u001b[43m.\u001b[49m\u001b[43m_original_annotation\u001b[49m\u001b[43m,\u001b[49m\n\u001b[32m    328\u001b[39m \u001b[43m    \u001b[49m\u001b[43m*\u001b[49m\u001b[43mns_resolver\u001b[49m\u001b[43m.\u001b[49m\u001b[43mtypes_namespace\u001b[49m\u001b[43m,\u001b[49m\n\u001b[32m    329\u001b[39m \u001b[43m\u001b[49m\u001b[43m)\u001b[49m\n\u001b[32m    330\u001b[39m ann = _generics.replace_types(ann, typevars_map)\n",
      "\u001b[36mFile \u001b[39m\u001b[32mc:\\Users\\saadn\\anaconda3\\envs\\gen-ai-lang-chain-2nd-ed\\Lib\\site-packages\\pydantic\\_internal\\_typing_extra.py:397\u001b[39m, in \u001b[36meval_type\u001b[39m\u001b[34m(value, globalns, localns)\u001b[39m\n\u001b[32m    396\u001b[39m value = _type_convert(value)\n\u001b[32m--> \u001b[39m\u001b[32m397\u001b[39m \u001b[38;5;28;01mreturn\u001b[39;00m \u001b[43meval_type_backport\u001b[49m\u001b[43m(\u001b[49m\u001b[43mvalue\u001b[49m\u001b[43m,\u001b[49m\u001b[43m \u001b[49m\u001b[43mglobalns\u001b[49m\u001b[43m,\u001b[49m\u001b[43m \u001b[49m\u001b[43mlocalns\u001b[49m\u001b[43m)\u001b[49m\n",
      "\u001b[36mFile \u001b[39m\u001b[32mc:\\Users\\saadn\\anaconda3\\envs\\gen-ai-lang-chain-2nd-ed\\Lib\\site-packages\\pydantic\\_internal\\_typing_extra.py:429\u001b[39m, in \u001b[36meval_type_backport\u001b[39m\u001b[34m(value, globalns, localns, type_params)\u001b[39m\n\u001b[32m    428\u001b[39m \u001b[38;5;28;01mtry\u001b[39;00m:\n\u001b[32m--> \u001b[39m\u001b[32m429\u001b[39m     \u001b[38;5;28;01mreturn\u001b[39;00m \u001b[43m_eval_type_backport\u001b[49m\u001b[43m(\u001b[49m\u001b[43mvalue\u001b[49m\u001b[43m,\u001b[49m\u001b[43m \u001b[49m\u001b[43mglobalns\u001b[49m\u001b[43m,\u001b[49m\u001b[43m \u001b[49m\u001b[43mlocalns\u001b[49m\u001b[43m,\u001b[49m\u001b[43m \u001b[49m\u001b[43mtype_params\u001b[49m\u001b[43m)\u001b[49m\n\u001b[32m    430\u001b[39m \u001b[38;5;28;01mexcept\u001b[39;00m \u001b[38;5;167;01mTypeError\u001b[39;00m \u001b[38;5;28;01mas\u001b[39;00m e:\n",
      "\u001b[36mFile \u001b[39m\u001b[32mc:\\Users\\saadn\\anaconda3\\envs\\gen-ai-lang-chain-2nd-ed\\Lib\\site-packages\\pydantic\\_internal\\_typing_extra.py:466\u001b[39m, in \u001b[36m_eval_type_backport\u001b[39m\u001b[34m(value, globalns, localns, type_params)\u001b[39m\n\u001b[32m    465\u001b[39m \u001b[38;5;28;01mtry\u001b[39;00m:\n\u001b[32m--> \u001b[39m\u001b[32m466\u001b[39m     \u001b[38;5;28;01mreturn\u001b[39;00m \u001b[43m_eval_type\u001b[49m\u001b[43m(\u001b[49m\u001b[43mvalue\u001b[49m\u001b[43m,\u001b[49m\u001b[43m \u001b[49m\u001b[43mglobalns\u001b[49m\u001b[43m,\u001b[49m\u001b[43m \u001b[49m\u001b[43mlocalns\u001b[49m\u001b[43m,\u001b[49m\u001b[43m \u001b[49m\u001b[43mtype_params\u001b[49m\u001b[43m)\u001b[49m\n\u001b[32m    467\u001b[39m \u001b[38;5;28;01mexcept\u001b[39;00m \u001b[38;5;167;01mTypeError\u001b[39;00m \u001b[38;5;28;01mas\u001b[39;00m e:\n",
      "\u001b[36mFile \u001b[39m\u001b[32mc:\\Users\\saadn\\anaconda3\\envs\\gen-ai-lang-chain-2nd-ed\\Lib\\site-packages\\pydantic\\_internal\\_typing_extra.py:500\u001b[39m, in \u001b[36m_eval_type\u001b[39m\u001b[34m(value, globalns, localns, type_params)\u001b[39m\n\u001b[32m    499\u001b[39m \u001b[38;5;28;01melse\u001b[39;00m:\n\u001b[32m--> \u001b[39m\u001b[32m500\u001b[39m     \u001b[38;5;28;01mreturn\u001b[39;00m \u001b[43mtyping\u001b[49m\u001b[43m.\u001b[49m\u001b[43m_eval_type\u001b[49m\u001b[43m(\u001b[49m\u001b[43m  \u001b[49m\u001b[38;5;66;43;03m# type: ignore\u001b[39;49;00m\n\u001b[32m    501\u001b[39m \u001b[43m        \u001b[49m\u001b[43mvalue\u001b[49m\u001b[43m,\u001b[49m\u001b[43m \u001b[49m\u001b[43mglobalns\u001b[49m\u001b[43m,\u001b[49m\u001b[43m \u001b[49m\u001b[43mlocalns\u001b[49m\n\u001b[32m    502\u001b[39m \u001b[43m    \u001b[49m\u001b[43m)\u001b[49m\n",
      "\u001b[36mFile \u001b[39m\u001b[32mc:\\Users\\saadn\\anaconda3\\envs\\gen-ai-lang-chain-2nd-ed\\Lib\\typing.py:415\u001b[39m, in \u001b[36m_eval_type\u001b[39m\u001b[34m(t, globalns, localns, type_params, recursive_guard)\u001b[39m\n\u001b[32m    414\u001b[39m \u001b[38;5;28;01mif\u001b[39;00m \u001b[38;5;28misinstance\u001b[39m(t, ForwardRef):\n\u001b[32m--> \u001b[39m\u001b[32m415\u001b[39m     \u001b[38;5;28;01mreturn\u001b[39;00m \u001b[43mt\u001b[49m\u001b[43m.\u001b[49m\u001b[43m_evaluate\u001b[49m\u001b[43m(\u001b[49m\u001b[43mglobalns\u001b[49m\u001b[43m,\u001b[49m\u001b[43m \u001b[49m\u001b[43mlocalns\u001b[49m\u001b[43m,\u001b[49m\u001b[43m \u001b[49m\u001b[43mtype_params\u001b[49m\u001b[43m,\u001b[49m\u001b[43m \u001b[49m\u001b[43mrecursive_guard\u001b[49m\u001b[43m=\u001b[49m\u001b[43mrecursive_guard\u001b[49m\u001b[43m)\u001b[49m\n\u001b[32m    416\u001b[39m \u001b[38;5;28;01mif\u001b[39;00m \u001b[38;5;28misinstance\u001b[39m(t, (_GenericAlias, GenericAlias, types.UnionType)):\n",
      "\u001b[36mFile \u001b[39m\u001b[32mc:\\Users\\saadn\\anaconda3\\envs\\gen-ai-lang-chain-2nd-ed\\Lib\\typing.py:947\u001b[39m, in \u001b[36mForwardRef._evaluate\u001b[39m\u001b[34m(self, globalns, localns, type_params, recursive_guard)\u001b[39m\n\u001b[32m    944\u001b[39m             localns.pop(param_name, \u001b[38;5;28;01mNone\u001b[39;00m)\n\u001b[32m    946\u001b[39m type_ = _type_check(\n\u001b[32m--> \u001b[39m\u001b[32m947\u001b[39m     \u001b[38;5;28;43meval\u001b[39;49m\u001b[43m(\u001b[49m\u001b[38;5;28;43mself\u001b[39;49m\u001b[43m.\u001b[49m\u001b[43m__forward_code__\u001b[49m\u001b[43m,\u001b[49m\u001b[43m \u001b[49m\u001b[43mglobalns\u001b[49m\u001b[43m,\u001b[49m\u001b[43m \u001b[49m\u001b[43mlocalns\u001b[49m\u001b[43m)\u001b[49m,\n\u001b[32m    948\u001b[39m     \u001b[33m\"\u001b[39m\u001b[33mForward references must evaluate to types.\u001b[39m\u001b[33m\"\u001b[39m,\n\u001b[32m    949\u001b[39m     is_argument=\u001b[38;5;28mself\u001b[39m.__forward_is_argument__,\n\u001b[32m    950\u001b[39m     allow_special_forms=\u001b[38;5;28mself\u001b[39m.__forward_is_class__,\n\u001b[32m    951\u001b[39m )\n\u001b[32m    952\u001b[39m \u001b[38;5;28mself\u001b[39m.__forward_value__ = _eval_type(\n\u001b[32m    953\u001b[39m     type_,\n\u001b[32m    954\u001b[39m     globalns,\n\u001b[32m   (...)\u001b[39m\u001b[32m    957\u001b[39m     recursive_guard=(recursive_guard | {\u001b[38;5;28mself\u001b[39m.__forward_arg__}),\n\u001b[32m    958\u001b[39m )\n",
      "\u001b[36mFile \u001b[39m\u001b[32m<string>:1\u001b[39m\n",
      "\u001b[31mNameError\u001b[39m: name 'BaseCache' is not defined",
      "\nThe above exception was the direct cause of the following exception:\n",
      "\u001b[31mPydanticUndefinedAnnotation\u001b[39m               Traceback (most recent call last)",
      "\u001b[36mCell\u001b[39m\u001b[36m \u001b[39m\u001b[32mIn[1]\u001b[39m\u001b[32m, line 9\u001b[39m\n\u001b[32m      6\u001b[39m langchain_community.llms.fake.\u001b[34m__dict__\u001b[39m[\u001b[33m\"\u001b[39m\u001b[33mUnion\u001b[39m\u001b[33m\"\u001b[39m] = Union\n\u001b[32m      8\u001b[39m \u001b[38;5;66;03m# Rebuild the model\u001b[39;00m\n\u001b[32m----> \u001b[39m\u001b[32m9\u001b[39m \u001b[43mFakeListLLM\u001b[49m\u001b[43m.\u001b[49m\u001b[43mmodel_rebuild\u001b[49m\u001b[43m(\u001b[49m\u001b[43m)\u001b[49m\n\u001b[32m     11\u001b[39m \u001b[38;5;66;03m# Now you can use it safely\u001b[39;00m\n\u001b[32m     12\u001b[39m fake_llm = FakeListLLM(responses=[\u001b[33m\"\u001b[39m\u001b[33mHello\u001b[39m\u001b[33m\"\u001b[39m])\n",
      "\u001b[36mFile \u001b[39m\u001b[32mc:\\Users\\saadn\\anaconda3\\envs\\gen-ai-lang-chain-2nd-ed\\Lib\\site-packages\\pydantic\\main.py:654\u001b[39m, in \u001b[36mBaseModel.model_rebuild\u001b[39m\u001b[34m(cls, force, raise_errors, _parent_namespace_depth, _types_namespace)\u001b[39m\n\u001b[32m    652\u001b[39m     _mock_val_ser.set_model_mocks(\u001b[38;5;28mcls\u001b[39m, \u001b[33mf\u001b[39m\u001b[33m'\u001b[39m\u001b[33m`\u001b[39m\u001b[38;5;132;01m{\u001b[39;00mexc.name\u001b[38;5;132;01m}\u001b[39;00m\u001b[33m`\u001b[39m\u001b[33m'\u001b[39m)\n\u001b[32m    653\u001b[39m     \u001b[38;5;28;01mif\u001b[39;00m raise_errors:\n\u001b[32m--> \u001b[39m\u001b[32m654\u001b[39m         \u001b[38;5;28;01mraise\u001b[39;00m exc \u001b[38;5;28;01mfrom\u001b[39;00m\u001b[38;5;250m \u001b[39m\u001b[34;01me\u001b[39;00m\n\u001b[32m    656\u001b[39m \u001b[38;5;28;01mif\u001b[39;00m \u001b[38;5;129;01mnot\u001b[39;00m raise_errors \u001b[38;5;129;01mand\u001b[39;00m \u001b[38;5;129;01mnot\u001b[39;00m \u001b[38;5;28mcls\u001b[39m.__pydantic_fields_complete__:\n\u001b[32m    657\u001b[39m     \u001b[38;5;66;03m# No need to continue with schema gen, it is guaranteed to fail\u001b[39;00m\n\u001b[32m    658\u001b[39m     \u001b[38;5;28;01mreturn\u001b[39;00m \u001b[38;5;28;01mFalse\u001b[39;00m\n",
      "\u001b[31mPydanticUndefinedAnnotation\u001b[39m: name 'BaseCache' is not defined\n\nFor further information visit https://errors.pydantic.dev/2.11/u/undefined-annotation"
     ]
    }
   ],
   "source": [
    "from langchain_community.llms import FakeListLLM\n",
    "\n",
    "# Create a fake LLM that always returns the same responses\n",
    "fake_llm = FakeListLLM(responses=[\"Hello\"])\n",
    "\n",
    "result = fake_llm.invoke(\"Any input will return Hello\")\n",
    "print(result)  # Output: Hello"
   ]
  },
  {
   "cell_type": "code",
   "execution_count": null,
   "id": "f341d1e2",
   "metadata": {},
   "outputs": [],
   "source": [
    "# ...existing code...\n",
    "from langchain_community.llms.fake import FakeListLLM\n",
    "\n",
    "# Create a fake LLM that always returns the same responses\n",
    "fake_llm = FakeListLLM(responses=[\"Hello\"])\n",
    "\n",
    "result = fake_llm.invoke(\"Any input will return Hello\")\n",
    "print(result)  # Output: Hello\n",
    "# ...existing code..."
   ]
  },
  {
   "cell_type": "markdown",
   "id": "14836403-b8ca-4f64-8f87-482b27bfead4",
   "metadata": {},
   "source": [
    "The default interface to work with LLMs if the Chat interface though."
   ]
  },
  {
   "cell_type": "code",
   "execution_count": 8,
   "id": "initial_id",
   "metadata": {},
   "outputs": [],
   "source": [
    "from langchain_anthropic import ChatAnthropic\n",
    "# or: from langchain_openai.chat_models import ChatOpenAI\n",
    "\n",
    "from langchain_core.messages import SystemMessage, HumanMessage\n",
    "\n",
    "# specifying a model:\n",
    "chat = ChatAnthropic(model=\"claude-3-opus-20240229\")\n",
    "# or:\n",
    "# chat = ChatOpenAI(model='gpt-4')\n",
    "\n",
    "# messages:\n",
    "messages = [\n",
    "    SystemMessage(content=\"You're a helpful programming assistant\"),\n",
    "    HumanMessage(content=\"Write a Python function to calculate factorial\")\n",
    "]\n",
    "response = chat.invoke(messages)"
   ]
  },
  {
   "cell_type": "code",
   "execution_count": 9,
   "id": "1c8e1e29-b19a-47d7-9b54-cc8a2a6f1d64",
   "metadata": {},
   "outputs": [
    {
     "name": "stdout",
     "output_type": "stream",
     "text": [
      "Certainly! Here's a Python function that calculates the factorial of a non-negative integer:\n",
      "\n",
      "```python\n",
      "def factorial(n):\n",
      "    if n < 0:\n",
      "        raise ValueError(\"Factorial is not defined for negative numbers.\")\n",
      "    \n",
      "    if n == 0 or n == 1:\n",
      "        return 1\n",
      "    \n",
      "    result = 1\n",
      "    for i in range(2, n + 1):\n",
      "        result *= i\n",
      "    \n",
      "    return result\n",
      "```\n",
      "\n",
      "Explanation:\n",
      "1. The function takes a single parameter `n`, which represents the number for which we want to calculate the factorial.\n",
      "\n",
      "2. We start by checking if `n` is negative. If it is, we raise a `ValueError` because factorial is not defined for negative numbers.\n",
      "\n",
      "3. Next, we check if `n` is equal to 0 or 1. If it is, we return 1 since the factorial of 0 and 1 is defined as 1.\n",
      "\n",
      "4. If `n` is greater than 1, we initialize a variable `result` to 1. This variable will store the factorial value.\n",
      "\n",
      "5. We use a `for` loop to iterate from 2 to `n` (inclusive). In each iteration, we multiply `result` by the current value of `i`. This effectively calculates the factorial by multiplying all the numbers from 2 to `n`.\n",
      "\n",
      "6. Finally, we return the calculated factorial value stored in `result`.\n",
      "\n",
      "Here are a few examples of how to use the `factorial` function:\n",
      "\n",
      "```python\n",
      "print(factorial(0))  # Output: 1\n",
      "print(factorial(1))  # Output: 1\n",
      "print(factorial(5))  # Output: 120\n",
      "print(factorial(10))  # Output: 3628800\n",
      "print(factorial(-5))  # Raises ValueError: Factorial is not defined for negative numbers.\n",
      "```\n",
      "\n",
      "The time complexity of this factorial function is O(n) since it iterates from 2 to n. The space complexity is O(1) as it only uses a constant amount of additional space.\n",
      "\n",
      "Note: For larger values of `n`, the factorial can quickly become very large and may exceed the maximum integer value that can be represented in Python. In such cases, you may need to use a library like `math.factorial()` or implement a more advanced algorithm to handle large factorial calculations.\n"
     ]
    }
   ],
   "source": [
    "print(response.content)"
   ]
  },
  {
   "cell_type": "code",
   "execution_count": null,
   "id": "29c814c7-c755-413e-8798-2960ab8bd28f",
   "metadata": {},
   "outputs": [],
   "source": []
  }
 ],
 "metadata": {
  "kernelspec": {
   "display_name": "gen-ai-lang-chain-2nd-ed",
   "language": "python",
   "name": "python3"
  },
  "language_info": {
   "codemirror_mode": {
    "name": "ipython",
    "version": 3
   },
   "file_extension": ".py",
   "mimetype": "text/x-python",
   "name": "python",
   "nbconvert_exporter": "python",
   "pygments_lexer": "ipython3",
   "version": "3.12.11"
  }
 },
 "nbformat": 4,
 "nbformat_minor": 5
}
